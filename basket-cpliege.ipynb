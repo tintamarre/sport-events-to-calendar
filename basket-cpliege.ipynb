{
 "cells": [
  {
   "cell_type": "code",
   "execution_count": 27,
   "metadata": {},
   "outputs": [
    {
     "name": "stdout",
     "output_type": "stream",
     "text": [
      "Defaulting to user installation because normal site-packages is not writeable\n",
      "Requirement already satisfied: appnope==0.1.4 in /Users/martin/Library/Python/3.9/lib/python/site-packages (from -r requirements.txt (line 1)) (0.1.4)\n",
      "Requirement already satisfied: asttokens==2.4.1 in /Users/martin/Library/Python/3.9/lib/python/site-packages (from -r requirements.txt (line 2)) (2.4.1)\n",
      "Requirement already satisfied: beautifulsoup4==4.12.3 in /Users/martin/Library/Python/3.9/lib/python/site-packages (from -r requirements.txt (line 3)) (4.12.3)\n",
      "Requirement already satisfied: certifi==2024.7.4 in /Users/martin/Library/Python/3.9/lib/python/site-packages (from -r requirements.txt (line 4)) (2024.7.4)\n",
      "Requirement already satisfied: charset-normalizer==3.3.2 in /Users/martin/Library/Python/3.9/lib/python/site-packages (from -r requirements.txt (line 5)) (3.3.2)\n",
      "Requirement already satisfied: comm==0.2.2 in /Users/martin/Library/Python/3.9/lib/python/site-packages (from -r requirements.txt (line 6)) (0.2.2)\n",
      "Requirement already satisfied: debugpy==1.8.5 in /Users/martin/Library/Python/3.9/lib/python/site-packages (from -r requirements.txt (line 7)) (1.8.5)\n",
      "Requirement already satisfied: decorator==5.1.1 in /Users/martin/Library/Python/3.9/lib/python/site-packages (from -r requirements.txt (line 8)) (5.1.1)\n",
      "Requirement already satisfied: executing==2.0.1 in /Users/martin/Library/Python/3.9/lib/python/site-packages (from -r requirements.txt (line 9)) (2.0.1)\n",
      "Requirement already satisfied: html5lib==1.1 in /Users/martin/Library/Python/3.9/lib/python/site-packages (from -r requirements.txt (line 10)) (1.1)\n",
      "Requirement already satisfied: icalendar==5.0.13 in /Users/martin/Library/Python/3.9/lib/python/site-packages (from -r requirements.txt (line 11)) (5.0.13)\n",
      "Requirement already satisfied: idna==3.7 in /Users/martin/Library/Python/3.9/lib/python/site-packages (from -r requirements.txt (line 12)) (3.7)\n",
      "Requirement already satisfied: jedi==0.19.1 in /Users/martin/Library/Python/3.9/lib/python/site-packages (from -r requirements.txt (line 13)) (0.19.1)\n",
      "Requirement already satisfied: lxml==5.3.0 in /Users/martin/Library/Python/3.9/lib/python/site-packages (from -r requirements.txt (line 14)) (5.3.0)\n",
      "Requirement already satisfied: lxml_html_clean in /Users/martin/Library/Python/3.9/lib/python/site-packages (from -r requirements.txt (line 15)) (0.4.2)\n",
      "Requirement already satisfied: matplotlib-inline==0.1.7 in /Users/martin/Library/Python/3.9/lib/python/site-packages (from -r requirements.txt (line 16)) (0.1.7)\n",
      "Requirement already satisfied: nest-asyncio==1.6.0 in /Users/martin/Library/Python/3.9/lib/python/site-packages (from -r requirements.txt (line 17)) (1.6.0)\n",
      "Requirement already satisfied: packaging==24.1 in /Users/martin/Library/Python/3.9/lib/python/site-packages (from -r requirements.txt (line 18)) (24.1)\n",
      "Requirement already satisfied: pandas==2.2.2 in /Users/martin/Library/Python/3.9/lib/python/site-packages (from -r requirements.txt (line 19)) (2.2.2)\n",
      "Requirement already satisfied: parso==0.8.4 in /Users/martin/Library/Python/3.9/lib/python/site-packages (from -r requirements.txt (line 20)) (0.8.4)\n",
      "Requirement already satisfied: pexpect==4.9.0 in /Users/martin/Library/Python/3.9/lib/python/site-packages (from -r requirements.txt (line 21)) (4.9.0)\n",
      "Requirement already satisfied: platformdirs==4.2.2 in /Users/martin/Library/Python/3.9/lib/python/site-packages (from -r requirements.txt (line 22)) (4.2.2)\n",
      "Requirement already satisfied: prompt_toolkit==3.0.47 in /Users/martin/Library/Python/3.9/lib/python/site-packages (from -r requirements.txt (line 23)) (3.0.47)\n",
      "Requirement already satisfied: psutil==6.0.0 in /Users/martin/Library/Python/3.9/lib/python/site-packages (from -r requirements.txt (line 24)) (6.0.0)\n",
      "Requirement already satisfied: ptyprocess==0.7.0 in /Users/martin/Library/Python/3.9/lib/python/site-packages (from -r requirements.txt (line 25)) (0.7.0)\n",
      "Requirement already satisfied: pure_eval==0.2.3 in /Users/martin/Library/Python/3.9/lib/python/site-packages (from -r requirements.txt (line 26)) (0.2.3)\n",
      "Requirement already satisfied: Pygments==2.18.0 in /Users/martin/Library/Python/3.9/lib/python/site-packages (from -r requirements.txt (line 27)) (2.18.0)\n",
      "Requirement already satisfied: python-dateutil==2.9.0.post0 in /Users/martin/Library/Python/3.9/lib/python/site-packages (from -r requirements.txt (line 28)) (2.9.0.post0)\n",
      "Requirement already satisfied: python-slugify==8.0.4 in /Users/martin/Library/Python/3.9/lib/python/site-packages (from -r requirements.txt (line 29)) (8.0.4)\n",
      "Requirement already satisfied: pytz==2024.1 in /Users/martin/Library/Python/3.9/lib/python/site-packages (from -r requirements.txt (line 30)) (2024.1)\n",
      "Requirement already satisfied: pyzmq==26.1.0 in /Users/martin/Library/Python/3.9/lib/python/site-packages (from -r requirements.txt (line 31)) (26.1.0)\n",
      "Requirement already satisfied: requests==2.32.3 in /Users/martin/Library/Python/3.9/lib/python/site-packages (from -r requirements.txt (line 32)) (2.32.3)\n",
      "Requirement already satisfied: six==1.16.0 in /Users/martin/Library/Python/3.9/lib/python/site-packages (from -r requirements.txt (line 33)) (1.16.0)\n",
      "Requirement already satisfied: soupsieve==2.6 in /Users/martin/Library/Python/3.9/lib/python/site-packages (from -r requirements.txt (line 34)) (2.6)\n",
      "Requirement already satisfied: stack-data==0.6.3 in /Users/martin/Library/Python/3.9/lib/python/site-packages (from -r requirements.txt (line 35)) (0.6.3)\n",
      "Requirement already satisfied: text-unidecode==1.3 in /Users/martin/Library/Python/3.9/lib/python/site-packages (from -r requirements.txt (line 36)) (1.3)\n",
      "Requirement already satisfied: tornado==6.4.1 in /Users/martin/Library/Python/3.9/lib/python/site-packages (from -r requirements.txt (line 37)) (6.4.1)\n",
      "Requirement already satisfied: traitlets==5.14.3 in /Users/martin/Library/Python/3.9/lib/python/site-packages (from -r requirements.txt (line 38)) (5.14.3)\n",
      "Requirement already satisfied: tzdata==2024.1 in /Users/martin/Library/Python/3.9/lib/python/site-packages (from -r requirements.txt (line 39)) (2024.1)\n",
      "Requirement already satisfied: urllib3==2.2.2 in /Users/martin/Library/Python/3.9/lib/python/site-packages (from -r requirements.txt (line 40)) (2.2.2)\n",
      "Requirement already satisfied: uuid==1.30 in /Users/martin/Library/Python/3.9/lib/python/site-packages (from -r requirements.txt (line 41)) (1.30)\n",
      "Requirement already satisfied: wcwidth==0.2.13 in /Users/martin/Library/Python/3.9/lib/python/site-packages (from -r requirements.txt (line 42)) (0.2.13)\n",
      "Requirement already satisfied: webencodings==0.5.1 in /Users/martin/Library/Python/3.9/lib/python/site-packages (from -r requirements.txt (line 43)) (0.5.1)\n",
      "Requirement already satisfied: numpy>=1.22.4 in /Users/martin/Library/Python/3.9/lib/python/site-packages (from pandas==2.2.2->-r requirements.txt (line 19)) (1.24.2)\n",
      "\u001b[33mWARNING: You are using pip version 21.2.4; however, version 25.1.1 is available.\n",
      "You should consider upgrading via the '/Library/Developer/CommandLineTools/usr/bin/python3 -m pip install --upgrade pip' command.\u001b[0m\n"
     ]
    }
   ],
   "source": [
    "!pip3 install -r requirements.txt"
   ]
  },
  {
   "cell_type": "code",
   "execution_count": 28,
   "metadata": {},
   "outputs": [
    {
     "name": "stdout",
     "output_type": "stream",
     "text": [
      "{'44 RBC ESNEUX': 'http://www.cpliege.be/clubs/club0044.asp', '493 RABC ENSIVAL': 'http://www.cpliege.be/clubs/club0493.asp', '1338 REN. MONTEGNEE': 'http://www.cpliege.be/Clubs/club1338.asp', '2410 ETOILE JUPILLE': 'http://www.cpliege.be/Clubs/club2410.asp', '2732 BC OLNE': 'http://www.cpliege.be/clubs/club2732.asp', '46 PEPINSTER EAST B': 'http://www.cpliege.be/clubs/club0046.asp', '524 R 4A AYWAILLE-HAMOIR': 'http://www.cpliege.be/clubs/club0524.asp', '1377 HENRI CHAPELLE': 'http://www.cpliege.be/Clubs/club1377.asp', '2440 BCM HERSTAL': 'http://www.cpliege.be/Clubs/club2440.asp', '2733 ESL UNITED': 'http://www.cpliege.be/clubs/club2733.asp', '57 ATLAS A JUPILLE': 'http://www.cpliege.be/clubs/club0057.asp', '550 ROYAL BC WANZE': 'http://www.cpliege.be/clubs/club0550.asp', '1388 RBC AUBEL': 'http://www.cpliege.be/Clubs/club1388.asp', '2458 BBC EUPEN': 'http://www.cpliege.be/Clubs/club2458.asp', '2744 MARCHIN BASKET': 'http://www.cpliege.be/Clubs/club2744.asp', '68 RB UNION LIEGE': 'http://www.cpliege.be/clubs/club0068.asp', '565 RBC WELKENRAEDT': 'http://www.cpliege.be/clubs/club0565.asp', '1429 R HT-PRE OUGREE': 'http://www.cpliege.be/Clubs/club1429.asp', '2499 GIANTS BRAIVES': 'http://www.cpliege.be/Clubs/club2499.asp', '2746 BC CRISNEE': 'http://www.cpliege.be/Clubs/club2746.asp', '78 PRAYON TROOZ': 'http://www.cpliege.be/clubs/club0078.asp', '691 RBC STAVELOT': 'http://www.cpliege.be/clubs/club0691.asp', '1466 RBC ALLEUR': 'http://www.cpliege.be/Clubs/club1466.asp', '2511 UN HUY BASKET': 'http://www.cpliege.be/Clubs/club2511.asp', '88 VAIL. JUPILLE': 'http://www.cpliege.be/clubs/club0088.asp', '709 ABC WAREMME': 'http://www.cpliege.be/clubs/club0709.asp', '1555 ALL. FLEMALLE': 'http://www.cpliege.be/Clubs/club1555.asp', '2558 LA VILLERSOISE': 'http://www.cpliege.be/Clubs/club2558.asp', '91 ROYAL SPA BC': 'http://www.cpliege.be/clubs/club0091.asp', '854 BC SPRIMONT': 'http://www.cpliege.be/clubs/club0854.asp', '1595 RBC BLEGNY': 'http://www.cpliege.be/Clubs/club1595.asp', '2563 CS OUTREMEUSE': 'http://www.cpliege.be/Clubs/club2563.asp', '97 RB TILFF': 'http://www.cpliege.be/clubs/club0097.asp', '914 RBC CROATIA OUPEYE': 'http://www.cpliege.be/clubs/club0914.asp', '1623 REBOND NEUVILLE': 'http://www.cpliege.be/Clubs/club1623.asp', '2657 DF BC MALMEDY': 'http://www.cpliege.be/Clubs/club2657.asp', '108 ROYAL MOSA AC 1941': 'http://www.cpliege.be/clubs/club0108.asp', '928 ORP JAUCHE': 'http://www.cpliege.be/clubs/club0928.asp', '1727 ROYALE US AWANS': 'http://www.cpliege.be/Clubs/club1727.asp', '2663 COLLEGE S LOUIS': 'http://www.cpliege.be/Clubs/club2663.asp', '169 BC VERVIERS': 'http://www.cpliege.be/clubs/club0169.asp', '961 RSW LIEGE BASKET': 'http://www.cpliege.be/clubs/club0961.asp', '1728 ROYAL BASKET OTHEE': 'http://www.cpliege.be/Clubs/club1728.asp', '196 AVENIR JUPILLE': 'http://www.cpliege.be/clubs/club0196.asp', '1034 RBC HANEFFE': 'http://www.cpliege.be/clubs/club1034.asp', '1741 ROYAL HERVE-BATTICE': 'http://www.cpliege.be/Clubs/club1741.asp', '2700 BC VERLAINE': 'http://www.cpliege.be/Clubs/club2700.asp', '197 RJS GRIVEGNEE': 'http://www.cpliege.be/clubs/club0197.asp', '1058 BC BELLEFLAMME': 'http://www.cpliege.be/clubs/club1058.asp', '1898 BC SANKT VITH': 'http://www.cpliege.be/Clubs/club1898.asp', '2708 EAST BELGIUM BCA': 'http://www.cpliege.be/clubs/club2708.asp', '236 RBC AWANS': 'http://www.cpliege.be/clubs/club0236.asp', '1200 BC NINANE': 'http://www.cpliege.be/clubs/club1200.asp', '2061 THEUX BC': 'http://www.cpliege.be/Clubs/club2061.asp', '2722 CRISTAL SGH': 'http://www.cpliege.be/clubs/club2722.asp', '425 ROYAL ANS BC': 'http://www.cpliege.be/clubs/club0425.asp', '1215 RBC DISON-ANDRIMONT': 'http://www.cpliege.be/clubs/club1215.asp', '2211 HARIMALIA BC': 'http://www.cpliege.be/clubs/club2211.asp', '2724 FLERON BBC': 'http://www.cpliege.be/clubs/club2724.asp', '428 MAIL. COMBLAIN': 'http://www.cpliege.be/clubs/club0428.asp', '1245 RBC VISE': 'http://www.cpliege.be/clubs/club1245.asp', '2309 HANNUT BC': 'http://www.cpliege.be/Clubs/club2309.asp', '2725 CONDROZ MODAVE': 'http://www.cpliege.be/clubs/club2725.asp', '434 R.UN.BELLAIRE': 'http://www.cpliege.be/clubs/club0434.asp', '1298 BC COINTE': 'http://www.cpliege.be/clubs/club1298.asp', '2329 BC TORES LIEGE': 'http://www.cpliege.be/Clubs/club2329.asp', '2731 BC REVEIL': 'http://www.cpliege.be/clubs/club2731.asp'}\n"
     ]
    }
   ],
   "source": [
    "import pandas as pd\n",
    "from bs4 import BeautifulSoup\n",
    "import requests\n",
    "import re\n",
    "import slugify\n",
    "import os\n",
    "\n",
    "clubs_url = \"http://www.cpliege.be/caleclub.asp\"\n",
    "\n",
    "clubs_url_html = requests.get(clubs_url).text\n",
    "\n",
    "soup = BeautifulSoup(clubs_url_html, \"html.parser\")\n",
    "\n",
    "# read html and get every links\n",
    "clubs = soup.find_all(\"a\")\n",
    "\n",
    "# tranform to get a dict with club name and url\n",
    "clubs_dict = {}\n",
    "for club in clubs:\n",
    "    # removes \"all whitespace characters (space, tab, newline, return, formfeed)\"\n",
    "    club_name = \" \".join(club.text.split())\n",
    "    clubs_dict[club_name] = \"http://www.cpliege.be/\" + club[\"href\"]\n",
    "\n",
    "print(clubs_dict)\n"
   ]
  },
  {
   "cell_type": "code",
   "execution_count": 29,
   "metadata": {},
   "outputs": [],
   "source": [
    "def get_club_agenda(club_url):\n",
    "    agenda = pd.read_html(club_url, header=5, encoding=\"ISO-8859-1\")[0]\n",
    "\n",
    "    # remove if column \"Unnamed: 7\" is empty OR starts with \"(\" and ends with \")\"\n",
    "    agenda = agenda[\n",
    "        ~(\n",
    "            agenda[\"Unnamed: 7\"].isnull()\n",
    "            | agenda[\"Unnamed: 7\"].str.startswith(\"(\")\n",
    "            & agenda[\"Unnamed: 7\"].str.endswith(\")\")\n",
    "        )\n",
    "    ]\n",
    "\n",
    "    print(f\"Agenda shape: {agenda.shape} from {club_url}\")\n",
    "\n",
    "    # rename columns\n",
    "    agenda.columns = [\n",
    "        \"Code\",\n",
    "        \"Unknown\",\n",
    "        \"Weekday\",\n",
    "        \"Date\",\n",
    "        \"Heure\",\n",
    "        \"Équipe 1\",\n",
    "        \"Équipe 2\",\n",
    "        \"Catégorie\",\n",
    "        \"Autre\",\n",
    "    ]\n",
    "\n",
    "    # drop \"Unknown\" column\n",
    "    agenda.drop(\"Unknown\", axis=1, inplace=True)\n",
    "\n",
    "    agenda = agenda[~agenda[\"Date\"].isnull()]\n",
    "    agenda = agenda[~agenda[\"Heure\"].isnull()]\n",
    "\n",
    "    # Heure to string\n",
    "    agenda[\"Heure\"] = agenda[\"Heure\"].astype(str)\n",
    "\n",
    "    # if Heure is \".\", set it to 00:00\n",
    "    agenda.loc[agenda[\"Heure\"] == \".\", \"Heure\"] = \"00:00\"\n",
    "\n",
    "    # replace . and ; in Heure by :\n",
    "    for char in [\".\", \";\"]:\n",
    "        agenda[\"Heure\"] = agenda[\"Heure\"].str.replace(char, \":\", regex=False)\n",
    "\n",
    "    # if Heure contains only one number after : add a 0\n",
    "    agenda[\"Heure\"] = agenda[\"Heure\"].apply(\n",
    "        lambda x: x if len(x.split(\":\")[1]) == 2 else x + \"0\"\n",
    "    )\n",
    "\n",
    "    # remove Weekday column\n",
    "    agenda.drop(\"Weekday\", axis=1, inplace=True)\n",
    "\n",
    "    # Date as datetime\n",
    "    agenda[\"Date\"] = pd.to_datetime(agenda[\"Date\"], format=\"%d/%m/%y\")\n",
    "\n",
    "    # order by catégorie and then by date\n",
    "    agenda.sort_values(by=[\"Catégorie\", \"Date\"], inplace=True)\n",
    "\n",
    "    return agenda"
   ]
  },
  {
   "cell_type": "code",
   "execution_count": 30,
   "metadata": {},
   "outputs": [],
   "source": [
    "from icalendar import Calendar, Event\n",
    "import uuid\n",
    "from datetime import datetime\n",
    "\n",
    "\n",
    "def generate_ics(agenda, filename, cal_name, club_url):\n",
    "    cal = Calendar()\n",
    "\n",
    "    cal.add(\"version\", \"2.0\")\n",
    "\n",
    "    for event in agenda.iterrows():\n",
    "        e = Event()\n",
    "\n",
    "        name = (\n",
    "            \"🏀 \"\n",
    "            + event[1][\"Catégorie\"]\n",
    "            + \": \"\n",
    "            + event[1][\"Équipe 1\"]\n",
    "            + \" et \"\n",
    "            + event[1][\"Équipe 2\"]\n",
    "        )\n",
    "\n",
    "        code = event[1][\"Code\"]\n",
    "        description = \"[\" + code + \"] — \" + name\n",
    "\n",
    "        startime = (\n",
    "            pd.to_datetime(event[1][\"Date\"]).strftime(\"%Y-%m-%d\")\n",
    "            + \" \"\n",
    "            + event[1][\"Heure\"]\n",
    "        )\n",
    "        endtime = pd.to_datetime(startime) + pd.Timedelta(minutes=120)\n",
    "\n",
    "        # time zone\n",
    "        location = \"Europe/Brussels\"\n",
    "\n",
    "        # from local time to UTC\n",
    "        startime = pd.to_datetime(startime).tz_localize(location).tz_convert(\"UTC\")\n",
    "        endtime = pd.to_datetime(endtime).tz_localize(location).tz_convert(\"UTC\")\n",
    "\n",
    "        # if [\"Équipe 1\"] is not empty\n",
    "        if not pd.isnull(event[1][\"Équipe 1\"]):\n",
    "            location = event[1][\"Équipe 1\"]\n",
    "        else:\n",
    "            location = \"\"\n",
    "\n",
    "        # generate uuid from name\n",
    "        event_uuid = uuid.uuid5(uuid.NAMESPACE_DNS, name)\n",
    "\n",
    "        e.begin = startime.strftime(\"%Y-%m-%d %H:%M:%S%Z\")\n",
    "        e.end = endtime.strftime(\"%Y-%m-%d %H:%M:%S%Z\")\n",
    "        e.add(\"summary\", name)\n",
    "        e.add(\"dtstart\", startime)\n",
    "        e.add(\"dtend\", endtime)\n",
    "        # e.add('dtstamp', datetime.now())\n",
    "        e.add(\"location\", location)\n",
    "        e.add(\"priority\", 5)\n",
    "        e.add(\"sequence\", 1)\n",
    "        e.add(\"description\", description)\n",
    "        e.add(\"url\", club_url)\n",
    "        e.add(\"uid\", event_uuid)\n",
    "\n",
    "        cal.add_component(e)\n",
    "\n",
    "    # save to file\n",
    "    with open(filename, \"wb\") as f:\n",
    "        f.write(cal.to_ical())\n",
    "        f.close()"
   ]
  },
  {
   "cell_type": "code",
   "execution_count": 31,
   "metadata": {},
   "outputs": [
    {
     "name": "stderr",
     "output_type": "stream",
     "text": [
      "/Users/martin/Library/Python/3.9/lib/python/site-packages/bs4/__init__.py:228: UserWarning: You provided Unicode markup but also provided a value for from_encoding. Your from_encoding will be ignored.\n",
      "  warnings.warn(\"You provided Unicode markup but also provided a value for from_encoding. Your from_encoding will be ignored.\")\n"
     ]
    },
    {
     "name": "stdout",
     "output_type": "stream",
     "text": [
      "Agenda shape: (294, 9) from http://www.cpliege.be/clubs/club0044.asp\n",
      "Generating 44 RBC ESNEUX - AW226001 calendar at data/44-rbc-esneux/aw226001.ics\n",
      "Generating 44 RBC ESNEUX - AW226005 calendar at data/44-rbc-esneux/aw226005.ics\n",
      "Generating 44 RBC ESNEUX - AWBB DD - POULE F calendar at data/44-rbc-esneux/awbb-dd-poule-f.ics\n",
      "Generating 44 RBC ESNEUX - CPE PROV DAMES calendar at data/44-rbc-esneux/cpe-prov-dames.ics\n",
      "Generating 44 RBC ESNEUX - DD - DIVISION 1 calendar at data/44-rbc-esneux/dd-division-1.ics\n",
      "Generating 44 RBC ESNEUX - DD - DIVISION 3 A calendar at data/44-rbc-esneux/dd-division-3-a.ics\n",
      "Generating 44 RBC ESNEUX - DD - REGIONALE 2 A calendar at data/44-rbc-esneux/dd-regionale-2-a.ics\n",
      "Generating 44 RBC ESNEUX - R 4A AYWAILLE-HAMOIR A (+ 5) calendar at data/44-rbc-esneux/r-4a-aywaille-hamoir-a-5.ics\n",
      "Generating 44 RBC ESNEUX - U 10 - MM C calendar at data/44-rbc-esneux/u-10-mm-c.ics\n",
      "Generating 44 RBC ESNEUX - U 10 - MM D calendar at data/44-rbc-esneux/u-10-mm-d.ics\n",
      "Generating 44 RBC ESNEUX - U 10 - MM J calendar at data/44-rbc-esneux/u-10-mm-j.ics\n",
      "Generating 44 RBC ESNEUX - U 12 - MM C calendar at data/44-rbc-esneux/u-12-mm-c.ics\n",
      "Generating 44 RBC ESNEUX - U 12 - MM H calendar at data/44-rbc-esneux/u-12-mm-h.ics\n",
      "Generating 44 RBC ESNEUX - U 14 - PROV MM C calendar at data/44-rbc-esneux/u-14-prov-mm-c.ics\n",
      "Generating 44 RBC ESNEUX - U 14 - PROV MM D calendar at data/44-rbc-esneux/u-14-prov-mm-d.ics\n",
      "Generating 44 RBC ESNEUX - U 16 - ELITES MM B calendar at data/44-rbc-esneux/u-16-elites-mm-b.ics\n",
      "Generating 44 RBC ESNEUX - U 18 - ELITES MM C calendar at data/44-rbc-esneux/u-18-elites-mm-c.ics\n"
     ]
    },
    {
     "name": "stderr",
     "output_type": "stream",
     "text": [
      "/var/folders/zn/0wszm2k93n1_tvmfqd8t1_sc0000gn/T/ipykernel_3934/4233784187.py:29: SettingWithCopyWarning: \n",
      "A value is trying to be set on a copy of a slice from a DataFrame\n",
      "\n",
      "See the caveats in the documentation: https://pandas.pydata.org/pandas-docs/stable/user_guide/indexing.html#returning-a-view-versus-a-copy\n",
      "  agenda.drop(\"Unknown\", axis=1, inplace=True)\n"
     ]
    },
    {
     "name": "stdout",
     "output_type": "stream",
     "text": [
      "Generating 44 RBC ESNEUX - U 19 - DD A calendar at data/44-rbc-esneux/u-19-dd-a.ics\n",
      "Generating 44 RBC ESNEUX - U 7 - MM A calendar at data/44-rbc-esneux/u-7-mm-a.ics\n",
      "Generating 44 RBC ESNEUX - U 8 - MM E calendar at data/44-rbc-esneux/u-8-mm-e.ics\n"
     ]
    },
    {
     "name": "stderr",
     "output_type": "stream",
     "text": [
      "/Users/martin/Library/Python/3.9/lib/python/site-packages/bs4/__init__.py:228: UserWarning: You provided Unicode markup but also provided a value for from_encoding. Your from_encoding will be ignored.\n",
      "  warnings.warn(\"You provided Unicode markup but also provided a value for from_encoding. Your from_encoding will be ignored.\")\n"
     ]
    },
    {
     "name": "stdout",
     "output_type": "stream",
     "text": [
      "Agenda shape: (275, 9) from http://www.cpliege.be/clubs/club0493.asp\n",
      "Generating 493 RABC ENSIVAL - AW207002 calendar at data/493-rabc-ensival/aw207002.ics\n",
      "Generating 493 RABC ENSIVAL - AW207004 calendar at data/493-rabc-ensival/aw207004.ics\n",
      "Generating 493 RABC ENSIVAL - AW207008 calendar at data/493-rabc-ensival/aw207008.ics\n",
      "Generating 493 RABC ENSIVAL - AW207010 calendar at data/493-rabc-ensival/aw207010.ics\n",
      "Generating 493 RABC ENSIVAL - AWBB MM - POULE G calendar at data/493-rabc-ensival/awbb-mm-poule-g.ics\n",
      "Generating 493 RABC ENSIVAL - CPE PROV MESSIEURS calendar at data/493-rabc-ensival/cpe-prov-messieurs.ics\n",
      "Generating 493 RABC ENSIVAL - CPE PROV MINIMES MM calendar at data/493-rabc-ensival/cpe-prov-minimes-mm.ics\n",
      "Generating 493 RABC ENSIVAL - CPE PROV PUPILLES MM calendar at data/493-rabc-ensival/cpe-prov-pupilles-mm.ics\n",
      "Generating 493 RABC ENSIVAL - DD - DIVISION 1 calendar at data/493-rabc-ensival/dd-division-1.ics\n",
      "Generating 493 RABC ENSIVAL - MM - DIVISION 1 calendar at data/493-rabc-ensival/mm-division-1.ics\n",
      "Generating 493 RABC ENSIVAL - MM - DIVISION 3 B calendar at data/493-rabc-ensival/mm-division-3-b.ics\n",
      "Generating 493 RABC ENSIVAL - MM - DIVISION 4 E calendar at data/493-rabc-ensival/mm-division-4-e.ics\n",
      "Generating 493 RABC ENSIVAL - U 10 - MM F calendar at data/493-rabc-ensival/u-10-mm-f.ics\n",
      "Generating 493 RABC ENSIVAL - U 10 - MM H calendar at data/493-rabc-ensival/u-10-mm-h.ics\n",
      "Generating 493 RABC ENSIVAL - U 12 - DD calendar at data/493-rabc-ensival/u-12-dd.ics\n",
      "Generating 493 RABC ENSIVAL - U 12 - MM F calendar at data/493-rabc-ensival/u-12-mm-f.ics\n",
      "Generating 493 RABC ENSIVAL - U 12 - MM H calendar at data/493-rabc-ensival/u-12-mm-h.ics\n",
      "Generating 493 RABC ENSIVAL - U 14 - PROV MM C calendar at data/493-rabc-ensival/u-14-prov-mm-c.ics\n",
      "Generating 493 RABC ENSIVAL - U 14 - PROV MM D calendar at data/493-rabc-ensival/u-14-prov-mm-d.ics\n",
      "Generating 493 RABC ENSIVAL - U 16 - PROV MM A calendar at data/493-rabc-ensival/u-16-prov-mm-a.ics\n",
      "Generating 493 RABC ENSIVAL - U 8 - MM A calendar at data/493-rabc-ensival/u-8-mm-a.ics\n"
     ]
    },
    {
     "name": "stderr",
     "output_type": "stream",
     "text": [
      "/var/folders/zn/0wszm2k93n1_tvmfqd8t1_sc0000gn/T/ipykernel_3934/4233784187.py:29: SettingWithCopyWarning: \n",
      "A value is trying to be set on a copy of a slice from a DataFrame\n",
      "\n",
      "See the caveats in the documentation: https://pandas.pydata.org/pandas-docs/stable/user_guide/indexing.html#returning-a-view-versus-a-copy\n",
      "  agenda.drop(\"Unknown\", axis=1, inplace=True)\n",
      "/Users/martin/Library/Python/3.9/lib/python/site-packages/bs4/__init__.py:228: UserWarning: You provided Unicode markup but also provided a value for from_encoding. Your from_encoding will be ignored.\n",
      "  warnings.warn(\"You provided Unicode markup but also provided a value for from_encoding. Your from_encoding will be ignored.\")\n"
     ]
    },
    {
     "name": "stdout",
     "output_type": "stream",
     "text": [
      "Agenda shape: (77, 9) from http://www.cpliege.be/Clubs/club1338.asp\n",
      "Generating 1338 REN. MONTEGNEE - CPE PROV MESSIEURS calendar at data/1338-ren-montegnee/cpe-prov-messieurs.ics\n",
      "Generating 1338 REN. MONTEGNEE - MM - DIVISION 4 C calendar at data/1338-ren-montegnee/mm-division-4-c.ics\n",
      "Generating 1338 REN. MONTEGNEE - U 10 - MM J calendar at data/1338-ren-montegnee/u-10-mm-j.ics\n",
      "Generating 1338 REN. MONTEGNEE - U 14 - DD B calendar at data/1338-ren-montegnee/u-14-dd-b.ics\n",
      "Generating 1338 REN. MONTEGNEE - U 8 - MM D calendar at data/1338-ren-montegnee/u-8-mm-d.ics\n"
     ]
    },
    {
     "name": "stderr",
     "output_type": "stream",
     "text": [
      "/var/folders/zn/0wszm2k93n1_tvmfqd8t1_sc0000gn/T/ipykernel_3934/4233784187.py:29: SettingWithCopyWarning: \n",
      "A value is trying to be set on a copy of a slice from a DataFrame\n",
      "\n",
      "See the caveats in the documentation: https://pandas.pydata.org/pandas-docs/stable/user_guide/indexing.html#returning-a-view-versus-a-copy\n",
      "  agenda.drop(\"Unknown\", axis=1, inplace=True)\n",
      "/Users/martin/Library/Python/3.9/lib/python/site-packages/bs4/__init__.py:228: UserWarning: You provided Unicode markup but also provided a value for from_encoding. Your from_encoding will be ignored.\n",
      "  warnings.warn(\"You provided Unicode markup but also provided a value for from_encoding. Your from_encoding will be ignored.\")\n"
     ]
    },
    {
     "name": "stdout",
     "output_type": "stream",
     "text": [
      "Agenda shape: (158, 9) from http://www.cpliege.be/Clubs/club2410.asp\n",
      "Generating 2410 ETOILE JUPILLE - AW203002 calendar at data/2410-etoile-jupille/aw203002.ics\n",
      "Generating 2410 ETOILE JUPILLE - AW203008 calendar at data/2410-etoile-jupille/aw203008.ics\n",
      "Generating 2410 ETOILE JUPILLE - AW203010 calendar at data/2410-etoile-jupille/aw203010.ics\n",
      "Generating 2410 ETOILE JUPILLE - AWBB MM - POULE C calendar at data/2410-etoile-jupille/awbb-mm-poule-c.ics\n",
      "Generating 2410 ETOILE JUPILLE - CPE PROV MESSIEURS calendar at data/2410-etoile-jupille/cpe-prov-messieurs.ics\n",
      "Generating 2410 ETOILE JUPILLE - CPE PROV PUPILLES MM calendar at data/2410-etoile-jupille/cpe-prov-pupilles-mm.ics\n",
      "Generating 2410 ETOILE JUPILLE - DD - DIVISION 3 C calendar at data/2410-etoile-jupille/dd-division-3-c.ics\n",
      "Generating 2410 ETOILE JUPILLE - MM - DIVISION 1 calendar at data/2410-etoile-jupille/mm-division-1.ics\n",
      "Generating 2410 ETOILE JUPILLE - MM - DIVISION 4 A calendar at data/2410-etoile-jupille/mm-division-4-a.ics\n",
      "Generating 2410 ETOILE JUPILLE - MM - DIVISION 4 C calendar at data/2410-etoile-jupille/mm-division-4-c.ics\n",
      "Generating 2410 ETOILE JUPILLE - U 10 - MM B calendar at data/2410-etoile-jupille/u-10-mm-b.ics\n",
      "Generating 2410 ETOILE JUPILLE - U 12 - MM D calendar at data/2410-etoile-jupille/u-12-mm-d.ics\n",
      "Generating 2410 ETOILE JUPILLE - U 14 - ELITES MM A calendar at data/2410-etoile-jupille/u-14-elites-mm-a.ics\n"
     ]
    },
    {
     "name": "stderr",
     "output_type": "stream",
     "text": [
      "/var/folders/zn/0wszm2k93n1_tvmfqd8t1_sc0000gn/T/ipykernel_3934/4233784187.py:29: SettingWithCopyWarning: \n",
      "A value is trying to be set on a copy of a slice from a DataFrame\n",
      "\n",
      "See the caveats in the documentation: https://pandas.pydata.org/pandas-docs/stable/user_guide/indexing.html#returning-a-view-versus-a-copy\n",
      "  agenda.drop(\"Unknown\", axis=1, inplace=True)\n",
      "/Users/martin/Library/Python/3.9/lib/python/site-packages/bs4/__init__.py:228: UserWarning: You provided Unicode markup but also provided a value for from_encoding. Your from_encoding will be ignored.\n",
      "  warnings.warn(\"You provided Unicode markup but also provided a value for from_encoding. Your from_encoding will be ignored.\")\n",
      "/var/folders/zn/0wszm2k93n1_tvmfqd8t1_sc0000gn/T/ipykernel_3934/4233784187.py:29: SettingWithCopyWarning: \n",
      "A value is trying to be set on a copy of a slice from a DataFrame\n",
      "\n",
      "See the caveats in the documentation: https://pandas.pydata.org/pandas-docs/stable/user_guide/indexing.html#returning-a-view-versus-a-copy\n",
      "  agenda.drop(\"Unknown\", axis=1, inplace=True)\n"
     ]
    },
    {
     "name": "stdout",
     "output_type": "stream",
     "text": [
      "Agenda shape: (27, 9) from http://www.cpliege.be/clubs/club2732.asp\n",
      "Generating 2732 BC OLNE - CPE PROV MESSIEURS calendar at data/2732-bc-olne/cpe-prov-messieurs.ics\n",
      "Generating 2732 BC OLNE - MM - DIVISION 3 B calendar at data/2732-bc-olne/mm-division-3-b.ics\n"
     ]
    },
    {
     "name": "stderr",
     "output_type": "stream",
     "text": [
      "/Users/martin/Library/Python/3.9/lib/python/site-packages/bs4/__init__.py:228: UserWarning: You provided Unicode markup but also provided a value for from_encoding. Your from_encoding will be ignored.\n",
      "  warnings.warn(\"You provided Unicode markup but also provided a value for from_encoding. Your from_encoding will be ignored.\")\n"
     ]
    },
    {
     "name": "stdout",
     "output_type": "stream",
     "text": [
      "Agenda shape: (505, 9) from http://www.cpliege.be/clubs/club0046.asp\n",
      "Generating 46 PEPINSTER EAST B - AW210001 calendar at data/46-pepinster-east-b/aw210001.ics\n",
      "Generating 46 PEPINSTER EAST B - AW210008 calendar at data/46-pepinster-east-b/aw210008.ics\n",
      "Generating 46 PEPINSTER EAST B - AW210011 calendar at data/46-pepinster-east-b/aw210011.ics\n",
      "Generating 46 PEPINSTER EAST B - AW210014 calendar at data/46-pepinster-east-b/aw210014.ics\n",
      "Generating 46 PEPINSTER EAST B - AW235003 calendar at data/46-pepinster-east-b/aw235003.ics\n",
      "Generating 46 PEPINSTER EAST B - AW235005 calendar at data/46-pepinster-east-b/aw235005.ics\n",
      "Generating 46 PEPINSTER EAST B - AWBB DD - POULE O calendar at data/46-pepinster-east-b/awbb-dd-poule-o.ics\n",
      "Generating 46 PEPINSTER EAST B - AWBB MM - POULE J calendar at data/46-pepinster-east-b/awbb-mm-poule-j.ics\n",
      "Generating 46 PEPINSTER EAST B - BELGIQUE MM - POULE C calendar at data/46-pepinster-east-b/belgique-mm-poule-c.ics\n",
      "Generating 46 PEPINSTER EAST B - BNAHSEPCAB calendar at data/46-pepinster-east-b/bnahsepcab.ics\n",
      "Generating 46 PEPINSTER EAST B - BNAHSEPCAC calendar at data/46-pepinster-east-b/bnahsepcac.ics\n",
      "Generating 46 PEPINSTER EAST B - BNAHSEPCDA calendar at data/46-pepinster-east-b/bnahsepcda.ics\n",
      "Generating 46 PEPINSTER EAST B - BNAHSEPCEA calendar at data/46-pepinster-east-b/bnahsepcea.ics\n",
      "Generating 46 PEPINSTER EAST B - CPE PROV DAMES calendar at data/46-pepinster-east-b/cpe-prov-dames.ics\n",
      "Generating 46 PEPINSTER EAST B - DD - DIVISION 1 calendar at data/46-pepinster-east-b/dd-division-1.ics\n",
      "Generating 46 PEPINSTER EAST B - DD - DIVISION 2 B calendar at data/46-pepinster-east-b/dd-division-2-b.ics\n",
      "Generating 46 PEPINSTER EAST B - DD - REGIONALE 2 B calendar at data/46-pepinster-east-b/dd-regionale-2-b.ics\n",
      "Generating 46 PEPINSTER EAST B - MM - DIVISION 2 B calendar at data/46-pepinster-east-b/mm-division-2-b.ics\n",
      "Generating 46 PEPINSTER EAST B - MM - DIVISION 4 B calendar at data/46-pepinster-east-b/mm-division-4-b.ics\n",
      "Generating 46 PEPINSTER EAST B - MM - REGIONALE 2 B calendar at data/46-pepinster-east-b/mm-regionale-2-b.ics\n",
      "Generating 46 PEPINSTER EAST B - TOP DIVISION MEN 2 A calendar at data/46-pepinster-east-b/top-division-men-2-a.ics\n",
      "Generating 46 PEPINSTER EAST B - U 10 - MM A calendar at data/46-pepinster-east-b/u-10-mm-a.ics\n",
      "Generating 46 PEPINSTER EAST B - U 10 - MM F calendar at data/46-pepinster-east-b/u-10-mm-f.ics\n",
      "Generating 46 PEPINSTER EAST B - U 10 - MM G calendar at data/46-pepinster-east-b/u-10-mm-g.ics\n",
      "Generating 46 PEPINSTER EAST B - U 10 - MM H calendar at data/46-pepinster-east-b/u-10-mm-h.ics\n",
      "Generating 46 PEPINSTER EAST B - U 12 - MM F calendar at data/46-pepinster-east-b/u-12-mm-f.ics\n",
      "Generating 46 PEPINSTER EAST B - U 12 - MM G calendar at data/46-pepinster-east-b/u-12-mm-g.ics\n",
      "Generating 46 PEPINSTER EAST B - U 14 - PROV MM B calendar at data/46-pepinster-east-b/u-14-prov-mm-b.ics\n",
      "Generating 46 PEPINSTER EAST B - U 14 - SILVER REGIONAUX F calendar at data/46-pepinster-east-b/u-14-silver-regionaux-f.ics\n"
     ]
    },
    {
     "name": "stderr",
     "output_type": "stream",
     "text": [
      "/var/folders/zn/0wszm2k93n1_tvmfqd8t1_sc0000gn/T/ipykernel_3934/4233784187.py:29: SettingWithCopyWarning: \n",
      "A value is trying to be set on a copy of a slice from a DataFrame\n",
      "\n",
      "See the caveats in the documentation: https://pandas.pydata.org/pandas-docs/stable/user_guide/indexing.html#returning-a-view-versus-a-copy\n",
      "  agenda.drop(\"Unknown\", axis=1, inplace=True)\n"
     ]
    },
    {
     "name": "stdout",
     "output_type": "stream",
     "text": [
      "Generating 46 PEPINSTER EAST B - U 16 - PROV MM A calendar at data/46-pepinster-east-b/u-16-prov-mm-a.ics\n",
      "Generating 46 PEPINSTER EAST B - U 16 - PROV MM C calendar at data/46-pepinster-east-b/u-16-prov-mm-c.ics\n",
      "Generating 46 PEPINSTER EAST B - U 18 - ELITES MM B calendar at data/46-pepinster-east-b/u-18-elites-mm-b.ics\n",
      "Generating 46 PEPINSTER EAST B - U 19 - DD A calendar at data/46-pepinster-east-b/u-19-dd-a.ics\n",
      "Generating 46 PEPINSTER EAST B - U 19 - SILVER REGIONALES A calendar at data/46-pepinster-east-b/u-19-silver-regionales-a.ics\n",
      "Generating 46 PEPINSTER EAST B - U 7 - MM A calendar at data/46-pepinster-east-b/u-7-mm-a.ics\n",
      "Generating 46 PEPINSTER EAST B - U 7 - MM B calendar at data/46-pepinster-east-b/u-7-mm-b.ics\n",
      "Generating 46 PEPINSTER EAST B - U 8 - MM B calendar at data/46-pepinster-east-b/u-8-mm-b.ics\n",
      "Generating 46 PEPINSTER EAST B - U 8 - MM C calendar at data/46-pepinster-east-b/u-8-mm-c.ics\n"
     ]
    },
    {
     "name": "stderr",
     "output_type": "stream",
     "text": [
      "/Users/martin/Library/Python/3.9/lib/python/site-packages/bs4/__init__.py:228: UserWarning: You provided Unicode markup but also provided a value for from_encoding. Your from_encoding will be ignored.\n",
      "  warnings.warn(\"You provided Unicode markup but also provided a value for from_encoding. Your from_encoding will be ignored.\")\n"
     ]
    },
    {
     "name": "stdout",
     "output_type": "stream",
     "text": [
      "Agenda shape: (380, 9) from http://www.cpliege.be/clubs/club0524.asp\n",
      "Generating 524 R 4A AYWAILLE-HAMOIR - CPE PROV DAMES calendar at data/524-r-4a-aywaille-hamoir/cpe-prov-dames.ics\n",
      "Generating 524 R 4A AYWAILLE-HAMOIR - CPE PROV MESSIEURS calendar at data/524-r-4a-aywaille-hamoir/cpe-prov-messieurs.ics\n",
      "Generating 524 R 4A AYWAILLE-HAMOIR - CPE PROV MINIMES MM calendar at data/524-r-4a-aywaille-hamoir/cpe-prov-minimes-mm.ics\n",
      "Generating 524 R 4A AYWAILLE-HAMOIR - CPE PROV PUPILLES MM calendar at data/524-r-4a-aywaille-hamoir/cpe-prov-pupilles-mm.ics\n",
      "Generating 524 R 4A AYWAILLE-HAMOIR - DD - DIVISION 2 B calendar at data/524-r-4a-aywaille-hamoir/dd-division-2-b.ics\n",
      "Generating 524 R 4A AYWAILLE-HAMOIR - DD - DIVISION 3 A calendar at data/524-r-4a-aywaille-hamoir/dd-division-3-a.ics\n",
      "Generating 524 R 4A AYWAILLE-HAMOIR - MM - DIVISION 3 A calendar at data/524-r-4a-aywaille-hamoir/mm-division-3-a.ics\n",
      "Generating 524 R 4A AYWAILLE-HAMOIR - MM - DIVISION 3 B calendar at data/524-r-4a-aywaille-hamoir/mm-division-3-b.ics\n",
      "Generating 524 R 4A AYWAILLE-HAMOIR - MM - DIVISION 3 C calendar at data/524-r-4a-aywaille-hamoir/mm-division-3-c.ics\n",
      "Generating 524 R 4A AYWAILLE-HAMOIR - MM - DIVISION 4 E calendar at data/524-r-4a-aywaille-hamoir/mm-division-4-e.ics\n",
      "Generating 524 R 4A AYWAILLE-HAMOIR - R 4A AYWAILLE-HAMOIR A (+ 5) calendar at data/524-r-4a-aywaille-hamoir/r-4a-aywaille-hamoir-a-5.ics\n",
      "Generating 524 R 4A AYWAILLE-HAMOIR - U 10 - MM G calendar at data/524-r-4a-aywaille-hamoir/u-10-mm-g.ics\n",
      "Generating 524 R 4A AYWAILLE-HAMOIR - U 10 - MM H calendar at data/524-r-4a-aywaille-hamoir/u-10-mm-h.ics\n",
      "Generating 524 R 4A AYWAILLE-HAMOIR - U 12 - MM B calendar at data/524-r-4a-aywaille-hamoir/u-12-mm-b.ics\n",
      "Generating 524 R 4A AYWAILLE-HAMOIR - U 12 - MM G calendar at data/524-r-4a-aywaille-hamoir/u-12-mm-g.ics\n",
      "Generating 524 R 4A AYWAILLE-HAMOIR - U 14 - ELITES MM A calendar at data/524-r-4a-aywaille-hamoir/u-14-elites-mm-a.ics\n",
      "Generating 524 R 4A AYWAILLE-HAMOIR - U 14 - PROV MM C calendar at data/524-r-4a-aywaille-hamoir/u-14-prov-mm-c.ics\n",
      "Generating 524 R 4A AYWAILLE-HAMOIR - U 16 - ELITES MM B calendar at data/524-r-4a-aywaille-hamoir/u-16-elites-mm-b.ics\n",
      "Generating 524 R 4A AYWAILLE-HAMOIR - U 18 - ELITES MM B calendar at data/524-r-4a-aywaille-hamoir/u-18-elites-mm-b.ics\n",
      "Generating 524 R 4A AYWAILLE-HAMOIR - U 21 - MM B calendar at data/524-r-4a-aywaille-hamoir/u-21-mm-b.ics\n",
      "Generating 524 R 4A AYWAILLE-HAMOIR - U 7 - MM A calendar at data/524-r-4a-aywaille-hamoir/u-7-mm-a.ics\n",
      "Generating 524 R 4A AYWAILLE-HAMOIR - U 7 - MM B calendar at data/524-r-4a-aywaille-hamoir/u-7-mm-b.ics\n"
     ]
    },
    {
     "name": "stderr",
     "output_type": "stream",
     "text": [
      "/var/folders/zn/0wszm2k93n1_tvmfqd8t1_sc0000gn/T/ipykernel_3934/4233784187.py:29: SettingWithCopyWarning: \n",
      "A value is trying to be set on a copy of a slice from a DataFrame\n",
      "\n",
      "See the caveats in the documentation: https://pandas.pydata.org/pandas-docs/stable/user_guide/indexing.html#returning-a-view-versus-a-copy\n",
      "  agenda.drop(\"Unknown\", axis=1, inplace=True)\n"
     ]
    },
    {
     "name": "stdout",
     "output_type": "stream",
     "text": [
      "Generating 524 R 4A AYWAILLE-HAMOIR - U 8 - MM F calendar at data/524-r-4a-aywaille-hamoir/u-8-mm-f.ics\n"
     ]
    },
    {
     "name": "stderr",
     "output_type": "stream",
     "text": [
      "/Users/martin/Library/Python/3.9/lib/python/site-packages/bs4/__init__.py:228: UserWarning: You provided Unicode markup but also provided a value for from_encoding. Your from_encoding will be ignored.\n",
      "  warnings.warn(\"You provided Unicode markup but also provided a value for from_encoding. Your from_encoding will be ignored.\")\n"
     ]
    },
    {
     "name": "stdout",
     "output_type": "stream",
     "text": [
      "Agenda shape: (374, 9) from http://www.cpliege.be/Clubs/club1377.asp\n",
      "Generating 1377 HENRI CHAPELLE - AW202001 calendar at data/1377-henri-chapelle/aw202001.ics\n",
      "Generating 1377 HENRI CHAPELLE - AW202007 calendar at data/1377-henri-chapelle/aw202007.ics\n",
      "Generating 1377 HENRI CHAPELLE - AW202013 calendar at data/1377-henri-chapelle/aw202013.ics\n",
      "Generating 1377 HENRI CHAPELLE - AW221001 calendar at data/1377-henri-chapelle/aw221001.ics\n",
      "Generating 1377 HENRI CHAPELLE - AW221004 calendar at data/1377-henri-chapelle/aw221004.ics\n",
      "Generating 1377 HENRI CHAPELLE - AW221005 calendar at data/1377-henri-chapelle/aw221005.ics\n",
      "Generating 1377 HENRI CHAPELLE - AWBB DD - POULE A calendar at data/1377-henri-chapelle/awbb-dd-poule-a.ics\n",
      "Generating 1377 HENRI CHAPELLE - AWBB MM - POULE B calendar at data/1377-henri-chapelle/awbb-mm-poule-b.ics\n",
      "Generating 1377 HENRI CHAPELLE - CPE PROV DAMES calendar at data/1377-henri-chapelle/cpe-prov-dames.ics\n",
      "Generating 1377 HENRI CHAPELLE - CPE PROV MINIMES MM calendar at data/1377-henri-chapelle/cpe-prov-minimes-mm.ics\n",
      "Generating 1377 HENRI CHAPELLE - CPE PROV PUPILLES MM calendar at data/1377-henri-chapelle/cpe-prov-pupilles-mm.ics\n",
      "Generating 1377 HENRI CHAPELLE - DD - DIVISION 1 calendar at data/1377-henri-chapelle/dd-division-1.ics\n",
      "Generating 1377 HENRI CHAPELLE - DD - DIVISION 2 B calendar at data/1377-henri-chapelle/dd-division-2-b.ics\n",
      "Generating 1377 HENRI CHAPELLE - DD - DIVISION 3 C calendar at data/1377-henri-chapelle/dd-division-3-c.ics\n",
      "Generating 1377 HENRI CHAPELLE - MM - DIVISION 1 calendar at data/1377-henri-chapelle/mm-division-1.ics\n",
      "Generating 1377 HENRI CHAPELLE - MM - DIVISION 3 A calendar at data/1377-henri-chapelle/mm-division-3-a.ics\n",
      "Generating 1377 HENRI CHAPELLE - MM - DIVISION 4 E calendar at data/1377-henri-chapelle/mm-division-4-e.ics\n",
      "Generating 1377 HENRI CHAPELLE - U 10 - MM A calendar at data/1377-henri-chapelle/u-10-mm-a.ics\n",
      "Generating 1377 HENRI CHAPELLE - U 10 - MM E calendar at data/1377-henri-chapelle/u-10-mm-e.ics\n",
      "Generating 1377 HENRI CHAPELLE - U 12 - MM A calendar at data/1377-henri-chapelle/u-12-mm-a.ics\n",
      "Generating 1377 HENRI CHAPELLE - U 12 - MM F calendar at data/1377-henri-chapelle/u-12-mm-f.ics\n",
      "Generating 1377 HENRI CHAPELLE - U 12 - MM G calendar at data/1377-henri-chapelle/u-12-mm-g.ics\n",
      "Generating 1377 HENRI CHAPELLE - U 14 - DD A calendar at data/1377-henri-chapelle/u-14-dd-a.ics\n",
      "Generating 1377 HENRI CHAPELLE - U 14 - ELITES MM A calendar at data/1377-henri-chapelle/u-14-elites-mm-a.ics\n",
      "Generating 1377 HENRI CHAPELLE - U 16 - ELITES MM A calendar at data/1377-henri-chapelle/u-16-elites-mm-a.ics\n",
      "Generating 1377 HENRI CHAPELLE - U 19 - SILVER REGIONALES C calendar at data/1377-henri-chapelle/u-19-silver-regionales-c.ics\n",
      "Generating 1377 HENRI CHAPELLE - U 21 - MM A calendar at data/1377-henri-chapelle/u-21-mm-a.ics\n"
     ]
    },
    {
     "name": "stderr",
     "output_type": "stream",
     "text": [
      "/var/folders/zn/0wszm2k93n1_tvmfqd8t1_sc0000gn/T/ipykernel_3934/4233784187.py:29: SettingWithCopyWarning: \n",
      "A value is trying to be set on a copy of a slice from a DataFrame\n",
      "\n",
      "See the caveats in the documentation: https://pandas.pydata.org/pandas-docs/stable/user_guide/indexing.html#returning-a-view-versus-a-copy\n",
      "  agenda.drop(\"Unknown\", axis=1, inplace=True)\n"
     ]
    },
    {
     "name": "stdout",
     "output_type": "stream",
     "text": [
      "Generating 1377 HENRI CHAPELLE - U 7 - MM A calendar at data/1377-henri-chapelle/u-7-mm-a.ics\n",
      "Generating 1377 HENRI CHAPELLE - U 8 - MM C calendar at data/1377-henri-chapelle/u-8-mm-c.ics\n"
     ]
    },
    {
     "name": "stderr",
     "output_type": "stream",
     "text": [
      "/Users/martin/Library/Python/3.9/lib/python/site-packages/bs4/__init__.py:228: UserWarning: You provided Unicode markup but also provided a value for from_encoding. Your from_encoding will be ignored.\n",
      "  warnings.warn(\"You provided Unicode markup but also provided a value for from_encoding. Your from_encoding will be ignored.\")\n"
     ]
    },
    {
     "name": "stdout",
     "output_type": "stream",
     "text": [
      "Agenda shape: (269, 9) from http://www.cpliege.be/Clubs/club2440.asp\n",
      "Generating 2440 BCM HERSTAL - CPE PROV CADETS calendar at data/2440-bcm-herstal/cpe-prov-cadets.ics\n",
      "Generating 2440 BCM HERSTAL - CPE PROV MESSIEURS calendar at data/2440-bcm-herstal/cpe-prov-messieurs.ics\n",
      "Generating 2440 BCM HERSTAL - CPE PROV PUPILLES MM calendar at data/2440-bcm-herstal/cpe-prov-pupilles-mm.ics\n",
      "Generating 2440 BCM HERSTAL - DD - DIVISION 3 A calendar at data/2440-bcm-herstal/dd-division-3-a.ics\n",
      "Generating 2440 BCM HERSTAL - MM - DIVISION 3 B calendar at data/2440-bcm-herstal/mm-division-3-b.ics\n",
      "Generating 2440 BCM HERSTAL - MM - DIVISION 4 B calendar at data/2440-bcm-herstal/mm-division-4-b.ics\n",
      "Generating 2440 BCM HERSTAL - MM - DIVISION 4 D calendar at data/2440-bcm-herstal/mm-division-4-d.ics\n",
      "Generating 2440 BCM HERSTAL - U 10 - MM G calendar at data/2440-bcm-herstal/u-10-mm-g.ics\n",
      "Generating 2440 BCM HERSTAL - U 12 - MM F calendar at data/2440-bcm-herstal/u-12-mm-f.ics\n",
      "Generating 2440 BCM HERSTAL - U 12 - MM G calendar at data/2440-bcm-herstal/u-12-mm-g.ics\n",
      "Generating 2440 BCM HERSTAL - U 14 - DD A calendar at data/2440-bcm-herstal/u-14-dd-a.ics\n",
      "Generating 2440 BCM HERSTAL - U 14 - PROV MM D calendar at data/2440-bcm-herstal/u-14-prov-mm-d.ics\n",
      "Generating 2440 BCM HERSTAL - U 16 - DD B calendar at data/2440-bcm-herstal/u-16-dd-b.ics\n",
      "Generating 2440 BCM HERSTAL - U 16 - PROV MM A calendar at data/2440-bcm-herstal/u-16-prov-mm-a.ics\n",
      "Generating 2440 BCM HERSTAL - U 18 - PROV MM calendar at data/2440-bcm-herstal/u-18-prov-mm.ics\n",
      "Generating 2440 BCM HERSTAL - U 8 - MM B calendar at data/2440-bcm-herstal/u-8-mm-b.ics\n"
     ]
    },
    {
     "name": "stderr",
     "output_type": "stream",
     "text": [
      "/var/folders/zn/0wszm2k93n1_tvmfqd8t1_sc0000gn/T/ipykernel_3934/4233784187.py:29: SettingWithCopyWarning: \n",
      "A value is trying to be set on a copy of a slice from a DataFrame\n",
      "\n",
      "See the caveats in the documentation: https://pandas.pydata.org/pandas-docs/stable/user_guide/indexing.html#returning-a-view-versus-a-copy\n",
      "  agenda.drop(\"Unknown\", axis=1, inplace=True)\n",
      "/Users/martin/Library/Python/3.9/lib/python/site-packages/bs4/__init__.py:228: UserWarning: You provided Unicode markup but also provided a value for from_encoding. Your from_encoding will be ignored.\n",
      "  warnings.warn(\"You provided Unicode markup but also provided a value for from_encoding. Your from_encoding will be ignored.\")\n"
     ]
    },
    {
     "name": "stdout",
     "output_type": "stream",
     "text": [
      "Agenda shape: (233, 9) from http://www.cpliege.be/clubs/club2733.asp\n",
      "Generating 2733 ESL UNITED - AW201005 calendar at data/2733-esl-united/aw201005.ics\n",
      "Generating 2733 ESL UNITED - AW201007 calendar at data/2733-esl-united/aw201007.ics\n",
      "Generating 2733 ESL UNITED - AW201010 calendar at data/2733-esl-united/aw201010.ics\n",
      "Generating 2733 ESL UNITED - AW201014 calendar at data/2733-esl-united/aw201014.ics\n",
      "Generating 2733 ESL UNITED - AW212001 calendar at data/2733-esl-united/aw212001.ics\n",
      "Generating 2733 ESL UNITED - AW212004 calendar at data/2733-esl-united/aw212004.ics\n",
      "Generating 2733 ESL UNITED - AW212007 calendar at data/2733-esl-united/aw212007.ics\n",
      "Generating 2733 ESL UNITED - AW212013 calendar at data/2733-esl-united/aw212013.ics\n",
      "Generating 2733 ESL UNITED - AWBB MM - POULE A calendar at data/2733-esl-united/awbb-mm-poule-a.ics\n",
      "Generating 2733 ESL UNITED - AWBB MM - POULE L calendar at data/2733-esl-united/awbb-mm-poule-l.ics\n",
      "Generating 2733 ESL UNITED - BELGIQUE MM - POULE A calendar at data/2733-esl-united/belgique-mm-poule-a.ics\n",
      "Generating 2733 ESL UNITED - BNAHSEPAAB calendar at data/2733-esl-united/bnahsepaab.ics\n",
      "Generating 2733 ESL UNITED - BNAHSEPAAC calendar at data/2733-esl-united/bnahsepaac.ics\n",
      "Generating 2733 ESL UNITED - BNAHSEPADA calendar at data/2733-esl-united/bnahsepada.ics\n",
      "Generating 2733 ESL UNITED - BNAHSEPAEA calendar at data/2733-esl-united/bnahsepaea.ics\n",
      "Generating 2733 ESL UNITED - MM - DIVISION 1 calendar at data/2733-esl-united/mm-division-1.ics\n",
      "Generating 2733 ESL UNITED - MM - DIVISION 2 A calendar at data/2733-esl-united/mm-division-2-a.ics\n",
      "Generating 2733 ESL UNITED - MM - DIVISION 2 B calendar at data/2733-esl-united/mm-division-2-b.ics\n",
      "Generating 2733 ESL UNITED - MM - DIVISION 3 C calendar at data/2733-esl-united/mm-division-3-c.ics\n",
      "Generating 2733 ESL UNITED - MM - REGIONALE 1 calendar at data/2733-esl-united/mm-regionale-1.ics\n",
      "Generating 2733 ESL UNITED - TOP DIVISION MEN 2 B calendar at data/2733-esl-united/top-division-men-2-b.ics\n",
      "Generating 2733 ESL UNITED - U 14 - GOLD REGIONAUX B calendar at data/2733-esl-united/u-14-gold-regionaux-b.ics\n",
      "Generating 2733 ESL UNITED - U 16 - GOLD REGIONAUX A calendar at data/2733-esl-united/u-16-gold-regionaux-a.ics\n",
      "Generating 2733 ESL UNITED - U 18 - GOLD REGIONAUX B calendar at data/2733-esl-united/u-18-gold-regionaux-b.ics\n",
      "Generating 2733 ESL UNITED - U 21 - GOLD REGIONAUX A calendar at data/2733-esl-united/u-21-gold-regionaux-a.ics\n"
     ]
    },
    {
     "name": "stderr",
     "output_type": "stream",
     "text": [
      "/var/folders/zn/0wszm2k93n1_tvmfqd8t1_sc0000gn/T/ipykernel_3934/4233784187.py:29: SettingWithCopyWarning: \n",
      "A value is trying to be set on a copy of a slice from a DataFrame\n",
      "\n",
      "See the caveats in the documentation: https://pandas.pydata.org/pandas-docs/stable/user_guide/indexing.html#returning-a-view-versus-a-copy\n",
      "  agenda.drop(\"Unknown\", axis=1, inplace=True)\n",
      "/Users/martin/Library/Python/3.9/lib/python/site-packages/bs4/__init__.py:228: UserWarning: You provided Unicode markup but also provided a value for from_encoding. Your from_encoding will be ignored.\n",
      "  warnings.warn(\"You provided Unicode markup but also provided a value for from_encoding. Your from_encoding will be ignored.\")\n"
     ]
    },
    {
     "name": "stdout",
     "output_type": "stream",
     "text": [
      "Agenda shape: (378, 9) from http://www.cpliege.be/clubs/club0057.asp\n",
      "Generating 57 ATLAS A JUPILLE - AW209001 calendar at data/57-atlas-a-jupille/aw209001.ics\n",
      "Generating 57 ATLAS A JUPILLE - AW209008 calendar at data/57-atlas-a-jupille/aw209008.ics\n",
      "Generating 57 ATLAS A JUPILLE - AW209011 calendar at data/57-atlas-a-jupille/aw209011.ics\n",
      "Generating 57 ATLAS A JUPILLE - AW209014 calendar at data/57-atlas-a-jupille/aw209014.ics\n",
      "Generating 57 ATLAS A JUPILLE - AWBB MM - POULE I calendar at data/57-atlas-a-jupille/awbb-mm-poule-i.ics\n",
      "Generating 57 ATLAS A JUPILLE - CPE PROV DAMES calendar at data/57-atlas-a-jupille/cpe-prov-dames.ics\n",
      "Generating 57 ATLAS A JUPILLE - CPE PROV MESSIEURS calendar at data/57-atlas-a-jupille/cpe-prov-messieurs.ics\n",
      "Generating 57 ATLAS A JUPILLE - DD - DIVISION 2 A calendar at data/57-atlas-a-jupille/dd-division-2-a.ics\n",
      "Generating 57 ATLAS A JUPILLE - MM - DIVISION 2 A calendar at data/57-atlas-a-jupille/mm-division-2-a.ics\n",
      "Generating 57 ATLAS A JUPILLE - MM - DIVISION 3 C calendar at data/57-atlas-a-jupille/mm-division-3-c.ics\n",
      "Generating 57 ATLAS A JUPILLE - MM - REGIONALE 2 A calendar at data/57-atlas-a-jupille/mm-regionale-2-a.ics\n",
      "Generating 57 ATLAS A JUPILLE - U 10 - MM F calendar at data/57-atlas-a-jupille/u-10-mm-f.ics\n",
      "Generating 57 ATLAS A JUPILLE - U 10 - MM I calendar at data/57-atlas-a-jupille/u-10-mm-i.ics\n",
      "Generating 57 ATLAS A JUPILLE - U 12 - MM I calendar at data/57-atlas-a-jupille/u-12-mm-i.ics\n",
      "Generating 57 ATLAS A JUPILLE - U 14 - DD B calendar at data/57-atlas-a-jupille/u-14-dd-b.ics\n",
      "Generating 57 ATLAS A JUPILLE - U 14 - ELITES MM B calendar at data/57-atlas-a-jupille/u-14-elites-mm-b.ics\n",
      "Generating 57 ATLAS A JUPILLE - U 14 - PROV MM A calendar at data/57-atlas-a-jupille/u-14-prov-mm-a.ics\n",
      "Generating 57 ATLAS A JUPILLE - U 16 - DD A calendar at data/57-atlas-a-jupille/u-16-dd-a.ics\n",
      "Generating 57 ATLAS A JUPILLE - U 16 - ELITES MM B calendar at data/57-atlas-a-jupille/u-16-elites-mm-b.ics\n",
      "Generating 57 ATLAS A JUPILLE - U 16 - PROV MM A calendar at data/57-atlas-a-jupille/u-16-prov-mm-a.ics\n",
      "Generating 57 ATLAS A JUPILLE - U 16 - SILVER REGIONAUX D calendar at data/57-atlas-a-jupille/u-16-silver-regionaux-d.ics\n",
      "Generating 57 ATLAS A JUPILLE - U 18 - ELITES MM A calendar at data/57-atlas-a-jupille/u-18-elites-mm-a.ics\n",
      "Generating 57 ATLAS A JUPILLE - U 18 - GOLD REGIONAUX B calendar at data/57-atlas-a-jupille/u-18-gold-regionaux-b.ics\n",
      "Generating 57 ATLAS A JUPILLE - U 18 - SILVER REGIONAUX A calendar at data/57-atlas-a-jupille/u-18-silver-regionaux-a.ics\n",
      "Generating 57 ATLAS A JUPILLE - U 19 - DD B calendar at data/57-atlas-a-jupille/u-19-dd-b.ics\n",
      "Generating 57 ATLAS A JUPILLE - U 8 - MM B calendar at data/57-atlas-a-jupille/u-8-mm-b.ics\n"
     ]
    },
    {
     "name": "stderr",
     "output_type": "stream",
     "text": [
      "/var/folders/zn/0wszm2k93n1_tvmfqd8t1_sc0000gn/T/ipykernel_3934/4233784187.py:29: SettingWithCopyWarning: \n",
      "A value is trying to be set on a copy of a slice from a DataFrame\n",
      "\n",
      "See the caveats in the documentation: https://pandas.pydata.org/pandas-docs/stable/user_guide/indexing.html#returning-a-view-versus-a-copy\n",
      "  agenda.drop(\"Unknown\", axis=1, inplace=True)\n",
      "/Users/martin/Library/Python/3.9/lib/python/site-packages/bs4/__init__.py:228: UserWarning: You provided Unicode markup but also provided a value for from_encoding. Your from_encoding will be ignored.\n",
      "  warnings.warn(\"You provided Unicode markup but also provided a value for from_encoding. Your from_encoding will be ignored.\")\n"
     ]
    },
    {
     "name": "stdout",
     "output_type": "stream",
     "text": [
      "Agenda shape: (331, 9) from http://www.cpliege.be/clubs/club0550.asp\n",
      "Generating 550 ROYAL BC WANZE - AW201002 calendar at data/550-royal-bc-wanze/aw201002.ics\n",
      "Generating 550 ROYAL BC WANZE - AW201005 calendar at data/550-royal-bc-wanze/aw201005.ics\n",
      "Generating 550 ROYAL BC WANZE - AW201011 calendar at data/550-royal-bc-wanze/aw201011.ics\n",
      "Generating 550 ROYAL BC WANZE - AW201013 calendar at data/550-royal-bc-wanze/aw201013.ics\n",
      "Generating 550 ROYAL BC WANZE - AWBB MM - POULE A calendar at data/550-royal-bc-wanze/awbb-mm-poule-a.ics\n",
      "Generating 550 ROYAL BC WANZE - DD - DIVISION 3 A calendar at data/550-royal-bc-wanze/dd-division-3-a.ics\n",
      "Generating 550 ROYAL BC WANZE - MM - DIVISION 2 A calendar at data/550-royal-bc-wanze/mm-division-2-a.ics\n",
      "Generating 550 ROYAL BC WANZE - MM - DIVISION 3 A calendar at data/550-royal-bc-wanze/mm-division-3-a.ics\n",
      "Generating 550 ROYAL BC WANZE - MM - REGIONALE 2 A calendar at data/550-royal-bc-wanze/mm-regionale-2-a.ics\n",
      "Generating 550 ROYAL BC WANZE - U 10 - MM C calendar at data/550-royal-bc-wanze/u-10-mm-c.ics\n",
      "Generating 550 ROYAL BC WANZE - U 10 - MM K calendar at data/550-royal-bc-wanze/u-10-mm-k.ics\n",
      "Generating 550 ROYAL BC WANZE - U 12 - MM I calendar at data/550-royal-bc-wanze/u-12-mm-i.ics\n",
      "Generating 550 ROYAL BC WANZE - U 12 - MM J calendar at data/550-royal-bc-wanze/u-12-mm-j.ics\n",
      "Generating 550 ROYAL BC WANZE - U 14 - ELITES MM B calendar at data/550-royal-bc-wanze/u-14-elites-mm-b.ics\n",
      "Generating 550 ROYAL BC WANZE - U 14 - PROV MM C calendar at data/550-royal-bc-wanze/u-14-prov-mm-c.ics\n",
      "Generating 550 ROYAL BC WANZE - U 16 - DD A calendar at data/550-royal-bc-wanze/u-16-dd-a.ics\n",
      "Generating 550 ROYAL BC WANZE - U 16 - PROV MM B calendar at data/550-royal-bc-wanze/u-16-prov-mm-b.ics\n",
      "Generating 550 ROYAL BC WANZE - U 19 - DD B calendar at data/550-royal-bc-wanze/u-19-dd-b.ics\n",
      "Generating 550 ROYAL BC WANZE - U 21 - MM B calendar at data/550-royal-bc-wanze/u-21-mm-b.ics\n",
      "Generating 550 ROYAL BC WANZE - U 7 - MM C calendar at data/550-royal-bc-wanze/u-7-mm-c.ics\n",
      "Generating 550 ROYAL BC WANZE - U 8 - MM E calendar at data/550-royal-bc-wanze/u-8-mm-e.ics\n"
     ]
    },
    {
     "name": "stderr",
     "output_type": "stream",
     "text": [
      "/var/folders/zn/0wszm2k93n1_tvmfqd8t1_sc0000gn/T/ipykernel_3934/4233784187.py:29: SettingWithCopyWarning: \n",
      "A value is trying to be set on a copy of a slice from a DataFrame\n",
      "\n",
      "See the caveats in the documentation: https://pandas.pydata.org/pandas-docs/stable/user_guide/indexing.html#returning-a-view-versus-a-copy\n",
      "  agenda.drop(\"Unknown\", axis=1, inplace=True)\n",
      "/Users/martin/Library/Python/3.9/lib/python/site-packages/bs4/__init__.py:228: UserWarning: You provided Unicode markup but also provided a value for from_encoding. Your from_encoding will be ignored.\n",
      "  warnings.warn(\"You provided Unicode markup but also provided a value for from_encoding. Your from_encoding will be ignored.\")\n"
     ]
    },
    {
     "name": "stdout",
     "output_type": "stream",
     "text": [
      "Agenda shape: (177, 9) from http://www.cpliege.be/Clubs/club1388.asp\n",
      "Generating 1388 RBC AUBEL - CPE PROV MESSIEURS calendar at data/1388-rbc-aubel/cpe-prov-messieurs.ics\n",
      "Generating 1388 RBC AUBEL - MM - DIVISION 4 E calendar at data/1388-rbc-aubel/mm-division-4-e.ics\n",
      "Generating 1388 RBC AUBEL - U 10 - MM E calendar at data/1388-rbc-aubel/u-10-mm-e.ics\n",
      "Generating 1388 RBC AUBEL - U 10 - MM G calendar at data/1388-rbc-aubel/u-10-mm-g.ics\n",
      "Generating 1388 RBC AUBEL - U 12 - MM A calendar at data/1388-rbc-aubel/u-12-mm-a.ics\n",
      "Generating 1388 RBC AUBEL - U 12 - MM E calendar at data/1388-rbc-aubel/u-12-mm-e.ics\n",
      "Generating 1388 RBC AUBEL - U 14 - PROV MM B calendar at data/1388-rbc-aubel/u-14-prov-mm-b.ics\n",
      "Generating 1388 RBC AUBEL - U 16 - DD A calendar at data/1388-rbc-aubel/u-16-dd-a.ics\n",
      "Generating 1388 RBC AUBEL - U 19 - DD A calendar at data/1388-rbc-aubel/u-19-dd-a.ics\n",
      "Generating 1388 RBC AUBEL - U 8 - MM A calendar at data/1388-rbc-aubel/u-8-mm-a.ics\n"
     ]
    },
    {
     "name": "stderr",
     "output_type": "stream",
     "text": [
      "/var/folders/zn/0wszm2k93n1_tvmfqd8t1_sc0000gn/T/ipykernel_3934/4233784187.py:29: SettingWithCopyWarning: \n",
      "A value is trying to be set on a copy of a slice from a DataFrame\n",
      "\n",
      "See the caveats in the documentation: https://pandas.pydata.org/pandas-docs/stable/user_guide/indexing.html#returning-a-view-versus-a-copy\n",
      "  agenda.drop(\"Unknown\", axis=1, inplace=True)\n",
      "/Users/martin/Library/Python/3.9/lib/python/site-packages/bs4/__init__.py:228: UserWarning: You provided Unicode markup but also provided a value for from_encoding. Your from_encoding will be ignored.\n",
      "  warnings.warn(\"You provided Unicode markup but also provided a value for from_encoding. Your from_encoding will be ignored.\")\n"
     ]
    },
    {
     "name": "stdout",
     "output_type": "stream",
     "text": [
      "Agenda shape: (159, 9) from http://www.cpliege.be/Clubs/club2458.asp\n",
      "Generating 2458 BBC EUPEN - CPE PROV MESSIEURS calendar at data/2458-bbc-eupen/cpe-prov-messieurs.ics\n",
      "Generating 2458 BBC EUPEN - MM - DIVISION 3 C calendar at data/2458-bbc-eupen/mm-division-3-c.ics\n",
      "Generating 2458 BBC EUPEN - U 10 - MM E calendar at data/2458-bbc-eupen/u-10-mm-e.ics\n",
      "Generating 2458 BBC EUPEN - U 12 - MM E calendar at data/2458-bbc-eupen/u-12-mm-e.ics\n",
      "Generating 2458 BBC EUPEN - U 14 - PROV MM A calendar at data/2458-bbc-eupen/u-14-prov-mm-a.ics\n",
      "Generating 2458 BBC EUPEN - U 16 - PROV MM A calendar at data/2458-bbc-eupen/u-16-prov-mm-a.ics\n",
      "Generating 2458 BBC EUPEN - U 18 - ELITES MM A calendar at data/2458-bbc-eupen/u-18-elites-mm-a.ics\n",
      "Generating 2458 BBC EUPEN - U 18 - PROV MM calendar at data/2458-bbc-eupen/u-18-prov-mm.ics\n",
      "Generating 2458 BBC EUPEN - U 21 - MM A calendar at data/2458-bbc-eupen/u-21-mm-a.ics\n"
     ]
    },
    {
     "name": "stderr",
     "output_type": "stream",
     "text": [
      "/var/folders/zn/0wszm2k93n1_tvmfqd8t1_sc0000gn/T/ipykernel_3934/4233784187.py:29: SettingWithCopyWarning: \n",
      "A value is trying to be set on a copy of a slice from a DataFrame\n",
      "\n",
      "See the caveats in the documentation: https://pandas.pydata.org/pandas-docs/stable/user_guide/indexing.html#returning-a-view-versus-a-copy\n",
      "  agenda.drop(\"Unknown\", axis=1, inplace=True)\n",
      "/Users/martin/Library/Python/3.9/lib/python/site-packages/bs4/__init__.py:228: UserWarning: You provided Unicode markup but also provided a value for from_encoding. Your from_encoding will be ignored.\n",
      "  warnings.warn(\"You provided Unicode markup but also provided a value for from_encoding. Your from_encoding will be ignored.\")\n"
     ]
    },
    {
     "name": "stdout",
     "output_type": "stream",
     "text": [
      "Agenda shape: (62, 9) from http://www.cpliege.be/Clubs/club2744.asp\n",
      "Generating 2744 MARCHIN BASKET - U 12 - MM J calendar at data/2744-marchin-basket/u-12-mm-j.ics\n",
      "Generating 2744 MARCHIN BASKET - U 16 - PROV MM C calendar at data/2744-marchin-basket/u-16-prov-mm-c.ics\n",
      "Generating 2744 MARCHIN BASKET - U 18 - PROV MM calendar at data/2744-marchin-basket/u-18-prov-mm.ics\n"
     ]
    },
    {
     "name": "stderr",
     "output_type": "stream",
     "text": [
      "/var/folders/zn/0wszm2k93n1_tvmfqd8t1_sc0000gn/T/ipykernel_3934/4233784187.py:29: SettingWithCopyWarning: \n",
      "A value is trying to be set on a copy of a slice from a DataFrame\n",
      "\n",
      "See the caveats in the documentation: https://pandas.pydata.org/pandas-docs/stable/user_guide/indexing.html#returning-a-view-versus-a-copy\n",
      "  agenda.drop(\"Unknown\", axis=1, inplace=True)\n",
      "/Users/martin/Library/Python/3.9/lib/python/site-packages/bs4/__init__.py:228: UserWarning: You provided Unicode markup but also provided a value for from_encoding. Your from_encoding will be ignored.\n",
      "  warnings.warn(\"You provided Unicode markup but also provided a value for from_encoding. Your from_encoding will be ignored.\")\n",
      "/var/folders/zn/0wszm2k93n1_tvmfqd8t1_sc0000gn/T/ipykernel_3934/4233784187.py:29: SettingWithCopyWarning: \n",
      "A value is trying to be set on a copy of a slice from a DataFrame\n",
      "\n",
      "See the caveats in the documentation: https://pandas.pydata.org/pandas-docs/stable/user_guide/indexing.html#returning-a-view-versus-a-copy\n",
      "  agenda.drop(\"Unknown\", axis=1, inplace=True)\n"
     ]
    },
    {
     "name": "stdout",
     "output_type": "stream",
     "text": [
      "Agenda shape: (62, 9) from http://www.cpliege.be/clubs/club0068.asp\n",
      "Generating 68 RB UNION LIEGE - AW212002 calendar at data/68-rb-union-liege/aw212002.ics\n",
      "Generating 68 RB UNION LIEGE - AW212005 calendar at data/68-rb-union-liege/aw212005.ics\n",
      "Generating 68 RB UNION LIEGE - AW212011 calendar at data/68-rb-union-liege/aw212011.ics\n",
      "Generating 68 RB UNION LIEGE - AW212013 calendar at data/68-rb-union-liege/aw212013.ics\n",
      "Generating 68 RB UNION LIEGE - AWBB MM - POULE L calendar at data/68-rb-union-liege/awbb-mm-poule-l.ics\n",
      "Generating 68 RB UNION LIEGE - MM - DIVISION 1 calendar at data/68-rb-union-liege/mm-division-1.ics\n",
      "Generating 68 RB UNION LIEGE - MM - DIVISION 3 A calendar at data/68-rb-union-liege/mm-division-3-a.ics\n"
     ]
    },
    {
     "name": "stderr",
     "output_type": "stream",
     "text": [
      "/Users/martin/Library/Python/3.9/lib/python/site-packages/bs4/__init__.py:228: UserWarning: You provided Unicode markup but also provided a value for from_encoding. Your from_encoding will be ignored.\n",
      "  warnings.warn(\"You provided Unicode markup but also provided a value for from_encoding. Your from_encoding will be ignored.\")\n"
     ]
    },
    {
     "name": "stdout",
     "output_type": "stream",
     "text": [
      "Agenda shape: (160, 9) from http://www.cpliege.be/clubs/club0565.asp\n",
      "Generating 565 RBC WELKENRAEDT - CPE PROV CADETS calendar at data/565-rbc-welkenraedt/cpe-prov-cadets.ics\n",
      "Generating 565 RBC WELKENRAEDT - CPE PROV MESSIEURS calendar at data/565-rbc-welkenraedt/cpe-prov-messieurs.ics\n",
      "Generating 565 RBC WELKENRAEDT - CPE PROV PUPILLES MM calendar at data/565-rbc-welkenraedt/cpe-prov-pupilles-mm.ics\n",
      "Generating 565 RBC WELKENRAEDT - DD - DIVISION 3 C calendar at data/565-rbc-welkenraedt/dd-division-3-c.ics\n",
      "Generating 565 RBC WELKENRAEDT - MM - DIVISION 3 C calendar at data/565-rbc-welkenraedt/mm-division-3-c.ics\n",
      "Generating 565 RBC WELKENRAEDT - MM - DIVISION 4 E calendar at data/565-rbc-welkenraedt/mm-division-4-e.ics\n",
      "Generating 565 RBC WELKENRAEDT - U 14 - PROV MM A calendar at data/565-rbc-welkenraedt/u-14-prov-mm-a.ics\n",
      "Generating 565 RBC WELKENRAEDT - U 16 - PROV MM A calendar at data/565-rbc-welkenraedt/u-16-prov-mm-a.ics\n",
      "Generating 565 RBC WELKENRAEDT - U 18 - PROV MM calendar at data/565-rbc-welkenraedt/u-18-prov-mm.ics\n",
      "Generating 565 RBC WELKENRAEDT - U 19 - DD A calendar at data/565-rbc-welkenraedt/u-19-dd-a.ics\n"
     ]
    },
    {
     "name": "stderr",
     "output_type": "stream",
     "text": [
      "/var/folders/zn/0wszm2k93n1_tvmfqd8t1_sc0000gn/T/ipykernel_3934/4233784187.py:29: SettingWithCopyWarning: \n",
      "A value is trying to be set on a copy of a slice from a DataFrame\n",
      "\n",
      "See the caveats in the documentation: https://pandas.pydata.org/pandas-docs/stable/user_guide/indexing.html#returning-a-view-versus-a-copy\n",
      "  agenda.drop(\"Unknown\", axis=1, inplace=True)\n",
      "/Users/martin/Library/Python/3.9/lib/python/site-packages/bs4/__init__.py:228: UserWarning: You provided Unicode markup but also provided a value for from_encoding. Your from_encoding will be ignored.\n",
      "  warnings.warn(\"You provided Unicode markup but also provided a value for from_encoding. Your from_encoding will be ignored.\")\n"
     ]
    },
    {
     "name": "stdout",
     "output_type": "stream",
     "text": [
      "Agenda shape: (238, 9) from http://www.cpliege.be/Clubs/club1429.asp\n",
      "Generating 1429 R HT-PRE OUGREE - CPE PROV DAMES calendar at data/1429-r-ht-pre-ougree/cpe-prov-dames.ics\n",
      "Generating 1429 R HT-PRE OUGREE - DD - DIVISION 1 calendar at data/1429-r-ht-pre-ougree/dd-division-1.ics\n",
      "Generating 1429 R HT-PRE OUGREE - DD - DIVISION 3 B calendar at data/1429-r-ht-pre-ougree/dd-division-3-b.ics\n",
      "Generating 1429 R HT-PRE OUGREE - MM - DIVISION 4 B calendar at data/1429-r-ht-pre-ougree/mm-division-4-b.ics\n",
      "Generating 1429 R HT-PRE OUGREE - MM - DIVISION 4 D calendar at data/1429-r-ht-pre-ougree/mm-division-4-d.ics\n",
      "Generating 1429 R HT-PRE OUGREE - U 10 - MM H calendar at data/1429-r-ht-pre-ougree/u-10-mm-h.ics\n",
      "Generating 1429 R HT-PRE OUGREE - U 10 - MM L calendar at data/1429-r-ht-pre-ougree/u-10-mm-l.ics\n",
      "Generating 1429 R HT-PRE OUGREE - U 12 - DD calendar at data/1429-r-ht-pre-ougree/u-12-dd.ics\n",
      "Generating 1429 R HT-PRE OUGREE - U 12 - MM F calendar at data/1429-r-ht-pre-ougree/u-12-mm-f.ics\n",
      "Generating 1429 R HT-PRE OUGREE - U 16 - PROV MM A calendar at data/1429-r-ht-pre-ougree/u-16-prov-mm-a.ics\n",
      "Generating 1429 R HT-PRE OUGREE - U 21 - MM B calendar at data/1429-r-ht-pre-ougree/u-21-mm-b.ics\n",
      "Generating 1429 R HT-PRE OUGREE - U 7 - MM B calendar at data/1429-r-ht-pre-ougree/u-7-mm-b.ics\n",
      "Generating 1429 R HT-PRE OUGREE - U 8 - MM C calendar at data/1429-r-ht-pre-ougree/u-8-mm-c.ics\n"
     ]
    },
    {
     "name": "stderr",
     "output_type": "stream",
     "text": [
      "/var/folders/zn/0wszm2k93n1_tvmfqd8t1_sc0000gn/T/ipykernel_3934/4233784187.py:29: SettingWithCopyWarning: \n",
      "A value is trying to be set on a copy of a slice from a DataFrame\n",
      "\n",
      "See the caveats in the documentation: https://pandas.pydata.org/pandas-docs/stable/user_guide/indexing.html#returning-a-view-versus-a-copy\n",
      "  agenda.drop(\"Unknown\", axis=1, inplace=True)\n",
      "/Users/martin/Library/Python/3.9/lib/python/site-packages/bs4/__init__.py:228: UserWarning: You provided Unicode markup but also provided a value for from_encoding. Your from_encoding will be ignored.\n",
      "  warnings.warn(\"You provided Unicode markup but also provided a value for from_encoding. Your from_encoding will be ignored.\")\n"
     ]
    },
    {
     "name": "stdout",
     "output_type": "stream",
     "text": [
      "Agenda shape: (296, 9) from http://www.cpliege.be/Clubs/club2499.asp\n",
      "Generating 2499 GIANTS BRAIVES - DD - DIVISION 3 B calendar at data/2499-giants-braives/dd-division-3-b.ics\n",
      "Generating 2499 GIANTS BRAIVES - MM - DIVISION 4 A calendar at data/2499-giants-braives/mm-division-4-a.ics\n",
      "Generating 2499 GIANTS BRAIVES - MM - DIVISION 4 D calendar at data/2499-giants-braives/mm-division-4-d.ics\n",
      "Generating 2499 GIANTS BRAIVES - U 10 - MM B calendar at data/2499-giants-braives/u-10-mm-b.ics\n",
      "Generating 2499 GIANTS BRAIVES - U 10 - MM J calendar at data/2499-giants-braives/u-10-mm-j.ics\n",
      "Generating 2499 GIANTS BRAIVES - U 10 - MM K calendar at data/2499-giants-braives/u-10-mm-k.ics\n",
      "Generating 2499 GIANTS BRAIVES - U 12 - MM C calendar at data/2499-giants-braives/u-12-mm-c.ics\n",
      "Generating 2499 GIANTS BRAIVES - U 12 - MM D calendar at data/2499-giants-braives/u-12-mm-d.ics\n",
      "Generating 2499 GIANTS BRAIVES - U 12 - MM H calendar at data/2499-giants-braives/u-12-mm-h.ics\n",
      "Generating 2499 GIANTS BRAIVES - U 14 - PROV MM C calendar at data/2499-giants-braives/u-14-prov-mm-c.ics\n",
      "Generating 2499 GIANTS BRAIVES - U 14 - SILVER REGIONAUX C calendar at data/2499-giants-braives/u-14-silver-regionaux-c.ics\n",
      "Generating 2499 GIANTS BRAIVES - U 16 - ELITES MM A calendar at data/2499-giants-braives/u-16-elites-mm-a.ics\n",
      "Generating 2499 GIANTS BRAIVES - U 16 - PROV MM C calendar at data/2499-giants-braives/u-16-prov-mm-c.ics\n",
      "Generating 2499 GIANTS BRAIVES - U 18 - ELITES MM B calendar at data/2499-giants-braives/u-18-elites-mm-b.ics\n",
      "Generating 2499 GIANTS BRAIVES - U 7 - MM C calendar at data/2499-giants-braives/u-7-mm-c.ics\n",
      "Generating 2499 GIANTS BRAIVES - U 8 - MM F calendar at data/2499-giants-braives/u-8-mm-f.ics\n"
     ]
    },
    {
     "name": "stderr",
     "output_type": "stream",
     "text": [
      "/var/folders/zn/0wszm2k93n1_tvmfqd8t1_sc0000gn/T/ipykernel_3934/4233784187.py:29: SettingWithCopyWarning: \n",
      "A value is trying to be set on a copy of a slice from a DataFrame\n",
      "\n",
      "See the caveats in the documentation: https://pandas.pydata.org/pandas-docs/stable/user_guide/indexing.html#returning-a-view-versus-a-copy\n",
      "  agenda.drop(\"Unknown\", axis=1, inplace=True)\n",
      "/Users/martin/Library/Python/3.9/lib/python/site-packages/bs4/__init__.py:228: UserWarning: You provided Unicode markup but also provided a value for from_encoding. Your from_encoding will be ignored.\n",
      "  warnings.warn(\"You provided Unicode markup but also provided a value for from_encoding. Your from_encoding will be ignored.\")\n",
      "/var/folders/zn/0wszm2k93n1_tvmfqd8t1_sc0000gn/T/ipykernel_3934/4233784187.py:29: SettingWithCopyWarning: \n",
      "A value is trying to be set on a copy of a slice from a DataFrame\n",
      "\n",
      "See the caveats in the documentation: https://pandas.pydata.org/pandas-docs/stable/user_guide/indexing.html#returning-a-view-versus-a-copy\n",
      "  agenda.drop(\"Unknown\", axis=1, inplace=True)\n"
     ]
    },
    {
     "name": "stdout",
     "output_type": "stream",
     "text": [
      "Agenda shape: (36, 9) from http://www.cpliege.be/Clubs/club2746.asp\n",
      "Generating 2746 BC CRISNEE - U 8 - MM E calendar at data/2746-bc-crisnee/u-8-mm-e.ics\n",
      "Generating 2746 BC CRISNEE - U 8 - MM F calendar at data/2746-bc-crisnee/u-8-mm-f.ics\n"
     ]
    },
    {
     "name": "stderr",
     "output_type": "stream",
     "text": [
      "/Users/martin/Library/Python/3.9/lib/python/site-packages/bs4/__init__.py:228: UserWarning: You provided Unicode markup but also provided a value for from_encoding. Your from_encoding will be ignored.\n",
      "  warnings.warn(\"You provided Unicode markup but also provided a value for from_encoding. Your from_encoding will be ignored.\")\n"
     ]
    },
    {
     "name": "stdout",
     "output_type": "stream",
     "text": [
      "Agenda shape: (313, 9) from http://www.cpliege.be/clubs/club0078.asp\n",
      "Generating 78 PRAYON TROOZ - AW222002 calendar at data/78-prayon-trooz/aw222002.ics\n",
      "Generating 78 PRAYON TROOZ - AW222004 calendar at data/78-prayon-trooz/aw222004.ics\n",
      "Generating 78 PRAYON TROOZ - AW222006 calendar at data/78-prayon-trooz/aw222006.ics\n",
      "Generating 78 PRAYON TROOZ - AWBB DD - POULE B calendar at data/78-prayon-trooz/awbb-dd-poule-b.ics\n",
      "Generating 78 PRAYON TROOZ - DD - DIVISION 2 A calendar at data/78-prayon-trooz/dd-division-2-a.ics\n",
      "Generating 78 PRAYON TROOZ - DD - DIVISION 3 C calendar at data/78-prayon-trooz/dd-division-3-c.ics\n",
      "Generating 78 PRAYON TROOZ - DD - REGIONALE 2 A calendar at data/78-prayon-trooz/dd-regionale-2-a.ics\n",
      "Generating 78 PRAYON TROOZ - MM - DIVISION 2 B calendar at data/78-prayon-trooz/mm-division-2-b.ics\n",
      "Generating 78 PRAYON TROOZ - MM - DIVISION 4 B calendar at data/78-prayon-trooz/mm-division-4-b.ics\n",
      "Generating 78 PRAYON TROOZ - U 10 - MM G calendar at data/78-prayon-trooz/u-10-mm-g.ics\n",
      "Generating 78 PRAYON TROOZ - U 10 - MM H calendar at data/78-prayon-trooz/u-10-mm-h.ics\n",
      "Generating 78 PRAYON TROOZ - U 12 - MM A calendar at data/78-prayon-trooz/u-12-mm-a.ics\n",
      "Generating 78 PRAYON TROOZ - U 12 - MM F calendar at data/78-prayon-trooz/u-12-mm-f.ics\n",
      "Generating 78 PRAYON TROOZ - U 14 - DD A calendar at data/78-prayon-trooz/u-14-dd-a.ics\n",
      "Generating 78 PRAYON TROOZ - U 14 - PROV MM A calendar at data/78-prayon-trooz/u-14-prov-mm-a.ics\n",
      "Generating 78 PRAYON TROOZ - U 16 - DD B calendar at data/78-prayon-trooz/u-16-dd-b.ics\n",
      "Generating 78 PRAYON TROOZ - U 16 - PROV MM A calendar at data/78-prayon-trooz/u-16-prov-mm-a.ics\n",
      "Generating 78 PRAYON TROOZ - U 16 - PROV MM B calendar at data/78-prayon-trooz/u-16-prov-mm-b.ics\n",
      "Generating 78 PRAYON TROOZ - U 19 - SILVER REGIONALES B calendar at data/78-prayon-trooz/u-19-silver-regionales-b.ics\n"
     ]
    },
    {
     "name": "stderr",
     "output_type": "stream",
     "text": [
      "/var/folders/zn/0wszm2k93n1_tvmfqd8t1_sc0000gn/T/ipykernel_3934/4233784187.py:29: SettingWithCopyWarning: \n",
      "A value is trying to be set on a copy of a slice from a DataFrame\n",
      "\n",
      "See the caveats in the documentation: https://pandas.pydata.org/pandas-docs/stable/user_guide/indexing.html#returning-a-view-versus-a-copy\n",
      "  agenda.drop(\"Unknown\", axis=1, inplace=True)\n",
      "/Users/martin/Library/Python/3.9/lib/python/site-packages/bs4/__init__.py:228: UserWarning: You provided Unicode markup but also provided a value for from_encoding. Your from_encoding will be ignored.\n",
      "  warnings.warn(\"You provided Unicode markup but also provided a value for from_encoding. Your from_encoding will be ignored.\")\n"
     ]
    },
    {
     "name": "stdout",
     "output_type": "stream",
     "text": [
      "Agenda shape: (256, 9) from http://www.cpliege.be/clubs/club0691.asp\n",
      "Generating 691 RBC STAVELOT - CPE PROV MESSIEURS calendar at data/691-rbc-stavelot/cpe-prov-messieurs.ics\n",
      "Generating 691 RBC STAVELOT - CPE PROV MINIMES MM calendar at data/691-rbc-stavelot/cpe-prov-minimes-mm.ics\n",
      "Generating 691 RBC STAVELOT - DD - DIVISION 2 A calendar at data/691-rbc-stavelot/dd-division-2-a.ics\n",
      "Generating 691 RBC STAVELOT - MM - DIVISION 2 A calendar at data/691-rbc-stavelot/mm-division-2-a.ics\n",
      "Generating 691 RBC STAVELOT - MM - DIVISION 3 C calendar at data/691-rbc-stavelot/mm-division-3-c.ics\n",
      "Generating 691 RBC STAVELOT - MM - DIVISION 4 E calendar at data/691-rbc-stavelot/mm-division-4-e.ics\n",
      "Generating 691 RBC STAVELOT - U 10 - MM A calendar at data/691-rbc-stavelot/u-10-mm-a.ics\n",
      "Generating 691 RBC STAVELOT - U 10 - MM E calendar at data/691-rbc-stavelot/u-10-mm-e.ics\n",
      "Generating 691 RBC STAVELOT - U 12 - DD calendar at data/691-rbc-stavelot/u-12-dd.ics\n",
      "Generating 691 RBC STAVELOT - U 12 - MM E calendar at data/691-rbc-stavelot/u-12-mm-e.ics\n",
      "Generating 691 RBC STAVELOT - U 14 - PROV MM A calendar at data/691-rbc-stavelot/u-14-prov-mm-a.ics\n",
      "Generating 691 RBC STAVELOT - U 16 - PROV MM B calendar at data/691-rbc-stavelot/u-16-prov-mm-b.ics\n",
      "Generating 691 RBC STAVELOT - U 18 - PROV MM calendar at data/691-rbc-stavelot/u-18-prov-mm.ics\n",
      "Generating 691 RBC STAVELOT - U 8 - MM A calendar at data/691-rbc-stavelot/u-8-mm-a.ics\n"
     ]
    },
    {
     "name": "stderr",
     "output_type": "stream",
     "text": [
      "/var/folders/zn/0wszm2k93n1_tvmfqd8t1_sc0000gn/T/ipykernel_3934/4233784187.py:29: SettingWithCopyWarning: \n",
      "A value is trying to be set on a copy of a slice from a DataFrame\n",
      "\n",
      "See the caveats in the documentation: https://pandas.pydata.org/pandas-docs/stable/user_guide/indexing.html#returning-a-view-versus-a-copy\n",
      "  agenda.drop(\"Unknown\", axis=1, inplace=True)\n",
      "/Users/martin/Library/Python/3.9/lib/python/site-packages/bs4/__init__.py:228: UserWarning: You provided Unicode markup but also provided a value for from_encoding. Your from_encoding will be ignored.\n",
      "  warnings.warn(\"You provided Unicode markup but also provided a value for from_encoding. Your from_encoding will be ignored.\")\n"
     ]
    },
    {
     "name": "stdout",
     "output_type": "stream",
     "text": [
      "Agenda shape: (516, 9) from http://www.cpliege.be/Clubs/club1466.asp\n",
      "Generating 1466 RBC ALLEUR - AW211001 calendar at data/1466-rbc-alleur/aw211001.ics\n",
      "Generating 1466 RBC ALLEUR - AW211008 calendar at data/1466-rbc-alleur/aw211008.ics\n",
      "Generating 1466 RBC ALLEUR - AW211011 calendar at data/1466-rbc-alleur/aw211011.ics\n",
      "Generating 1466 RBC ALLEUR - AW211014 calendar at data/1466-rbc-alleur/aw211014.ics\n",
      "Generating 1466 RBC ALLEUR - AW223002 calendar at data/1466-rbc-alleur/aw223002.ics\n",
      "Generating 1466 RBC ALLEUR - AW223004 calendar at data/1466-rbc-alleur/aw223004.ics\n",
      "Generating 1466 RBC ALLEUR - AW223006 calendar at data/1466-rbc-alleur/aw223006.ics\n",
      "Generating 1466 RBC ALLEUR - AW230003 calendar at data/1466-rbc-alleur/aw230003.ics\n",
      "Generating 1466 RBC ALLEUR - AW230005 calendar at data/1466-rbc-alleur/aw230005.ics\n",
      "Generating 1466 RBC ALLEUR - AWBB DD - POULE C calendar at data/1466-rbc-alleur/awbb-dd-poule-c.ics\n",
      "Generating 1466 RBC ALLEUR - AWBB DD - POULE J calendar at data/1466-rbc-alleur/awbb-dd-poule-j.ics\n",
      "Generating 1466 RBC ALLEUR - AWBB MM - POULE K calendar at data/1466-rbc-alleur/awbb-mm-poule-k.ics\n",
      "Generating 1466 RBC ALLEUR - CPE PROV DAMES calendar at data/1466-rbc-alleur/cpe-prov-dames.ics\n",
      "Generating 1466 RBC ALLEUR - CPE PROV MESSIEURS calendar at data/1466-rbc-alleur/cpe-prov-messieurs.ics\n",
      "Generating 1466 RBC ALLEUR - DD - DIVISION 1 calendar at data/1466-rbc-alleur/dd-division-1.ics\n",
      "Generating 1466 RBC ALLEUR - DD - DIVISION 2 B calendar at data/1466-rbc-alleur/dd-division-2-b.ics\n",
      "Generating 1466 RBC ALLEUR - DD - REGIONALE 2 A calendar at data/1466-rbc-alleur/dd-regionale-2-a.ics\n",
      "Generating 1466 RBC ALLEUR - DD - REGIONALE 2 B calendar at data/1466-rbc-alleur/dd-regionale-2-b.ics\n",
      "Generating 1466 RBC ALLEUR - MM - DIVISION 2 A calendar at data/1466-rbc-alleur/mm-division-2-a.ics\n",
      "Generating 1466 RBC ALLEUR - MM - DIVISION 2 B calendar at data/1466-rbc-alleur/mm-division-2-b.ics\n",
      "Generating 1466 RBC ALLEUR - MM - DIVISION 4 A calendar at data/1466-rbc-alleur/mm-division-4-a.ics\n",
      "Generating 1466 RBC ALLEUR - MM - DIVISION 4 C calendar at data/1466-rbc-alleur/mm-division-4-c.ics\n",
      "Generating 1466 RBC ALLEUR - MM - REGIONALE 2 A calendar at data/1466-rbc-alleur/mm-regionale-2-a.ics\n"
     ]
    },
    {
     "name": "stderr",
     "output_type": "stream",
     "text": [
      "/var/folders/zn/0wszm2k93n1_tvmfqd8t1_sc0000gn/T/ipykernel_3934/4233784187.py:29: SettingWithCopyWarning: \n",
      "A value is trying to be set on a copy of a slice from a DataFrame\n",
      "\n",
      "See the caveats in the documentation: https://pandas.pydata.org/pandas-docs/stable/user_guide/indexing.html#returning-a-view-versus-a-copy\n",
      "  agenda.drop(\"Unknown\", axis=1, inplace=True)\n"
     ]
    },
    {
     "name": "stdout",
     "output_type": "stream",
     "text": [
      "Generating 1466 RBC ALLEUR - U 10 - MM J calendar at data/1466-rbc-alleur/u-10-mm-j.ics\n",
      "Generating 1466 RBC ALLEUR - U 10 - MM K calendar at data/1466-rbc-alleur/u-10-mm-k.ics\n",
      "Generating 1466 RBC ALLEUR - U 10 - MM L calendar at data/1466-rbc-alleur/u-10-mm-l.ics\n",
      "Generating 1466 RBC ALLEUR - U 12 - MM H calendar at data/1466-rbc-alleur/u-12-mm-h.ics\n",
      "Generating 1466 RBC ALLEUR - U 12 - MM I calendar at data/1466-rbc-alleur/u-12-mm-i.ics\n",
      "Generating 1466 RBC ALLEUR - U 12 - MM J calendar at data/1466-rbc-alleur/u-12-mm-j.ics\n",
      "Generating 1466 RBC ALLEUR - U 14 - DD B calendar at data/1466-rbc-alleur/u-14-dd-b.ics\n",
      "Generating 1466 RBC ALLEUR - U 14 - ELITES MM A calendar at data/1466-rbc-alleur/u-14-elites-mm-a.ics\n",
      "Generating 1466 RBC ALLEUR - U 14 - SILVER REGIONALES A calendar at data/1466-rbc-alleur/u-14-silver-regionales-a.ics\n",
      "Generating 1466 RBC ALLEUR - U 16 - SILVER REGIONAUX B calendar at data/1466-rbc-alleur/u-16-silver-regionaux-b.ics\n",
      "Generating 1466 RBC ALLEUR - U 18 - ELITES MM C calendar at data/1466-rbc-alleur/u-18-elites-mm-c.ics\n",
      "Generating 1466 RBC ALLEUR - U 18 - PROV MM calendar at data/1466-rbc-alleur/u-18-prov-mm.ics\n",
      "Generating 1466 RBC ALLEUR - U 19 - GOLD REGIONALES A calendar at data/1466-rbc-alleur/u-19-gold-regionales-a.ics\n",
      "Generating 1466 RBC ALLEUR - U 21 - SILVER REGIONAUX C calendar at data/1466-rbc-alleur/u-21-silver-regionaux-c.ics\n",
      "Generating 1466 RBC ALLEUR - U 7 - MM D calendar at data/1466-rbc-alleur/u-7-mm-d.ics\n",
      "Generating 1466 RBC ALLEUR - U 8 - MM C calendar at data/1466-rbc-alleur/u-8-mm-c.ics\n"
     ]
    },
    {
     "name": "stderr",
     "output_type": "stream",
     "text": [
      "/Users/martin/Library/Python/3.9/lib/python/site-packages/bs4/__init__.py:228: UserWarning: You provided Unicode markup but also provided a value for from_encoding. Your from_encoding will be ignored.\n",
      "  warnings.warn(\"You provided Unicode markup but also provided a value for from_encoding. Your from_encoding will be ignored.\")\n"
     ]
    },
    {
     "name": "stdout",
     "output_type": "stream",
     "text": [
      "Agenda shape: (364, 9) from http://www.cpliege.be/Clubs/club2511.asp\n",
      "Generating 2511 UN HUY BASKET - AW222001 calendar at data/2511-un-huy-basket/aw222001.ics\n",
      "Generating 2511 UN HUY BASKET - AW222003 calendar at data/2511-un-huy-basket/aw222003.ics\n",
      "Generating 2511 UN HUY BASKET - AW222006 calendar at data/2511-un-huy-basket/aw222006.ics\n",
      "Generating 2511 UN HUY BASKET - AW233001 calendar at data/2511-un-huy-basket/aw233001.ics\n",
      "Generating 2511 UN HUY BASKET - AW233005 calendar at data/2511-un-huy-basket/aw233005.ics\n",
      "Generating 2511 UN HUY BASKET - AWBB DD - POULE B calendar at data/2511-un-huy-basket/awbb-dd-poule-b.ics\n",
      "Generating 2511 UN HUY BASKET - AWBB DD - POULE M calendar at data/2511-un-huy-basket/awbb-dd-poule-m.ics\n",
      "Generating 2511 UN HUY BASKET - CPE BELG DAMES calendar at data/2511-un-huy-basket/cpe-belg-dames.ics\n",
      "Generating 2511 UN HUY BASKET - CPE PROV MESSIEURS calendar at data/2511-un-huy-basket/cpe-prov-messieurs.ics\n",
      "Generating 2511 UN HUY BASKET - DD - DIVISION 3 B calendar at data/2511-un-huy-basket/dd-division-3-b.ics\n",
      "Generating 2511 UN HUY BASKET - DD - REGIONALE 1 calendar at data/2511-un-huy-basket/dd-regionale-1.ics\n",
      "Generating 2511 UN HUY BASKET - DD - REGIONALE 2 B calendar at data/2511-un-huy-basket/dd-regionale-2-b.ics\n",
      "Generating 2511 UN HUY BASKET - MM - DIVISION 3 C calendar at data/2511-un-huy-basket/mm-division-3-c.ics\n",
      "Generating 2511 UN HUY BASKET - MM - DIVISION 4 D calendar at data/2511-un-huy-basket/mm-division-4-d.ics\n",
      "Generating 2511 UN HUY BASKET - U 10 - MM C calendar at data/2511-un-huy-basket/u-10-mm-c.ics\n",
      "Generating 2511 UN HUY BASKET - U 10 - MM K calendar at data/2511-un-huy-basket/u-10-mm-k.ics\n",
      "Generating 2511 UN HUY BASKET - U 10 - MM L calendar at data/2511-un-huy-basket/u-10-mm-l.ics\n",
      "Generating 2511 UN HUY BASKET - U 12 - MM D calendar at data/2511-un-huy-basket/u-12-mm-d.ics\n",
      "Generating 2511 UN HUY BASKET - U 12 - MM I calendar at data/2511-un-huy-basket/u-12-mm-i.ics\n",
      "Generating 2511 UN HUY BASKET - U 12 - MM J calendar at data/2511-un-huy-basket/u-12-mm-j.ics\n",
      "Generating 2511 UN HUY BASKET - U 14 - DD B calendar at data/2511-un-huy-basket/u-14-dd-b.ics\n",
      "Generating 2511 UN HUY BASKET - U 14 - PROV MM C calendar at data/2511-un-huy-basket/u-14-prov-mm-c.ics\n",
      "Generating 2511 UN HUY BASKET - U 16 - PROV MM C calendar at data/2511-un-huy-basket/u-16-prov-mm-c.ics\n",
      "Generating 2511 UN HUY BASKET - U 18 - ELITES MM B calendar at data/2511-un-huy-basket/u-18-elites-mm-b.ics\n",
      "Generating 2511 UN HUY BASKET - U 18 - ELITES MM C calendar at data/2511-un-huy-basket/u-18-elites-mm-c.ics\n",
      "Generating 2511 UN HUY BASKET - U 7 - MM D calendar at data/2511-un-huy-basket/u-7-mm-d.ics\n",
      "Generating 2511 UN HUY BASKET - U 8 - MM F calendar at data/2511-un-huy-basket/u-8-mm-f.ics\n"
     ]
    },
    {
     "name": "stderr",
     "output_type": "stream",
     "text": [
      "/var/folders/zn/0wszm2k93n1_tvmfqd8t1_sc0000gn/T/ipykernel_3934/4233784187.py:29: SettingWithCopyWarning: \n",
      "A value is trying to be set on a copy of a slice from a DataFrame\n",
      "\n",
      "See the caveats in the documentation: https://pandas.pydata.org/pandas-docs/stable/user_guide/indexing.html#returning-a-view-versus-a-copy\n",
      "  agenda.drop(\"Unknown\", axis=1, inplace=True)\n",
      "/Users/martin/Library/Python/3.9/lib/python/site-packages/bs4/__init__.py:228: UserWarning: You provided Unicode markup but also provided a value for from_encoding. Your from_encoding will be ignored.\n",
      "  warnings.warn(\"You provided Unicode markup but also provided a value for from_encoding. Your from_encoding will be ignored.\")\n"
     ]
    },
    {
     "name": "stdout",
     "output_type": "stream",
     "text": [
      "Agenda shape: (228, 9) from http://www.cpliege.be/clubs/club0088.asp\n",
      "Generating 88 VAIL. JUPILLE - CPE PROV DAMES calendar at data/88-vail-jupille/cpe-prov-dames.ics\n",
      "Generating 88 VAIL. JUPILLE - CPE PROV MESSIEURS calendar at data/88-vail-jupille/cpe-prov-messieurs.ics\n",
      "Generating 88 VAIL. JUPILLE - DD - DIVISION 2 B calendar at data/88-vail-jupille/dd-division-2-b.ics\n",
      "Generating 88 VAIL. JUPILLE - MM - DIVISION 2 B calendar at data/88-vail-jupille/mm-division-2-b.ics\n",
      "Generating 88 VAIL. JUPILLE - MM - DIVISION 3 B calendar at data/88-vail-jupille/mm-division-3-b.ics\n",
      "Generating 88 VAIL. JUPILLE - MM - DIVISION 4 A calendar at data/88-vail-jupille/mm-division-4-a.ics\n",
      "Generating 88 VAIL. JUPILLE - U 10 - MM B calendar at data/88-vail-jupille/u-10-mm-b.ics\n",
      "Generating 88 VAIL. JUPILLE - U 10 - MM I calendar at data/88-vail-jupille/u-10-mm-i.ics\n",
      "Generating 88 VAIL. JUPILLE - U 12 - MM I calendar at data/88-vail-jupille/u-12-mm-i.ics\n",
      "Generating 88 VAIL. JUPILLE - U 14 - PROV MM B calendar at data/88-vail-jupille/u-14-prov-mm-b.ics\n",
      "Generating 88 VAIL. JUPILLE - U 16 - ELITES MM B calendar at data/88-vail-jupille/u-16-elites-mm-b.ics\n",
      "Generating 88 VAIL. JUPILLE - U 7 - MM C calendar at data/88-vail-jupille/u-7-mm-c.ics\n",
      "Generating 88 VAIL. JUPILLE - U 8 - MM C calendar at data/88-vail-jupille/u-8-mm-c.ics\n"
     ]
    },
    {
     "name": "stderr",
     "output_type": "stream",
     "text": [
      "/var/folders/zn/0wszm2k93n1_tvmfqd8t1_sc0000gn/T/ipykernel_3934/4233784187.py:29: SettingWithCopyWarning: \n",
      "A value is trying to be set on a copy of a slice from a DataFrame\n",
      "\n",
      "See the caveats in the documentation: https://pandas.pydata.org/pandas-docs/stable/user_guide/indexing.html#returning-a-view-versus-a-copy\n",
      "  agenda.drop(\"Unknown\", axis=1, inplace=True)\n",
      "/Users/martin/Library/Python/3.9/lib/python/site-packages/bs4/__init__.py:228: UserWarning: You provided Unicode markup but also provided a value for from_encoding. Your from_encoding will be ignored.\n",
      "  warnings.warn(\"You provided Unicode markup but also provided a value for from_encoding. Your from_encoding will be ignored.\")\n"
     ]
    },
    {
     "name": "stdout",
     "output_type": "stream",
     "text": [
      "Agenda shape: (526, 9) from http://www.cpliege.be/clubs/club0709.asp\n",
      "Generating 709 ABC WAREMME - AW203001 calendar at data/709-abc-waremme/aw203001.ics\n",
      "Generating 709 ABC WAREMME - AW203008 calendar at data/709-abc-waremme/aw203008.ics\n",
      "Generating 709 ABC WAREMME - AW203011 calendar at data/709-abc-waremme/aw203011.ics\n",
      "Generating 709 ABC WAREMME - AW203014 calendar at data/709-abc-waremme/aw203014.ics\n",
      "Generating 709 ABC WAREMME - AWBB MM - POULE C calendar at data/709-abc-waremme/awbb-mm-poule-c.ics\n",
      "Generating 709 ABC WAREMME - DD - DIVISION 2 A calendar at data/709-abc-waremme/dd-division-2-a.ics\n",
      "Generating 709 ABC WAREMME - DD - DIVISION 2 B calendar at data/709-abc-waremme/dd-division-2-b.ics\n",
      "Generating 709 ABC WAREMME - DD - DIVISION 3 A calendar at data/709-abc-waremme/dd-division-3-a.ics\n",
      "Generating 709 ABC WAREMME - MM - DIVISION 2 A calendar at data/709-abc-waremme/mm-division-2-a.ics\n",
      "Generating 709 ABC WAREMME - MM - DIVISION 4 C calendar at data/709-abc-waremme/mm-division-4-c.ics\n",
      "Generating 709 ABC WAREMME - MM - REGIONALE 2 A calendar at data/709-abc-waremme/mm-regionale-2-a.ics\n",
      "Generating 709 ABC WAREMME - U 10 - MM D calendar at data/709-abc-waremme/u-10-mm-d.ics\n",
      "Generating 709 ABC WAREMME - U 10 - MM K calendar at data/709-abc-waremme/u-10-mm-k.ics\n",
      "Generating 709 ABC WAREMME - U 12 - MM B calendar at data/709-abc-waremme/u-12-mm-b.ics\n",
      "Generating 709 ABC WAREMME - U 12 - MM D calendar at data/709-abc-waremme/u-12-mm-d.ics\n",
      "Generating 709 ABC WAREMME - U 12 - MM H calendar at data/709-abc-waremme/u-12-mm-h.ics\n",
      "Generating 709 ABC WAREMME - U 12 - MM I calendar at data/709-abc-waremme/u-12-mm-i.ics\n"
     ]
    },
    {
     "name": "stderr",
     "output_type": "stream",
     "text": [
      "/var/folders/zn/0wszm2k93n1_tvmfqd8t1_sc0000gn/T/ipykernel_3934/4233784187.py:29: SettingWithCopyWarning: \n",
      "A value is trying to be set on a copy of a slice from a DataFrame\n",
      "\n",
      "See the caveats in the documentation: https://pandas.pydata.org/pandas-docs/stable/user_guide/indexing.html#returning-a-view-versus-a-copy\n",
      "  agenda.drop(\"Unknown\", axis=1, inplace=True)\n"
     ]
    },
    {
     "name": "stdout",
     "output_type": "stream",
     "text": [
      "Generating 709 ABC WAREMME - U 14 - ELITES MM B calendar at data/709-abc-waremme/u-14-elites-mm-b.ics\n",
      "Generating 709 ABC WAREMME - U 14 - SILVER REGIONALES C calendar at data/709-abc-waremme/u-14-silver-regionales-c.ics\n",
      "Generating 709 ABC WAREMME - U 14 - SILVER REGIONAUX B calendar at data/709-abc-waremme/u-14-silver-regionaux-b.ics\n",
      "Generating 709 ABC WAREMME - U 16 - DD B calendar at data/709-abc-waremme/u-16-dd-b.ics\n",
      "Generating 709 ABC WAREMME - U 16 - ELITES MM A calendar at data/709-abc-waremme/u-16-elites-mm-a.ics\n",
      "Generating 709 ABC WAREMME - U 16 - PROV MM C calendar at data/709-abc-waremme/u-16-prov-mm-c.ics\n",
      "Generating 709 ABC WAREMME - U 18 - ELITES MM C calendar at data/709-abc-waremme/u-18-elites-mm-c.ics\n",
      "Generating 709 ABC WAREMME - U 18 - PROV MM calendar at data/709-abc-waremme/u-18-prov-mm.ics\n",
      "Generating 709 ABC WAREMME - U 19 - DD A calendar at data/709-abc-waremme/u-19-dd-a.ics\n",
      "Generating 709 ABC WAREMME - U 19 - DD B calendar at data/709-abc-waremme/u-19-dd-b.ics\n",
      "Generating 709 ABC WAREMME - U 7 - MM C calendar at data/709-abc-waremme/u-7-mm-c.ics\n",
      "Generating 709 ABC WAREMME - U 7 - MM D calendar at data/709-abc-waremme/u-7-mm-d.ics\n",
      "Generating 709 ABC WAREMME - U 8 - MM C calendar at data/709-abc-waremme/u-8-mm-c.ics\n",
      "Generating 709 ABC WAREMME - U 8 - MM D calendar at data/709-abc-waremme/u-8-mm-d.ics\n"
     ]
    },
    {
     "name": "stderr",
     "output_type": "stream",
     "text": [
      "/Users/martin/Library/Python/3.9/lib/python/site-packages/bs4/__init__.py:228: UserWarning: You provided Unicode markup but also provided a value for from_encoding. Your from_encoding will be ignored.\n",
      "  warnings.warn(\"You provided Unicode markup but also provided a value for from_encoding. Your from_encoding will be ignored.\")\n"
     ]
    },
    {
     "name": "stdout",
     "output_type": "stream",
     "text": [
      "Agenda shape: (639, 9) from http://www.cpliege.be/Clubs/club1555.asp\n",
      "Generating 1555 ALL. FLEMALLE - AW209002 calendar at data/1555-all-flemalle/aw209002.ics\n",
      "Generating 1555 ALL. FLEMALLE - AW209005 calendar at data/1555-all-flemalle/aw209005.ics\n",
      "Generating 1555 ALL. FLEMALLE - AW209011 calendar at data/1555-all-flemalle/aw209011.ics\n",
      "Generating 1555 ALL. FLEMALLE - AW209013 calendar at data/1555-all-flemalle/aw209013.ics\n",
      "Generating 1555 ALL. FLEMALLE - AWBB MM - POULE I calendar at data/1555-all-flemalle/awbb-mm-poule-i.ics\n",
      "Generating 1555 ALL. FLEMALLE - CPE PROV DAMES calendar at data/1555-all-flemalle/cpe-prov-dames.ics\n",
      "Generating 1555 ALL. FLEMALLE - CPE PROV MESSIEURS calendar at data/1555-all-flemalle/cpe-prov-messieurs.ics\n",
      "Generating 1555 ALL. FLEMALLE - CPE PROV MINIMES DD calendar at data/1555-all-flemalle/cpe-prov-minimes-dd.ics\n",
      "Generating 1555 ALL. FLEMALLE - CPE PROV MINIMES MM calendar at data/1555-all-flemalle/cpe-prov-minimes-mm.ics\n",
      "Generating 1555 ALL. FLEMALLE - DD - DIVISION 2 A calendar at data/1555-all-flemalle/dd-division-2-a.ics\n",
      "Generating 1555 ALL. FLEMALLE - DD - DIVISION 3 B calendar at data/1555-all-flemalle/dd-division-3-b.ics\n",
      "Generating 1555 ALL. FLEMALLE - DD - DIVISION 3 C calendar at data/1555-all-flemalle/dd-division-3-c.ics\n",
      "Generating 1555 ALL. FLEMALLE - MM - DIVISION 1 calendar at data/1555-all-flemalle/mm-division-1.ics\n",
      "Generating 1555 ALL. FLEMALLE - MM - DIVISION 3 A calendar at data/1555-all-flemalle/mm-division-3-a.ics\n",
      "Generating 1555 ALL. FLEMALLE - MM - DIVISION 4 B calendar at data/1555-all-flemalle/mm-division-4-b.ics\n",
      "Generating 1555 ALL. FLEMALLE - MM - DIVISION 4 C calendar at data/1555-all-flemalle/mm-division-4-c.ics\n",
      "Generating 1555 ALL. FLEMALLE - MM - DIVISION 4 D calendar at data/1555-all-flemalle/mm-division-4-d.ics\n",
      "Generating 1555 ALL. FLEMALLE - U 10 - MM C calendar at data/1555-all-flemalle/u-10-mm-c.ics\n",
      "Generating 1555 ALL. FLEMALLE - U 10 - MM D calendar at data/1555-all-flemalle/u-10-mm-d.ics\n",
      "Generating 1555 ALL. FLEMALLE - U 10 - MM F calendar at data/1555-all-flemalle/u-10-mm-f.ics\n",
      "Generating 1555 ALL. FLEMALLE - U 10 - MM G calendar at data/1555-all-flemalle/u-10-mm-g.ics\n",
      "Generating 1555 ALL. FLEMALLE - U 12 - DD calendar at data/1555-all-flemalle/u-12-dd.ics\n",
      "Generating 1555 ALL. FLEMALLE - U 12 - MM B calendar at data/1555-all-flemalle/u-12-mm-b.ics\n",
      "Generating 1555 ALL. FLEMALLE - U 12 - MM C calendar at data/1555-all-flemalle/u-12-mm-c.ics\n",
      "Generating 1555 ALL. FLEMALLE - U 12 - MM D calendar at data/1555-all-flemalle/u-12-mm-d.ics\n",
      "Generating 1555 ALL. FLEMALLE - U 12 - MM H calendar at data/1555-all-flemalle/u-12-mm-h.ics\n"
     ]
    },
    {
     "name": "stderr",
     "output_type": "stream",
     "text": [
      "/var/folders/zn/0wszm2k93n1_tvmfqd8t1_sc0000gn/T/ipykernel_3934/4233784187.py:29: SettingWithCopyWarning: \n",
      "A value is trying to be set on a copy of a slice from a DataFrame\n",
      "\n",
      "See the caveats in the documentation: https://pandas.pydata.org/pandas-docs/stable/user_guide/indexing.html#returning-a-view-versus-a-copy\n",
      "  agenda.drop(\"Unknown\", axis=1, inplace=True)\n"
     ]
    },
    {
     "name": "stdout",
     "output_type": "stream",
     "text": [
      "Generating 1555 ALL. FLEMALLE - U 12 - MM I calendar at data/1555-all-flemalle/u-12-mm-i.ics\n",
      "Generating 1555 ALL. FLEMALLE - U 14 - DD B calendar at data/1555-all-flemalle/u-14-dd-b.ics\n",
      "Generating 1555 ALL. FLEMALLE - U 14 - ELITES MM A calendar at data/1555-all-flemalle/u-14-elites-mm-a.ics\n",
      "Generating 1555 ALL. FLEMALLE - U 14 - PROV MM D calendar at data/1555-all-flemalle/u-14-prov-mm-d.ics\n",
      "Generating 1555 ALL. FLEMALLE - U 14 - SILVER REGIONALES B calendar at data/1555-all-flemalle/u-14-silver-regionales-b.ics\n",
      "Generating 1555 ALL. FLEMALLE - U 16 - DD A calendar at data/1555-all-flemalle/u-16-dd-a.ics\n",
      "Generating 1555 ALL. FLEMALLE - U 16 - DD B calendar at data/1555-all-flemalle/u-16-dd-b.ics\n",
      "Generating 1555 ALL. FLEMALLE - U 16 - PROV MM B calendar at data/1555-all-flemalle/u-16-prov-mm-b.ics\n",
      "Generating 1555 ALL. FLEMALLE - U 18 - ELITES MM B calendar at data/1555-all-flemalle/u-18-elites-mm-b.ics\n",
      "Generating 1555 ALL. FLEMALLE - U 18 - PROV MM calendar at data/1555-all-flemalle/u-18-prov-mm.ics\n",
      "Generating 1555 ALL. FLEMALLE - U 7 - MM A calendar at data/1555-all-flemalle/u-7-mm-a.ics\n",
      "Generating 1555 ALL. FLEMALLE - U 7 - MM D calendar at data/1555-all-flemalle/u-7-mm-d.ics\n",
      "Generating 1555 ALL. FLEMALLE - U 8 - MM D calendar at data/1555-all-flemalle/u-8-mm-d.ics\n",
      "Generating 1555 ALL. FLEMALLE - U 8 - MM E calendar at data/1555-all-flemalle/u-8-mm-e.ics\n"
     ]
    },
    {
     "name": "stderr",
     "output_type": "stream",
     "text": [
      "/Users/martin/Library/Python/3.9/lib/python/site-packages/bs4/__init__.py:228: UserWarning: You provided Unicode markup but also provided a value for from_encoding. Your from_encoding will be ignored.\n",
      "  warnings.warn(\"You provided Unicode markup but also provided a value for from_encoding. Your from_encoding will be ignored.\")\n"
     ]
    },
    {
     "name": "stdout",
     "output_type": "stream",
     "text": [
      "Agenda shape: (438, 9) from http://www.cpliege.be/Clubs/club2558.asp\n",
      "Generating 2558 LA VILLERSOISE - DD - DIVISION 2 A calendar at data/2558-la-villersoise/dd-division-2-a.ics\n",
      "Generating 2558 LA VILLERSOISE - DD - DIVISION 3 A calendar at data/2558-la-villersoise/dd-division-3-a.ics\n",
      "Generating 2558 LA VILLERSOISE - MM - DIVISION 3 A calendar at data/2558-la-villersoise/mm-division-3-a.ics\n",
      "Generating 2558 LA VILLERSOISE - MM - DIVISION 3 B calendar at data/2558-la-villersoise/mm-division-3-b.ics\n",
      "Generating 2558 LA VILLERSOISE - MM - DIVISION 4 A calendar at data/2558-la-villersoise/mm-division-4-a.ics\n",
      "Generating 2558 LA VILLERSOISE - U 10 - MM B calendar at data/2558-la-villersoise/u-10-mm-b.ics\n",
      "Generating 2558 LA VILLERSOISE - U 10 - MM C calendar at data/2558-la-villersoise/u-10-mm-c.ics\n",
      "Generating 2558 LA VILLERSOISE - U 10 - MM J calendar at data/2558-la-villersoise/u-10-mm-j.ics\n",
      "Generating 2558 LA VILLERSOISE - U 12 - INTERPROVINCIAL calendar at data/2558-la-villersoise/u-12-interprovincial.ics\n",
      "Generating 2558 LA VILLERSOISE - U 12 - MM B calendar at data/2558-la-villersoise/u-12-mm-b.ics\n",
      "Generating 2558 LA VILLERSOISE - U 12 - MM D calendar at data/2558-la-villersoise/u-12-mm-d.ics\n",
      "Generating 2558 LA VILLERSOISE - U 14 - GOLD REGIONALES A calendar at data/2558-la-villersoise/u-14-gold-regionales-a.ics\n",
      "Generating 2558 LA VILLERSOISE - U 14 - SILVER REGIONALES B calendar at data/2558-la-villersoise/u-14-silver-regionales-b.ics\n",
      "Generating 2558 LA VILLERSOISE - U 14 - SILVER REGIONAUX A calendar at data/2558-la-villersoise/u-14-silver-regionaux-a.ics\n",
      "Generating 2558 LA VILLERSOISE - U 16 - DD B calendar at data/2558-la-villersoise/u-16-dd-b.ics\n",
      "Generating 2558 LA VILLERSOISE - U 16 - ELITES MM B calendar at data/2558-la-villersoise/u-16-elites-mm-b.ics\n",
      "Generating 2558 LA VILLERSOISE - U 16 - GOLD REGIONALES A calendar at data/2558-la-villersoise/u-16-gold-regionales-a.ics\n",
      "Generating 2558 LA VILLERSOISE - U 16 - SILVER REGIONAUX A calendar at data/2558-la-villersoise/u-16-silver-regionaux-a.ics\n",
      "Generating 2558 LA VILLERSOISE - U 18 - ELITES MM C calendar at data/2558-la-villersoise/u-18-elites-mm-c.ics\n",
      "Generating 2558 LA VILLERSOISE - U 19 - DD B calendar at data/2558-la-villersoise/u-19-dd-b.ics\n"
     ]
    },
    {
     "name": "stderr",
     "output_type": "stream",
     "text": [
      "/var/folders/zn/0wszm2k93n1_tvmfqd8t1_sc0000gn/T/ipykernel_3934/4233784187.py:29: SettingWithCopyWarning: \n",
      "A value is trying to be set on a copy of a slice from a DataFrame\n",
      "\n",
      "See the caveats in the documentation: https://pandas.pydata.org/pandas-docs/stable/user_guide/indexing.html#returning-a-view-versus-a-copy\n",
      "  agenda.drop(\"Unknown\", axis=1, inplace=True)\n"
     ]
    },
    {
     "name": "stdout",
     "output_type": "stream",
     "text": [
      "Generating 2558 LA VILLERSOISE - U 19 - GOLD REGIONALES B calendar at data/2558-la-villersoise/u-19-gold-regionales-b.ics\n",
      "Generating 2558 LA VILLERSOISE - U 7 - MM C calendar at data/2558-la-villersoise/u-7-mm-c.ics\n",
      "Generating 2558 LA VILLERSOISE - U 7 - MM D calendar at data/2558-la-villersoise/u-7-mm-d.ics\n",
      "Generating 2558 LA VILLERSOISE - U 8 - MM F calendar at data/2558-la-villersoise/u-8-mm-f.ics\n"
     ]
    },
    {
     "name": "stderr",
     "output_type": "stream",
     "text": [
      "/Users/martin/Library/Python/3.9/lib/python/site-packages/bs4/__init__.py:228: UserWarning: You provided Unicode markup but also provided a value for from_encoding. Your from_encoding will be ignored.\n",
      "  warnings.warn(\"You provided Unicode markup but also provided a value for from_encoding. Your from_encoding will be ignored.\")\n"
     ]
    },
    {
     "name": "stdout",
     "output_type": "stream",
     "text": [
      "Agenda shape: (429, 9) from http://www.cpliege.be/clubs/club0091.asp\n",
      "Generating 91 ROYAL SPA BC - AW203002 calendar at data/91-royal-spa-bc/aw203002.ics\n",
      "Generating 91 ROYAL SPA BC - AW203005 calendar at data/91-royal-spa-bc/aw203005.ics\n",
      "Generating 91 ROYAL SPA BC - AW203011 calendar at data/91-royal-spa-bc/aw203011.ics\n",
      "Generating 91 ROYAL SPA BC - AW203013 calendar at data/91-royal-spa-bc/aw203013.ics\n",
      "Generating 91 ROYAL SPA BC - AWBB MM - POULE C calendar at data/91-royal-spa-bc/awbb-mm-poule-c.ics\n",
      "Generating 91 ROYAL SPA BC - DD - DIVISION 1 calendar at data/91-royal-spa-bc/dd-division-1.ics\n",
      "Generating 91 ROYAL SPA BC - DD - DIVISION 3 C calendar at data/91-royal-spa-bc/dd-division-3-c.ics\n",
      "Generating 91 ROYAL SPA BC - MM - DIVISION 2 A calendar at data/91-royal-spa-bc/mm-division-2-a.ics\n",
      "Generating 91 ROYAL SPA BC - MM - DIVISION 2 B calendar at data/91-royal-spa-bc/mm-division-2-b.ics\n",
      "Generating 91 ROYAL SPA BC - MM - DIVISION 4 C calendar at data/91-royal-spa-bc/mm-division-4-c.ics\n",
      "Generating 91 ROYAL SPA BC - MM - DIVISION 4 E calendar at data/91-royal-spa-bc/mm-division-4-e.ics\n",
      "Generating 91 ROYAL SPA BC - MM - REGIONALE 2 B calendar at data/91-royal-spa-bc/mm-regionale-2-b.ics\n",
      "Generating 91 ROYAL SPA BC - U 10 - MM A calendar at data/91-royal-spa-bc/u-10-mm-a.ics\n",
      "Generating 91 ROYAL SPA BC - U 10 - MM E calendar at data/91-royal-spa-bc/u-10-mm-e.ics\n",
      "Generating 91 ROYAL SPA BC - U 10 - MM F calendar at data/91-royal-spa-bc/u-10-mm-f.ics\n",
      "Generating 91 ROYAL SPA BC - U 12 - MM A calendar at data/91-royal-spa-bc/u-12-mm-a.ics\n"
     ]
    },
    {
     "name": "stderr",
     "output_type": "stream",
     "text": [
      "/var/folders/zn/0wszm2k93n1_tvmfqd8t1_sc0000gn/T/ipykernel_3934/4233784187.py:29: SettingWithCopyWarning: \n",
      "A value is trying to be set on a copy of a slice from a DataFrame\n",
      "\n",
      "See the caveats in the documentation: https://pandas.pydata.org/pandas-docs/stable/user_guide/indexing.html#returning-a-view-versus-a-copy\n",
      "  agenda.drop(\"Unknown\", axis=1, inplace=True)\n"
     ]
    },
    {
     "name": "stdout",
     "output_type": "stream",
     "text": [
      "Generating 91 ROYAL SPA BC - U 14 - DD A calendar at data/91-royal-spa-bc/u-14-dd-a.ics\n",
      "Generating 91 ROYAL SPA BC - U 14 - PROV MM B calendar at data/91-royal-spa-bc/u-14-prov-mm-b.ics\n",
      "Generating 91 ROYAL SPA BC - U 16 - DD A calendar at data/91-royal-spa-bc/u-16-dd-a.ics\n",
      "Generating 91 ROYAL SPA BC - U 16 - ELITES MM A calendar at data/91-royal-spa-bc/u-16-elites-mm-a.ics\n",
      "Generating 91 ROYAL SPA BC - U 16 - PROV MM B calendar at data/91-royal-spa-bc/u-16-prov-mm-b.ics\n",
      "Generating 91 ROYAL SPA BC - U 21 - MM B calendar at data/91-royal-spa-bc/u-21-mm-b.ics\n",
      "Generating 91 ROYAL SPA BC - U 7 - MM A calendar at data/91-royal-spa-bc/u-7-mm-a.ics\n",
      "Generating 91 ROYAL SPA BC - U 8 - MM A calendar at data/91-royal-spa-bc/u-8-mm-a.ics\n",
      "Generating 91 ROYAL SPA BC - U 8 - MM B calendar at data/91-royal-spa-bc/u-8-mm-b.ics\n"
     ]
    },
    {
     "name": "stderr",
     "output_type": "stream",
     "text": [
      "/Users/martin/Library/Python/3.9/lib/python/site-packages/bs4/__init__.py:228: UserWarning: You provided Unicode markup but also provided a value for from_encoding. Your from_encoding will be ignored.\n",
      "  warnings.warn(\"You provided Unicode markup but also provided a value for from_encoding. Your from_encoding will be ignored.\")\n"
     ]
    },
    {
     "name": "stdout",
     "output_type": "stream",
     "text": [
      "Agenda shape: (570, 9) from http://www.cpliege.be/clubs/club0854.asp\n",
      "Generating 854 BC SPRIMONT - AW205005 calendar at data/854-bc-sprimont/aw205005.ics\n",
      "Generating 854 BC SPRIMONT - AW205007 calendar at data/854-bc-sprimont/aw205007.ics\n",
      "Generating 854 BC SPRIMONT - AW205010 calendar at data/854-bc-sprimont/aw205010.ics\n",
      "Generating 854 BC SPRIMONT - AW205014 calendar at data/854-bc-sprimont/aw205014.ics\n",
      "Generating 854 BC SPRIMONT - AWBB MM - POULE E calendar at data/854-bc-sprimont/awbb-mm-poule-e.ics\n",
      "Generating 854 BC SPRIMONT - BELGIQUE MM - POULE F calendar at data/854-bc-sprimont/belgique-mm-poule-f.ics\n",
      "Generating 854 BC SPRIMONT - BNAHSEPFBD calendar at data/854-bc-sprimont/bnahsepfbd.ics\n",
      "Generating 854 BC SPRIMONT - BNAHSEPFCD calendar at data/854-bc-sprimont/bnahsepfcd.ics\n",
      "Generating 854 BC SPRIMONT - BNAHSEPFDA calendar at data/854-bc-sprimont/bnahsepfda.ics\n",
      "Generating 854 BC SPRIMONT - BNAHSEPFDE calendar at data/854-bc-sprimont/bnahsepfde.ics\n",
      "Generating 854 BC SPRIMONT - CPE PROV MESSIEURS calendar at data/854-bc-sprimont/cpe-prov-messieurs.ics\n",
      "Generating 854 BC SPRIMONT - CPE PROV MINIMES MM calendar at data/854-bc-sprimont/cpe-prov-minimes-mm.ics\n",
      "Generating 854 BC SPRIMONT - CPE PROV PUPILLES MM calendar at data/854-bc-sprimont/cpe-prov-pupilles-mm.ics\n",
      "Generating 854 BC SPRIMONT - DD - DIVISION 1 calendar at data/854-bc-sprimont/dd-division-1.ics\n",
      "Generating 854 BC SPRIMONT - DD - DIVISION 2 A calendar at data/854-bc-sprimont/dd-division-2-a.ics\n",
      "Generating 854 BC SPRIMONT - MM - DIVISION 2 A calendar at data/854-bc-sprimont/mm-division-2-a.ics\n",
      "Generating 854 BC SPRIMONT - MM - DIVISION 3 B calendar at data/854-bc-sprimont/mm-division-3-b.ics\n",
      "Generating 854 BC SPRIMONT - MM - DIVISION 4 C calendar at data/854-bc-sprimont/mm-division-4-c.ics\n",
      "Generating 854 BC SPRIMONT - MM - REGIONALE 1 calendar at data/854-bc-sprimont/mm-regionale-1.ics\n",
      "Generating 854 BC SPRIMONT - TOP DIVISION MEN 2 B calendar at data/854-bc-sprimont/top-division-men-2-b.ics\n",
      "Generating 854 BC SPRIMONT - U 10 - MM B calendar at data/854-bc-sprimont/u-10-mm-b.ics\n",
      "Generating 854 BC SPRIMONT - U 10 - MM C calendar at data/854-bc-sprimont/u-10-mm-c.ics\n",
      "Generating 854 BC SPRIMONT - U 10 - MM D calendar at data/854-bc-sprimont/u-10-mm-d.ics\n",
      "Generating 854 BC SPRIMONT - U 10 - MM J calendar at data/854-bc-sprimont/u-10-mm-j.ics\n",
      "Generating 854 BC SPRIMONT - U 12 - MM C calendar at data/854-bc-sprimont/u-12-mm-c.ics\n",
      "Generating 854 BC SPRIMONT - U 12 - MM D calendar at data/854-bc-sprimont/u-12-mm-d.ics\n"
     ]
    },
    {
     "name": "stderr",
     "output_type": "stream",
     "text": [
      "/var/folders/zn/0wszm2k93n1_tvmfqd8t1_sc0000gn/T/ipykernel_3934/4233784187.py:29: SettingWithCopyWarning: \n",
      "A value is trying to be set on a copy of a slice from a DataFrame\n",
      "\n",
      "See the caveats in the documentation: https://pandas.pydata.org/pandas-docs/stable/user_guide/indexing.html#returning-a-view-versus-a-copy\n",
      "  agenda.drop(\"Unknown\", axis=1, inplace=True)\n"
     ]
    },
    {
     "name": "stdout",
     "output_type": "stream",
     "text": [
      "Generating 854 BC SPRIMONT - U 12 - MM J calendar at data/854-bc-sprimont/u-12-mm-j.ics\n",
      "Generating 854 BC SPRIMONT - U 14 - ELITES MM B calendar at data/854-bc-sprimont/u-14-elites-mm-b.ics\n",
      "Generating 854 BC SPRIMONT - U 14 - GOLD REGIONAUX A calendar at data/854-bc-sprimont/u-14-gold-regionaux-a.ics\n",
      "Generating 854 BC SPRIMONT - U 16 - ELITES MM B calendar at data/854-bc-sprimont/u-16-elites-mm-b.ics\n",
      "Generating 854 BC SPRIMONT - U 16 - GOLD REGIONAUX B calendar at data/854-bc-sprimont/u-16-gold-regionaux-b.ics\n",
      "Generating 854 BC SPRIMONT - U 16 - SILVER REGIONAUX C calendar at data/854-bc-sprimont/u-16-silver-regionaux-c.ics\n",
      "Generating 854 BC SPRIMONT - U 18 - ELITES MM C calendar at data/854-bc-sprimont/u-18-elites-mm-c.ics\n",
      "Generating 854 BC SPRIMONT - U 18 - GOLD REGIONAUX A calendar at data/854-bc-sprimont/u-18-gold-regionaux-a.ics\n",
      "Generating 854 BC SPRIMONT - U 19 - SILVER REGIONALES C calendar at data/854-bc-sprimont/u-19-silver-regionales-c.ics\n",
      "Generating 854 BC SPRIMONT - U 21 - MM B calendar at data/854-bc-sprimont/u-21-mm-b.ics\n",
      "Generating 854 BC SPRIMONT - U 7 - MM A calendar at data/854-bc-sprimont/u-7-mm-a.ics\n",
      "Generating 854 BC SPRIMONT - U 7 - MM B calendar at data/854-bc-sprimont/u-7-mm-b.ics\n",
      "Generating 854 BC SPRIMONT - U 7 - MM C calendar at data/854-bc-sprimont/u-7-mm-c.ics\n",
      "Generating 854 BC SPRIMONT - U 8 - MM C calendar at data/854-bc-sprimont/u-8-mm-c.ics\n",
      "Generating 854 BC SPRIMONT - U 8 - MM D calendar at data/854-bc-sprimont/u-8-mm-d.ics\n",
      "Generating 854 BC SPRIMONT - U 8 - MM E calendar at data/854-bc-sprimont/u-8-mm-e.ics\n"
     ]
    },
    {
     "name": "stderr",
     "output_type": "stream",
     "text": [
      "/Users/martin/Library/Python/3.9/lib/python/site-packages/bs4/__init__.py:228: UserWarning: You provided Unicode markup but also provided a value for from_encoding. Your from_encoding will be ignored.\n",
      "  warnings.warn(\"You provided Unicode markup but also provided a value for from_encoding. Your from_encoding will be ignored.\")\n"
     ]
    },
    {
     "name": "stdout",
     "output_type": "stream",
     "text": [
      "Agenda shape: (357, 9) from http://www.cpliege.be/Clubs/club1595.asp\n",
      "Generating 1595 RBC BLEGNY - CPE PROV DAMES calendar at data/1595-rbc-blegny/cpe-prov-dames.ics\n",
      "Generating 1595 RBC BLEGNY - DD - DIVISION 1 calendar at data/1595-rbc-blegny/dd-division-1.ics\n",
      "Generating 1595 RBC BLEGNY - DD - DIVISION 2 A calendar at data/1595-rbc-blegny/dd-division-2-a.ics\n",
      "Generating 1595 RBC BLEGNY - DD - DIVISION 3 A calendar at data/1595-rbc-blegny/dd-division-3-a.ics\n",
      "Generating 1595 RBC BLEGNY - MM - DIVISION 3 B calendar at data/1595-rbc-blegny/mm-division-3-b.ics\n",
      "Generating 1595 RBC BLEGNY - MM - DIVISION 3 C calendar at data/1595-rbc-blegny/mm-division-3-c.ics\n",
      "Generating 1595 RBC BLEGNY - MM - DIVISION 4 E calendar at data/1595-rbc-blegny/mm-division-4-e.ics\n",
      "Generating 1595 RBC BLEGNY - U 10 - MM B calendar at data/1595-rbc-blegny/u-10-mm-b.ics\n",
      "Generating 1595 RBC BLEGNY - U 10 - MM H calendar at data/1595-rbc-blegny/u-10-mm-h.ics\n",
      "Generating 1595 RBC BLEGNY - U 12 - MM A calendar at data/1595-rbc-blegny/u-12-mm-a.ics\n",
      "Generating 1595 RBC BLEGNY - U 14 - DD A calendar at data/1595-rbc-blegny/u-14-dd-a.ics\n",
      "Generating 1595 RBC BLEGNY - U 14 - PROV MM A calendar at data/1595-rbc-blegny/u-14-prov-mm-a.ics\n",
      "Generating 1595 RBC BLEGNY - U 14 - PROV MM C calendar at data/1595-rbc-blegny/u-14-prov-mm-c.ics\n",
      "Generating 1595 RBC BLEGNY - U 16 - DD B calendar at data/1595-rbc-blegny/u-16-dd-b.ics\n",
      "Generating 1595 RBC BLEGNY - U 16 - PROV MM B calendar at data/1595-rbc-blegny/u-16-prov-mm-b.ics\n",
      "Generating 1595 RBC BLEGNY - U 19 - DD B calendar at data/1595-rbc-blegny/u-19-dd-b.ics\n"
     ]
    },
    {
     "name": "stderr",
     "output_type": "stream",
     "text": [
      "/var/folders/zn/0wszm2k93n1_tvmfqd8t1_sc0000gn/T/ipykernel_3934/4233784187.py:29: SettingWithCopyWarning: \n",
      "A value is trying to be set on a copy of a slice from a DataFrame\n",
      "\n",
      "See the caveats in the documentation: https://pandas.pydata.org/pandas-docs/stable/user_guide/indexing.html#returning-a-view-versus-a-copy\n",
      "  agenda.drop(\"Unknown\", axis=1, inplace=True)\n"
     ]
    },
    {
     "name": "stdout",
     "output_type": "stream",
     "text": [
      "Generating 1595 RBC BLEGNY - U 7 - MM B calendar at data/1595-rbc-blegny/u-7-mm-b.ics\n",
      "Generating 1595 RBC BLEGNY - U 8 - MM A calendar at data/1595-rbc-blegny/u-8-mm-a.ics\n"
     ]
    },
    {
     "name": "stderr",
     "output_type": "stream",
     "text": [
      "/Users/martin/Library/Python/3.9/lib/python/site-packages/bs4/__init__.py:228: UserWarning: You provided Unicode markup but also provided a value for from_encoding. Your from_encoding will be ignored.\n",
      "  warnings.warn(\"You provided Unicode markup but also provided a value for from_encoding. Your from_encoding will be ignored.\")\n",
      "/var/folders/zn/0wszm2k93n1_tvmfqd8t1_sc0000gn/T/ipykernel_3934/4233784187.py:29: SettingWithCopyWarning: \n",
      "A value is trying to be set on a copy of a slice from a DataFrame\n",
      "\n",
      "See the caveats in the documentation: https://pandas.pydata.org/pandas-docs/stable/user_guide/indexing.html#returning-a-view-versus-a-copy\n",
      "  agenda.drop(\"Unknown\", axis=1, inplace=True)\n"
     ]
    },
    {
     "name": "stdout",
     "output_type": "stream",
     "text": [
      "Agenda shape: (44, 9) from http://www.cpliege.be/Clubs/club2563.asp\n",
      "Generating 2563 CS OUTREMEUSE - CPE PROV DAMES calendar at data/2563-cs-outremeuse/cpe-prov-dames.ics\n",
      "Generating 2563 CS OUTREMEUSE - CPE PROV MESSIEURS calendar at data/2563-cs-outremeuse/cpe-prov-messieurs.ics\n",
      "Generating 2563 CS OUTREMEUSE - DD - DIVISION 3 A calendar at data/2563-cs-outremeuse/dd-division-3-a.ics\n",
      "Generating 2563 CS OUTREMEUSE - MM - DIVISION 4 B calendar at data/2563-cs-outremeuse/mm-division-4-b.ics\n"
     ]
    },
    {
     "name": "stderr",
     "output_type": "stream",
     "text": [
      "/Users/martin/Library/Python/3.9/lib/python/site-packages/bs4/__init__.py:228: UserWarning: You provided Unicode markup but also provided a value for from_encoding. Your from_encoding will be ignored.\n",
      "  warnings.warn(\"You provided Unicode markup but also provided a value for from_encoding. Your from_encoding will be ignored.\")\n"
     ]
    },
    {
     "name": "stdout",
     "output_type": "stream",
     "text": [
      "Agenda shape: (319, 9) from http://www.cpliege.be/clubs/club0097.asp\n",
      "Generating 97 RB TILFF - AW216002 calendar at data/97-rb-tilff/aw216002.ics\n",
      "Generating 97 RB TILFF - AW216004 calendar at data/97-rb-tilff/aw216004.ics\n",
      "Generating 97 RB TILFF - AW216006 calendar at data/97-rb-tilff/aw216006.ics\n",
      "Generating 97 RB TILFF - AWBB MM - POULE P calendar at data/97-rb-tilff/awbb-mm-poule-p.ics\n",
      "Generating 97 RB TILFF - CPE PROV MESSIEURS calendar at data/97-rb-tilff/cpe-prov-messieurs.ics\n",
      "Generating 97 RB TILFF - MM - DIVISION 2 B calendar at data/97-rb-tilff/mm-division-2-b.ics\n",
      "Generating 97 RB TILFF - MM - DIVISION 3 A calendar at data/97-rb-tilff/mm-division-3-a.ics\n",
      "Generating 97 RB TILFF - MM - DIVISION 4 D calendar at data/97-rb-tilff/mm-division-4-d.ics\n",
      "Generating 97 RB TILFF - MM - DIVISION 4 E calendar at data/97-rb-tilff/mm-division-4-e.ics\n",
      "Generating 97 RB TILFF - MM - REGIONALE 2 B calendar at data/97-rb-tilff/mm-regionale-2-b.ics\n",
      "Generating 97 RB TILFF - U 10 - MM C calendar at data/97-rb-tilff/u-10-mm-c.ics\n",
      "Generating 97 RB TILFF - U 10 - MM D calendar at data/97-rb-tilff/u-10-mm-d.ics\n",
      "Generating 97 RB TILFF - U 10 - MM G calendar at data/97-rb-tilff/u-10-mm-g.ics\n",
      "Generating 97 RB TILFF - U 10 - MM J calendar at data/97-rb-tilff/u-10-mm-j.ics\n",
      "Generating 97 RB TILFF - U 12 - MM B calendar at data/97-rb-tilff/u-12-mm-b.ics\n",
      "Generating 97 RB TILFF - U 12 - MM C calendar at data/97-rb-tilff/u-12-mm-c.ics\n",
      "Generating 97 RB TILFF - U 14 - ELITES MM A calendar at data/97-rb-tilff/u-14-elites-mm-a.ics\n",
      "Generating 97 RB TILFF - U 21 - MM B calendar at data/97-rb-tilff/u-21-mm-b.ics\n",
      "Generating 97 RB TILFF - U 7 - MM A calendar at data/97-rb-tilff/u-7-mm-a.ics\n",
      "Generating 97 RB TILFF - U 8 - MM F calendar at data/97-rb-tilff/u-8-mm-f.ics\n"
     ]
    },
    {
     "name": "stderr",
     "output_type": "stream",
     "text": [
      "/var/folders/zn/0wszm2k93n1_tvmfqd8t1_sc0000gn/T/ipykernel_3934/4233784187.py:29: SettingWithCopyWarning: \n",
      "A value is trying to be set on a copy of a slice from a DataFrame\n",
      "\n",
      "See the caveats in the documentation: https://pandas.pydata.org/pandas-docs/stable/user_guide/indexing.html#returning-a-view-versus-a-copy\n",
      "  agenda.drop(\"Unknown\", axis=1, inplace=True)\n",
      "/Users/martin/Library/Python/3.9/lib/python/site-packages/bs4/__init__.py:228: UserWarning: You provided Unicode markup but also provided a value for from_encoding. Your from_encoding will be ignored.\n",
      "  warnings.warn(\"You provided Unicode markup but also provided a value for from_encoding. Your from_encoding will be ignored.\")\n",
      "/var/folders/zn/0wszm2k93n1_tvmfqd8t1_sc0000gn/T/ipykernel_3934/4233784187.py:29: SettingWithCopyWarning: \n",
      "A value is trying to be set on a copy of a slice from a DataFrame\n",
      "\n",
      "See the caveats in the documentation: https://pandas.pydata.org/pandas-docs/stable/user_guide/indexing.html#returning-a-view-versus-a-copy\n",
      "  agenda.drop(\"Unknown\", axis=1, inplace=True)\n"
     ]
    },
    {
     "name": "stdout",
     "output_type": "stream",
     "text": [
      "Agenda shape: (54, 9) from http://www.cpliege.be/clubs/club0914.asp\n",
      "Generating 914 RBC CROATIA OUPEYE - CPE PROV DAMES calendar at data/914-rbc-croatia-oupeye/cpe-prov-dames.ics\n",
      "Generating 914 RBC CROATIA OUPEYE - CPE PROV MESSIEURS calendar at data/914-rbc-croatia-oupeye/cpe-prov-messieurs.ics\n",
      "Generating 914 RBC CROATIA OUPEYE - DD - DIVISION 1 calendar at data/914-rbc-croatia-oupeye/dd-division-1.ics\n",
      "Generating 914 RBC CROATIA OUPEYE - MM - DIVISION 4 C calendar at data/914-rbc-croatia-oupeye/mm-division-4-c.ics\n"
     ]
    },
    {
     "name": "stderr",
     "output_type": "stream",
     "text": [
      "/Users/martin/Library/Python/3.9/lib/python/site-packages/bs4/__init__.py:228: UserWarning: You provided Unicode markup but also provided a value for from_encoding. Your from_encoding will be ignored.\n",
      "  warnings.warn(\"You provided Unicode markup but also provided a value for from_encoding. Your from_encoding will be ignored.\")\n",
      "/var/folders/zn/0wszm2k93n1_tvmfqd8t1_sc0000gn/T/ipykernel_3934/4233784187.py:29: SettingWithCopyWarning: \n",
      "A value is trying to be set on a copy of a slice from a DataFrame\n",
      "\n",
      "See the caveats in the documentation: https://pandas.pydata.org/pandas-docs/stable/user_guide/indexing.html#returning-a-view-versus-a-copy\n",
      "  agenda.drop(\"Unknown\", axis=1, inplace=True)\n"
     ]
    },
    {
     "name": "stdout",
     "output_type": "stream",
     "text": [
      "Agenda shape: (52, 9) from http://www.cpliege.be/Clubs/club1623.asp\n",
      "Generating 1623 REBOND NEUVILLE - DD - DIVISION 3 B calendar at data/1623-rebond-neuville/dd-division-3-b.ics\n",
      "Generating 1623 REBOND NEUVILLE - U 10 - MM J calendar at data/1623-rebond-neuville/u-10-mm-j.ics\n",
      "Generating 1623 REBOND NEUVILLE - U 14 - PROV MM D calendar at data/1623-rebond-neuville/u-14-prov-mm-d.ics\n"
     ]
    },
    {
     "name": "stderr",
     "output_type": "stream",
     "text": [
      "/Users/martin/Library/Python/3.9/lib/python/site-packages/bs4/__init__.py:228: UserWarning: You provided Unicode markup but also provided a value for from_encoding. Your from_encoding will be ignored.\n",
      "  warnings.warn(\"You provided Unicode markup but also provided a value for from_encoding. Your from_encoding will be ignored.\")\n"
     ]
    },
    {
     "name": "stdout",
     "output_type": "stream",
     "text": [
      "Agenda shape: (153, 9) from http://www.cpliege.be/Clubs/club2657.asp\n",
      "Generating 2657 DF BC MALMEDY - DD - DIVISION 3 C calendar at data/2657-df-bc-malmedy/dd-division-3-c.ics\n",
      "Generating 2657 DF BC MALMEDY - MM - DIVISION 4 E calendar at data/2657-df-bc-malmedy/mm-division-4-e.ics\n",
      "Generating 2657 DF BC MALMEDY - U 10 - MM E calendar at data/2657-df-bc-malmedy/u-10-mm-e.ics\n",
      "Generating 2657 DF BC MALMEDY - U 12 - MM E calendar at data/2657-df-bc-malmedy/u-12-mm-e.ics\n",
      "Generating 2657 DF BC MALMEDY - U 14 - DD A calendar at data/2657-df-bc-malmedy/u-14-dd-a.ics\n",
      "Generating 2657 DF BC MALMEDY - U 14 - PROV MM A calendar at data/2657-df-bc-malmedy/u-14-prov-mm-a.ics\n",
      "Generating 2657 DF BC MALMEDY - U 16 - PROV MM A calendar at data/2657-df-bc-malmedy/u-16-prov-mm-a.ics\n",
      "Generating 2657 DF BC MALMEDY - U 21 - MM A calendar at data/2657-df-bc-malmedy/u-21-mm-a.ics\n"
     ]
    },
    {
     "name": "stderr",
     "output_type": "stream",
     "text": [
      "/var/folders/zn/0wszm2k93n1_tvmfqd8t1_sc0000gn/T/ipykernel_3934/4233784187.py:29: SettingWithCopyWarning: \n",
      "A value is trying to be set on a copy of a slice from a DataFrame\n",
      "\n",
      "See the caveats in the documentation: https://pandas.pydata.org/pandas-docs/stable/user_guide/indexing.html#returning-a-view-versus-a-copy\n",
      "  agenda.drop(\"Unknown\", axis=1, inplace=True)\n",
      "/Users/martin/Library/Python/3.9/lib/python/site-packages/bs4/__init__.py:228: UserWarning: You provided Unicode markup but also provided a value for from_encoding. Your from_encoding will be ignored.\n",
      "  warnings.warn(\"You provided Unicode markup but also provided a value for from_encoding. Your from_encoding will be ignored.\")\n"
     ]
    },
    {
     "name": "stdout",
     "output_type": "stream",
     "text": [
      "Agenda shape: (180, 9) from http://www.cpliege.be/clubs/club0108.asp\n",
      "Generating 108 ROYAL MOSA AC 1941 - CPE PROV MESSIEURS calendar at data/108-royal-mosa-ac-1941/cpe-prov-messieurs.ics\n",
      "Generating 108 ROYAL MOSA AC 1941 - MM - DIVISION 2 B calendar at data/108-royal-mosa-ac-1941/mm-division-2-b.ics\n",
      "Generating 108 ROYAL MOSA AC 1941 - MM - DIVISION 4 A calendar at data/108-royal-mosa-ac-1941/mm-division-4-a.ics\n",
      "Generating 108 ROYAL MOSA AC 1941 - U 10 - MM K calendar at data/108-royal-mosa-ac-1941/u-10-mm-k.ics\n",
      "Generating 108 ROYAL MOSA AC 1941 - U 12 - MM A calendar at data/108-royal-mosa-ac-1941/u-12-mm-a.ics\n",
      "Generating 108 ROYAL MOSA AC 1941 - U 12 - MM F calendar at data/108-royal-mosa-ac-1941/u-12-mm-f.ics\n",
      "Generating 108 ROYAL MOSA AC 1941 - U 14 - PROV MM B calendar at data/108-royal-mosa-ac-1941/u-14-prov-mm-b.ics\n",
      "Generating 108 ROYAL MOSA AC 1941 - U 16 - ELITES MM A calendar at data/108-royal-mosa-ac-1941/u-16-elites-mm-a.ics\n",
      "Generating 108 ROYAL MOSA AC 1941 - U 18 - ELITES MM A calendar at data/108-royal-mosa-ac-1941/u-18-elites-mm-a.ics\n",
      "Generating 108 ROYAL MOSA AC 1941 - U 8 - MM A calendar at data/108-royal-mosa-ac-1941/u-8-mm-a.ics\n"
     ]
    },
    {
     "name": "stderr",
     "output_type": "stream",
     "text": [
      "/var/folders/zn/0wszm2k93n1_tvmfqd8t1_sc0000gn/T/ipykernel_3934/4233784187.py:29: SettingWithCopyWarning: \n",
      "A value is trying to be set on a copy of a slice from a DataFrame\n",
      "\n",
      "See the caveats in the documentation: https://pandas.pydata.org/pandas-docs/stable/user_guide/indexing.html#returning-a-view-versus-a-copy\n",
      "  agenda.drop(\"Unknown\", axis=1, inplace=True)\n",
      "/Users/martin/Library/Python/3.9/lib/python/site-packages/bs4/__init__.py:228: UserWarning: You provided Unicode markup but also provided a value for from_encoding. Your from_encoding will be ignored.\n",
      "  warnings.warn(\"You provided Unicode markup but also provided a value for from_encoding. Your from_encoding will be ignored.\")\n"
     ]
    },
    {
     "name": "stdout",
     "output_type": "stream",
     "text": [
      "Agenda shape: (223, 9) from http://www.cpliege.be/clubs/club0928.asp\n",
      "Generating 928 ORP JAUCHE - CPE PROV CADETS calendar at data/928-orp-jauche/cpe-prov-cadets.ics\n",
      "Generating 928 ORP JAUCHE - CPE PROV MESSIEURS calendar at data/928-orp-jauche/cpe-prov-messieurs.ics\n",
      "Generating 928 ORP JAUCHE - CPE PROV PUPILLES MM calendar at data/928-orp-jauche/cpe-prov-pupilles-mm.ics\n",
      "Generating 928 ORP JAUCHE - DD - DIVISION 3 B calendar at data/928-orp-jauche/dd-division-3-b.ics\n",
      "Generating 928 ORP JAUCHE - MM - DIVISION 4 A calendar at data/928-orp-jauche/mm-division-4-a.ics\n",
      "Generating 928 ORP JAUCHE - MM - DIVISION 4 D calendar at data/928-orp-jauche/mm-division-4-d.ics\n",
      "Generating 928 ORP JAUCHE - U 10 - MM D calendar at data/928-orp-jauche/u-10-mm-d.ics\n",
      "Generating 928 ORP JAUCHE - U 12 - MM J calendar at data/928-orp-jauche/u-12-mm-j.ics\n",
      "Generating 928 ORP JAUCHE - U 14 - PROV MM D calendar at data/928-orp-jauche/u-14-prov-mm-d.ics\n",
      "Generating 928 ORP JAUCHE - U 16 - DD B calendar at data/928-orp-jauche/u-16-dd-b.ics\n",
      "Generating 928 ORP JAUCHE - U 16 - PROV MM C calendar at data/928-orp-jauche/u-16-prov-mm-c.ics\n",
      "Generating 928 ORP JAUCHE - U 18 - ELITES MM C calendar at data/928-orp-jauche/u-18-elites-mm-c.ics\n"
     ]
    },
    {
     "name": "stderr",
     "output_type": "stream",
     "text": [
      "/var/folders/zn/0wszm2k93n1_tvmfqd8t1_sc0000gn/T/ipykernel_3934/4233784187.py:29: SettingWithCopyWarning: \n",
      "A value is trying to be set on a copy of a slice from a DataFrame\n",
      "\n",
      "See the caveats in the documentation: https://pandas.pydata.org/pandas-docs/stable/user_guide/indexing.html#returning-a-view-versus-a-copy\n",
      "  agenda.drop(\"Unknown\", axis=1, inplace=True)\n"
     ]
    },
    {
     "name": "stdout",
     "output_type": "stream",
     "text": [
      "Generating 928 ORP JAUCHE - U 19 - DD B calendar at data/928-orp-jauche/u-19-dd-b.ics\n",
      "Generating 928 ORP JAUCHE - U 8 - MM F calendar at data/928-orp-jauche/u-8-mm-f.ics\n"
     ]
    },
    {
     "name": "stderr",
     "output_type": "stream",
     "text": [
      "/Users/martin/Library/Python/3.9/lib/python/site-packages/bs4/__init__.py:228: UserWarning: You provided Unicode markup but also provided a value for from_encoding. Your from_encoding will be ignored.\n",
      "  warnings.warn(\"You provided Unicode markup but also provided a value for from_encoding. Your from_encoding will be ignored.\")\n"
     ]
    },
    {
     "name": "stdout",
     "output_type": "stream",
     "text": [
      "Agenda shape: (81, 9) from http://www.cpliege.be/Clubs/club1727.asp\n",
      "Generating 1727 ROYALE US AWANS - CPE PROV MESSIEURS calendar at data/1727-royale-us-awans/cpe-prov-messieurs.ics\n",
      "Generating 1727 ROYALE US AWANS - DD - DIVISION 2 A calendar at data/1727-royale-us-awans/dd-division-2-a.ics\n",
      "Generating 1727 ROYALE US AWANS - MM - DIVISION 3 A calendar at data/1727-royale-us-awans/mm-division-3-a.ics\n",
      "Generating 1727 ROYALE US AWANS - MM - DIVISION 4 C calendar at data/1727-royale-us-awans/mm-division-4-c.ics\n"
     ]
    },
    {
     "name": "stderr",
     "output_type": "stream",
     "text": [
      "/var/folders/zn/0wszm2k93n1_tvmfqd8t1_sc0000gn/T/ipykernel_3934/4233784187.py:29: SettingWithCopyWarning: \n",
      "A value is trying to be set on a copy of a slice from a DataFrame\n",
      "\n",
      "See the caveats in the documentation: https://pandas.pydata.org/pandas-docs/stable/user_guide/indexing.html#returning-a-view-versus-a-copy\n",
      "  agenda.drop(\"Unknown\", axis=1, inplace=True)\n",
      "/Users/martin/Library/Python/3.9/lib/python/site-packages/bs4/__init__.py:228: UserWarning: You provided Unicode markup but also provided a value for from_encoding. Your from_encoding will be ignored.\n",
      "  warnings.warn(\"You provided Unicode markup but also provided a value for from_encoding. Your from_encoding will be ignored.\")\n"
     ]
    },
    {
     "name": "stdout",
     "output_type": "stream",
     "text": [
      "Agenda shape: (231, 9) from http://www.cpliege.be/Clubs/club2663.asp\n",
      "Generating 2663 COLLEGE S LOUIS - CPE PROV MINIMES MM calendar at data/2663-college-s-louis/cpe-prov-minimes-mm.ics\n",
      "Generating 2663 COLLEGE S LOUIS - DD - DIVISION 2 A calendar at data/2663-college-s-louis/dd-division-2-a.ics\n",
      "Generating 2663 COLLEGE S LOUIS - U 10 - MM C calendar at data/2663-college-s-louis/u-10-mm-c.ics\n",
      "Generating 2663 COLLEGE S LOUIS - U 10 - MM I calendar at data/2663-college-s-louis/u-10-mm-i.ics\n",
      "Generating 2663 COLLEGE S LOUIS - U 12 - INTERPROVINCIAL calendar at data/2663-college-s-louis/u-12-interprovincial.ics\n",
      "Generating 2663 COLLEGE S LOUIS - U 12 - MM C calendar at data/2663-college-s-louis/u-12-mm-c.ics\n",
      "Generating 2663 COLLEGE S LOUIS - U 12 - MM G calendar at data/2663-college-s-louis/u-12-mm-g.ics\n",
      "Generating 2663 COLLEGE S LOUIS - U 14 - ELITES MM A calendar at data/2663-college-s-louis/u-14-elites-mm-a.ics\n",
      "Generating 2663 COLLEGE S LOUIS - U 14 - ELITES MM B calendar at data/2663-college-s-louis/u-14-elites-mm-b.ics\n",
      "Generating 2663 COLLEGE S LOUIS - U 16 - ELITES MM B calendar at data/2663-college-s-louis/u-16-elites-mm-b.ics\n",
      "Generating 2663 COLLEGE S LOUIS - U 16 - PROV MM C calendar at data/2663-college-s-louis/u-16-prov-mm-c.ics\n",
      "Generating 2663 COLLEGE S LOUIS - U 18 - ELITES MM B calendar at data/2663-college-s-louis/u-18-elites-mm-b.ics\n",
      "Generating 2663 COLLEGE S LOUIS - U 8 - MM E calendar at data/2663-college-s-louis/u-8-mm-e.ics\n"
     ]
    },
    {
     "name": "stderr",
     "output_type": "stream",
     "text": [
      "/var/folders/zn/0wszm2k93n1_tvmfqd8t1_sc0000gn/T/ipykernel_3934/4233784187.py:29: SettingWithCopyWarning: \n",
      "A value is trying to be set on a copy of a slice from a DataFrame\n",
      "\n",
      "See the caveats in the documentation: https://pandas.pydata.org/pandas-docs/stable/user_guide/indexing.html#returning-a-view-versus-a-copy\n",
      "  agenda.drop(\"Unknown\", axis=1, inplace=True)\n",
      "/Users/martin/Library/Python/3.9/lib/python/site-packages/bs4/__init__.py:228: UserWarning: You provided Unicode markup but also provided a value for from_encoding. Your from_encoding will be ignored.\n",
      "  warnings.warn(\"You provided Unicode markup but also provided a value for from_encoding. Your from_encoding will be ignored.\")\n"
     ]
    },
    {
     "name": "stdout",
     "output_type": "stream",
     "text": [
      "Agenda shape: (144, 9) from http://www.cpliege.be/clubs/club0169.asp\n",
      "Generating 169 BC VERVIERS - AW215001 calendar at data/169-bc-verviers/aw215001.ics\n",
      "Generating 169 BC VERVIERS - AW215003 calendar at data/169-bc-verviers/aw215003.ics\n",
      "Generating 169 BC VERVIERS - AW215006 calendar at data/169-bc-verviers/aw215006.ics\n",
      "Generating 169 BC VERVIERS - AWBB MM - POULE O calendar at data/169-bc-verviers/awbb-mm-poule-o.ics\n",
      "Generating 169 BC VERVIERS - MM - DIVISION 2 A calendar at data/169-bc-verviers/mm-division-2-a.ics\n",
      "Generating 169 BC VERVIERS - MM - DIVISION 2 B calendar at data/169-bc-verviers/mm-division-2-b.ics\n",
      "Generating 169 BC VERVIERS - MM - REGIONALE 1 calendar at data/169-bc-verviers/mm-regionale-1.ics\n",
      "Generating 169 BC VERVIERS - U 16 - ELITES MM A calendar at data/169-bc-verviers/u-16-elites-mm-a.ics\n",
      "Generating 169 BC VERVIERS - U 16 - ELITES MM B calendar at data/169-bc-verviers/u-16-elites-mm-b.ics\n",
      "Generating 169 BC VERVIERS - U 18 - ELITES MM A calendar at data/169-bc-verviers/u-18-elites-mm-a.ics\n"
     ]
    },
    {
     "name": "stderr",
     "output_type": "stream",
     "text": [
      "/var/folders/zn/0wszm2k93n1_tvmfqd8t1_sc0000gn/T/ipykernel_3934/4233784187.py:29: SettingWithCopyWarning: \n",
      "A value is trying to be set on a copy of a slice from a DataFrame\n",
      "\n",
      "See the caveats in the documentation: https://pandas.pydata.org/pandas-docs/stable/user_guide/indexing.html#returning-a-view-versus-a-copy\n",
      "  agenda.drop(\"Unknown\", axis=1, inplace=True)\n",
      "/Users/martin/Library/Python/3.9/lib/python/site-packages/bs4/__init__.py:228: UserWarning: You provided Unicode markup but also provided a value for from_encoding. Your from_encoding will be ignored.\n",
      "  warnings.warn(\"You provided Unicode markup but also provided a value for from_encoding. Your from_encoding will be ignored.\")\n"
     ]
    },
    {
     "name": "stdout",
     "output_type": "stream",
     "text": [
      "Agenda shape: (215, 9) from http://www.cpliege.be/clubs/club0961.asp\n",
      "Generating 961 RSW LIEGE BASKET - AW203005 calendar at data/961-rsw-liege-basket/aw203005.ics\n",
      "Generating 961 RSW LIEGE BASKET - AW203007 calendar at data/961-rsw-liege-basket/aw203007.ics\n",
      "Generating 961 RSW LIEGE BASKET - AW203010 calendar at data/961-rsw-liege-basket/aw203010.ics\n",
      "Generating 961 RSW LIEGE BASKET - AW203014 calendar at data/961-rsw-liege-basket/aw203014.ics\n",
      "Generating 961 RSW LIEGE BASKET - AWBB MM - POULE C calendar at data/961-rsw-liege-basket/awbb-mm-poule-c.ics\n",
      "Generating 961 RSW LIEGE BASKET - CPE PROV MESSIEURS calendar at data/961-rsw-liege-basket/cpe-prov-messieurs.ics\n",
      "Generating 961 RSW LIEGE BASKET - MM - DIVISION 4 A calendar at data/961-rsw-liege-basket/mm-division-4-a.ics\n",
      "Generating 961 RSW LIEGE BASKET - MM - REGIONALE 1 calendar at data/961-rsw-liege-basket/mm-regionale-1.ics\n",
      "Generating 961 RSW LIEGE BASKET - MM - REGIONALE 2 A calendar at data/961-rsw-liege-basket/mm-regionale-2-a.ics\n",
      "Generating 961 RSW LIEGE BASKET - U 10 - MM A calendar at data/961-rsw-liege-basket/u-10-mm-a.ics\n",
      "Generating 961 RSW LIEGE BASKET - U 12 - MM B calendar at data/961-rsw-liege-basket/u-12-mm-b.ics\n",
      "Generating 961 RSW LIEGE BASKET - U 14 - SILVER REGIONAUX A calendar at data/961-rsw-liege-basket/u-14-silver-regionaux-a.ics\n",
      "Generating 961 RSW LIEGE BASKET - U 18 - ELITES MM A calendar at data/961-rsw-liege-basket/u-18-elites-mm-a.ics\n",
      "Generating 961 RSW LIEGE BASKET - U 18 - ELITES MM B calendar at data/961-rsw-liege-basket/u-18-elites-mm-b.ics\n",
      "Generating 961 RSW LIEGE BASKET - U 18 - GOLD REGIONAUX A calendar at data/961-rsw-liege-basket/u-18-gold-regionaux-a.ics\n",
      "Generating 961 RSW LIEGE BASKET - U 21 - SILVER REGIONAUX B calendar at data/961-rsw-liege-basket/u-21-silver-regionaux-b.ics\n",
      "Generating 961 RSW LIEGE BASKET - U 8 - MM D calendar at data/961-rsw-liege-basket/u-8-mm-d.ics\n"
     ]
    },
    {
     "name": "stderr",
     "output_type": "stream",
     "text": [
      "/var/folders/zn/0wszm2k93n1_tvmfqd8t1_sc0000gn/T/ipykernel_3934/4233784187.py:29: SettingWithCopyWarning: \n",
      "A value is trying to be set on a copy of a slice from a DataFrame\n",
      "\n",
      "See the caveats in the documentation: https://pandas.pydata.org/pandas-docs/stable/user_guide/indexing.html#returning-a-view-versus-a-copy\n",
      "  agenda.drop(\"Unknown\", axis=1, inplace=True)\n",
      "/Users/martin/Library/Python/3.9/lib/python/site-packages/bs4/__init__.py:228: UserWarning: You provided Unicode markup but also provided a value for from_encoding. Your from_encoding will be ignored.\n",
      "  warnings.warn(\"You provided Unicode markup but also provided a value for from_encoding. Your from_encoding will be ignored.\")\n",
      "/var/folders/zn/0wszm2k93n1_tvmfqd8t1_sc0000gn/T/ipykernel_3934/4233784187.py:29: SettingWithCopyWarning: \n",
      "A value is trying to be set on a copy of a slice from a DataFrame\n",
      "\n",
      "See the caveats in the documentation: https://pandas.pydata.org/pandas-docs/stable/user_guide/indexing.html#returning-a-view-versus-a-copy\n",
      "  agenda.drop(\"Unknown\", axis=1, inplace=True)\n"
     ]
    },
    {
     "name": "stdout",
     "output_type": "stream",
     "text": [
      "Agenda shape: (46, 9) from http://www.cpliege.be/Clubs/club1728.asp\n",
      "Generating 1728 ROYAL BASKET OTHEE - CPE PROV MESSIEURS calendar at data/1728-royal-basket-othee/cpe-prov-messieurs.ics\n",
      "Generating 1728 ROYAL BASKET OTHEE - DD - DIVISION 3 B calendar at data/1728-royal-basket-othee/dd-division-3-b.ics\n",
      "Generating 1728 ROYAL BASKET OTHEE - MM - DIVISION 4 D calendar at data/1728-royal-basket-othee/mm-division-4-d.ics\n"
     ]
    },
    {
     "name": "stderr",
     "output_type": "stream",
     "text": [
      "/Users/martin/Library/Python/3.9/lib/python/site-packages/bs4/__init__.py:228: UserWarning: You provided Unicode markup but also provided a value for from_encoding. Your from_encoding will be ignored.\n",
      "  warnings.warn(\"You provided Unicode markup but also provided a value for from_encoding. Your from_encoding will be ignored.\")\n"
     ]
    },
    {
     "name": "stdout",
     "output_type": "stream",
     "text": [
      "Agenda shape: (105, 9) from http://www.cpliege.be/clubs/club0196.asp\n",
      "Generating 196 AVENIR JUPILLE - CPE PROV DAMES calendar at data/196-avenir-jupille/cpe-prov-dames.ics\n",
      "Generating 196 AVENIR JUPILLE - DD - DIVISION 2 A calendar at data/196-avenir-jupille/dd-division-2-a.ics\n",
      "Generating 196 AVENIR JUPILLE - DD - DIVISION 2 B calendar at data/196-avenir-jupille/dd-division-2-b.ics\n",
      "Generating 196 AVENIR JUPILLE - MM - DIVISION 3 A calendar at data/196-avenir-jupille/mm-division-3-a.ics\n",
      "Generating 196 AVENIR JUPILLE - MM - DIVISION 4 E calendar at data/196-avenir-jupille/mm-division-4-e.ics\n"
     ]
    },
    {
     "name": "stderr",
     "output_type": "stream",
     "text": [
      "/var/folders/zn/0wszm2k93n1_tvmfqd8t1_sc0000gn/T/ipykernel_3934/4233784187.py:29: SettingWithCopyWarning: \n",
      "A value is trying to be set on a copy of a slice from a DataFrame\n",
      "\n",
      "See the caveats in the documentation: https://pandas.pydata.org/pandas-docs/stable/user_guide/indexing.html#returning-a-view-versus-a-copy\n",
      "  agenda.drop(\"Unknown\", axis=1, inplace=True)\n",
      "/Users/martin/Library/Python/3.9/lib/python/site-packages/bs4/__init__.py:228: UserWarning: You provided Unicode markup but also provided a value for from_encoding. Your from_encoding will be ignored.\n",
      "  warnings.warn(\"You provided Unicode markup but also provided a value for from_encoding. Your from_encoding will be ignored.\")\n"
     ]
    },
    {
     "name": "stdout",
     "output_type": "stream",
     "text": [
      "Agenda shape: (374, 9) from http://www.cpliege.be/clubs/club1034.asp\n",
      "Generating 1034 RBC HANEFFE - AW212002 calendar at data/1034-rbc-haneffe/aw212002.ics\n",
      "Generating 1034 RBC HANEFFE - AW212004 calendar at data/1034-rbc-haneffe/aw212004.ics\n",
      "Generating 1034 RBC HANEFFE - AW212008 calendar at data/1034-rbc-haneffe/aw212008.ics\n",
      "Generating 1034 RBC HANEFFE - AW212010 calendar at data/1034-rbc-haneffe/aw212010.ics\n",
      "Generating 1034 RBC HANEFFE - AW232001 calendar at data/1034-rbc-haneffe/aw232001.ics\n",
      "Generating 1034 RBC HANEFFE - AW232005 calendar at data/1034-rbc-haneffe/aw232005.ics\n",
      "Generating 1034 RBC HANEFFE - AWBB DD - POULE L calendar at data/1034-rbc-haneffe/awbb-dd-poule-l.ics\n",
      "Generating 1034 RBC HANEFFE - AWBB MM - POULE L calendar at data/1034-rbc-haneffe/awbb-mm-poule-l.ics\n",
      "Generating 1034 RBC HANEFFE - CPE PROV DAMES calendar at data/1034-rbc-haneffe/cpe-prov-dames.ics\n",
      "Generating 1034 RBC HANEFFE - CPE PROV MESSIEURS calendar at data/1034-rbc-haneffe/cpe-prov-messieurs.ics\n",
      "Generating 1034 RBC HANEFFE - CPE PROV MINIMES MM calendar at data/1034-rbc-haneffe/cpe-prov-minimes-mm.ics\n",
      "Generating 1034 RBC HANEFFE - DD - DIVISION 2 A calendar at data/1034-rbc-haneffe/dd-division-2-a.ics\n",
      "Generating 1034 RBC HANEFFE - DD - DIVISION 2 B calendar at data/1034-rbc-haneffe/dd-division-2-b.ics\n",
      "Generating 1034 RBC HANEFFE - DD - DIVISION 3 B calendar at data/1034-rbc-haneffe/dd-division-3-b.ics\n",
      "Generating 1034 RBC HANEFFE - DD - REGIONALE 2 B calendar at data/1034-rbc-haneffe/dd-regionale-2-b.ics\n",
      "Generating 1034 RBC HANEFFE - MM - DIVISION 1 calendar at data/1034-rbc-haneffe/mm-division-1.ics\n",
      "Generating 1034 RBC HANEFFE - MM - DIVISION 3 B calendar at data/1034-rbc-haneffe/mm-division-3-b.ics\n",
      "Generating 1034 RBC HANEFFE - MM - DIVISION 4 A calendar at data/1034-rbc-haneffe/mm-division-4-a.ics\n",
      "Generating 1034 RBC HANEFFE - U 10 - MM K calendar at data/1034-rbc-haneffe/u-10-mm-k.ics\n",
      "Generating 1034 RBC HANEFFE - U 10 - MM L calendar at data/1034-rbc-haneffe/u-10-mm-l.ics\n",
      "Generating 1034 RBC HANEFFE - U 12 - MM H calendar at data/1034-rbc-haneffe/u-12-mm-h.ics\n",
      "Generating 1034 RBC HANEFFE - U 14 - DD B calendar at data/1034-rbc-haneffe/u-14-dd-b.ics\n"
     ]
    },
    {
     "name": "stderr",
     "output_type": "stream",
     "text": [
      "/var/folders/zn/0wszm2k93n1_tvmfqd8t1_sc0000gn/T/ipykernel_3934/4233784187.py:29: SettingWithCopyWarning: \n",
      "A value is trying to be set on a copy of a slice from a DataFrame\n",
      "\n",
      "See the caveats in the documentation: https://pandas.pydata.org/pandas-docs/stable/user_guide/indexing.html#returning-a-view-versus-a-copy\n",
      "  agenda.drop(\"Unknown\", axis=1, inplace=True)\n"
     ]
    },
    {
     "name": "stdout",
     "output_type": "stream",
     "text": [
      "Generating 1034 RBC HANEFFE - U 14 - SILVER REGIONAUX E calendar at data/1034-rbc-haneffe/u-14-silver-regionaux-e.ics\n",
      "Generating 1034 RBC HANEFFE - U 16 - ELITES MM A calendar at data/1034-rbc-haneffe/u-16-elites-mm-a.ics\n",
      "Generating 1034 RBC HANEFFE - U 16 - GOLD REGIONAUX A calendar at data/1034-rbc-haneffe/u-16-gold-regionaux-a.ics\n",
      "Generating 1034 RBC HANEFFE - U 18 - ELITES MM B calendar at data/1034-rbc-haneffe/u-18-elites-mm-b.ics\n",
      "Generating 1034 RBC HANEFFE - U 18 - GOLD REGIONAUX A calendar at data/1034-rbc-haneffe/u-18-gold-regionaux-a.ics\n",
      "Generating 1034 RBC HANEFFE - U 7 - MM C calendar at data/1034-rbc-haneffe/u-7-mm-c.ics\n",
      "Generating 1034 RBC HANEFFE - U 8 - MM F calendar at data/1034-rbc-haneffe/u-8-mm-f.ics\n"
     ]
    },
    {
     "name": "stderr",
     "output_type": "stream",
     "text": [
      "/Users/martin/Library/Python/3.9/lib/python/site-packages/bs4/__init__.py:228: UserWarning: You provided Unicode markup but also provided a value for from_encoding. Your from_encoding will be ignored.\n",
      "  warnings.warn(\"You provided Unicode markup but also provided a value for from_encoding. Your from_encoding will be ignored.\")\n"
     ]
    },
    {
     "name": "stdout",
     "output_type": "stream",
     "text": [
      "Agenda shape: (485, 9) from http://www.cpliege.be/Clubs/club1741.asp\n",
      "Generating 1741 ROYAL HERVE-BATTICE - AW227003 calendar at data/1741-royal-herve-battice/aw227003.ics\n",
      "Generating 1741 ROYAL HERVE-BATTICE - AW227005 calendar at data/1741-royal-herve-battice/aw227005.ics\n",
      "Generating 1741 ROYAL HERVE-BATTICE - AW230001 calendar at data/1741-royal-herve-battice/aw230001.ics\n",
      "Generating 1741 ROYAL HERVE-BATTICE - AW230005 calendar at data/1741-royal-herve-battice/aw230005.ics\n",
      "Generating 1741 ROYAL HERVE-BATTICE - AWBB DD - POULE G calendar at data/1741-royal-herve-battice/awbb-dd-poule-g.ics\n",
      "Generating 1741 ROYAL HERVE-BATTICE - AWBB DD - POULE J calendar at data/1741-royal-herve-battice/awbb-dd-poule-j.ics\n",
      "Generating 1741 ROYAL HERVE-BATTICE - DD - DIVISION 1 calendar at data/1741-royal-herve-battice/dd-division-1.ics\n",
      "Generating 1741 ROYAL HERVE-BATTICE - DD - DIVISION 3 A calendar at data/1741-royal-herve-battice/dd-division-3-a.ics\n",
      "Generating 1741 ROYAL HERVE-BATTICE - DD - REGIONALE 1 calendar at data/1741-royal-herve-battice/dd-regionale-1.ics\n",
      "Generating 1741 ROYAL HERVE-BATTICE - DD - REGIONALE 2 B calendar at data/1741-royal-herve-battice/dd-regionale-2-b.ics\n",
      "Generating 1741 ROYAL HERVE-BATTICE - MM - DIVISION 2 B calendar at data/1741-royal-herve-battice/mm-division-2-b.ics\n",
      "Generating 1741 ROYAL HERVE-BATTICE - MM - DIVISION 3 A calendar at data/1741-royal-herve-battice/mm-division-3-a.ics\n",
      "Generating 1741 ROYAL HERVE-BATTICE - MM - DIVISION 4 B calendar at data/1741-royal-herve-battice/mm-division-4-b.ics\n",
      "Generating 1741 ROYAL HERVE-BATTICE - U 10 - MM A calendar at data/1741-royal-herve-battice/u-10-mm-a.ics\n",
      "Generating 1741 ROYAL HERVE-BATTICE - U 10 - MM B calendar at data/1741-royal-herve-battice/u-10-mm-b.ics\n",
      "Generating 1741 ROYAL HERVE-BATTICE - U 10 - MM E calendar at data/1741-royal-herve-battice/u-10-mm-e.ics\n",
      "Generating 1741 ROYAL HERVE-BATTICE - U 10 - MM F calendar at data/1741-royal-herve-battice/u-10-mm-f.ics\n",
      "Generating 1741 ROYAL HERVE-BATTICE - U 10 - MM I calendar at data/1741-royal-herve-battice/u-10-mm-i.ics\n",
      "Generating 1741 ROYAL HERVE-BATTICE - U 12 - DD calendar at data/1741-royal-herve-battice/u-12-dd.ics\n",
      "Generating 1741 ROYAL HERVE-BATTICE - U 12 - MM A calendar at data/1741-royal-herve-battice/u-12-mm-a.ics\n",
      "Generating 1741 ROYAL HERVE-BATTICE - U 12 - MM D calendar at data/1741-royal-herve-battice/u-12-mm-d.ics\n",
      "Generating 1741 ROYAL HERVE-BATTICE - U 12 - MM G calendar at data/1741-royal-herve-battice/u-12-mm-g.ics\n"
     ]
    },
    {
     "name": "stderr",
     "output_type": "stream",
     "text": [
      "/var/folders/zn/0wszm2k93n1_tvmfqd8t1_sc0000gn/T/ipykernel_3934/4233784187.py:29: SettingWithCopyWarning: \n",
      "A value is trying to be set on a copy of a slice from a DataFrame\n",
      "\n",
      "See the caveats in the documentation: https://pandas.pydata.org/pandas-docs/stable/user_guide/indexing.html#returning-a-view-versus-a-copy\n",
      "  agenda.drop(\"Unknown\", axis=1, inplace=True)\n"
     ]
    },
    {
     "name": "stdout",
     "output_type": "stream",
     "text": [
      "Generating 1741 ROYAL HERVE-BATTICE - U 14 - DD A calendar at data/1741-royal-herve-battice/u-14-dd-a.ics\n",
      "Generating 1741 ROYAL HERVE-BATTICE - U 14 - ELITES MM A calendar at data/1741-royal-herve-battice/u-14-elites-mm-a.ics\n",
      "Generating 1741 ROYAL HERVE-BATTICE - U 16 - DD A calendar at data/1741-royal-herve-battice/u-16-dd-a.ics\n",
      "Generating 1741 ROYAL HERVE-BATTICE - U 19 - DD B calendar at data/1741-royal-herve-battice/u-19-dd-b.ics\n",
      "Generating 1741 ROYAL HERVE-BATTICE - U 7 - MM A calendar at data/1741-royal-herve-battice/u-7-mm-a.ics\n",
      "Generating 1741 ROYAL HERVE-BATTICE - U 7 - MM B calendar at data/1741-royal-herve-battice/u-7-mm-b.ics\n",
      "Generating 1741 ROYAL HERVE-BATTICE - U 8 - MM D calendar at data/1741-royal-herve-battice/u-8-mm-d.ics\n",
      "Generating 1741 ROYAL HERVE-BATTICE - U 8 - MM E calendar at data/1741-royal-herve-battice/u-8-mm-e.ics\n"
     ]
    },
    {
     "name": "stderr",
     "output_type": "stream",
     "text": [
      "/Users/martin/Library/Python/3.9/lib/python/site-packages/bs4/__init__.py:228: UserWarning: You provided Unicode markup but also provided a value for from_encoding. Your from_encoding will be ignored.\n",
      "  warnings.warn(\"You provided Unicode markup but also provided a value for from_encoding. Your from_encoding will be ignored.\")\n"
     ]
    },
    {
     "name": "stdout",
     "output_type": "stream",
     "text": [
      "Agenda shape: (233, 9) from http://www.cpliege.be/Clubs/club2700.asp\n",
      "Generating 2700 BC VERLAINE - CPE PROV DAMES calendar at data/2700-bc-verlaine/cpe-prov-dames.ics\n",
      "Generating 2700 BC VERLAINE - CPE PROV MESSIEURS calendar at data/2700-bc-verlaine/cpe-prov-messieurs.ics\n",
      "Generating 2700 BC VERLAINE - CPE PROV PUPILLES DD calendar at data/2700-bc-verlaine/cpe-prov-pupilles-dd.ics\n",
      "Generating 2700 BC VERLAINE - CPE PROV PUPILLES MM calendar at data/2700-bc-verlaine/cpe-prov-pupilles-mm.ics\n",
      "Generating 2700 BC VERLAINE - DD - DIVISION 2 B calendar at data/2700-bc-verlaine/dd-division-2-b.ics\n",
      "Generating 2700 BC VERLAINE - DD - DIVISION 3 B calendar at data/2700-bc-verlaine/dd-division-3-b.ics\n",
      "Generating 2700 BC VERLAINE - MM - DIVISION 4 A calendar at data/2700-bc-verlaine/mm-division-4-a.ics\n",
      "Generating 2700 BC VERLAINE - U 10 - MM K calendar at data/2700-bc-verlaine/u-10-mm-k.ics\n",
      "Generating 2700 BC VERLAINE - U 12 - MM D calendar at data/2700-bc-verlaine/u-12-mm-d.ics\n",
      "Generating 2700 BC VERLAINE - U 12 - MM J calendar at data/2700-bc-verlaine/u-12-mm-j.ics\n",
      "Generating 2700 BC VERLAINE - U 14 - DD B calendar at data/2700-bc-verlaine/u-14-dd-b.ics\n",
      "Generating 2700 BC VERLAINE - U 14 - PROV MM C calendar at data/2700-bc-verlaine/u-14-prov-mm-c.ics\n",
      "Generating 2700 BC VERLAINE - U 7 - MM B calendar at data/2700-bc-verlaine/u-7-mm-b.ics\n",
      "Generating 2700 BC VERLAINE - U 7 - MM D calendar at data/2700-bc-verlaine/u-7-mm-d.ics\n",
      "Generating 2700 BC VERLAINE - U 8 - MM E calendar at data/2700-bc-verlaine/u-8-mm-e.ics\n",
      "Generating 2700 BC VERLAINE - U 8 - MM F calendar at data/2700-bc-verlaine/u-8-mm-f.ics\n"
     ]
    },
    {
     "name": "stderr",
     "output_type": "stream",
     "text": [
      "/var/folders/zn/0wszm2k93n1_tvmfqd8t1_sc0000gn/T/ipykernel_3934/4233784187.py:29: SettingWithCopyWarning: \n",
      "A value is trying to be set on a copy of a slice from a DataFrame\n",
      "\n",
      "See the caveats in the documentation: https://pandas.pydata.org/pandas-docs/stable/user_guide/indexing.html#returning-a-view-versus-a-copy\n",
      "  agenda.drop(\"Unknown\", axis=1, inplace=True)\n",
      "/Users/martin/Library/Python/3.9/lib/python/site-packages/bs4/__init__.py:228: UserWarning: You provided Unicode markup but also provided a value for from_encoding. Your from_encoding will be ignored.\n",
      "  warnings.warn(\"You provided Unicode markup but also provided a value for from_encoding. Your from_encoding will be ignored.\")\n"
     ]
    },
    {
     "name": "stdout",
     "output_type": "stream",
     "text": [
      "Agenda shape: (62, 9) from http://www.cpliege.be/clubs/club0197.asp\n",
      "Generating 197 RJS GRIVEGNEE - MM - DIVISION 3 A calendar at data/197-rjs-grivegnee/mm-division-3-a.ics\n",
      "Generating 197 RJS GRIVEGNEE - U 12 - MM I calendar at data/197-rjs-grivegnee/u-12-mm-i.ics\n",
      "Generating 197 RJS GRIVEGNEE - U 14 - DD A calendar at data/197-rjs-grivegnee/u-14-dd-a.ics\n"
     ]
    },
    {
     "name": "stderr",
     "output_type": "stream",
     "text": [
      "/var/folders/zn/0wszm2k93n1_tvmfqd8t1_sc0000gn/T/ipykernel_3934/4233784187.py:29: SettingWithCopyWarning: \n",
      "A value is trying to be set on a copy of a slice from a DataFrame\n",
      "\n",
      "See the caveats in the documentation: https://pandas.pydata.org/pandas-docs/stable/user_guide/indexing.html#returning-a-view-versus-a-copy\n",
      "  agenda.drop(\"Unknown\", axis=1, inplace=True)\n",
      "/Users/martin/Library/Python/3.9/lib/python/site-packages/bs4/__init__.py:228: UserWarning: You provided Unicode markup but also provided a value for from_encoding. Your from_encoding will be ignored.\n",
      "  warnings.warn(\"You provided Unicode markup but also provided a value for from_encoding. Your from_encoding will be ignored.\")\n"
     ]
    },
    {
     "name": "stdout",
     "output_type": "stream",
     "text": [
      "Agenda shape: (553, 9) from http://www.cpliege.be/clubs/club1058.asp\n",
      "Generating 1058 BC BELLEFLAMME - AW207001 calendar at data/1058-bc-belleflamme/aw207001.ics\n",
      "Generating 1058 BC BELLEFLAMME - AW207004 calendar at data/1058-bc-belleflamme/aw207004.ics\n",
      "Generating 1058 BC BELLEFLAMME - AW207007 calendar at data/1058-bc-belleflamme/aw207007.ics\n",
      "Generating 1058 BC BELLEFLAMME - AW207013 calendar at data/1058-bc-belleflamme/aw207013.ics\n",
      "Generating 1058 BC BELLEFLAMME - AW221002 calendar at data/1058-bc-belleflamme/aw221002.ics\n",
      "Generating 1058 BC BELLEFLAMME - AW221003 calendar at data/1058-bc-belleflamme/aw221003.ics\n",
      "Generating 1058 BC BELLEFLAMME - AW221005 calendar at data/1058-bc-belleflamme/aw221005.ics\n",
      "Generating 1058 BC BELLEFLAMME - AWBB DD - POULE A calendar at data/1058-bc-belleflamme/awbb-dd-poule-a.ics\n",
      "Generating 1058 BC BELLEFLAMME - AWBB MM - POULE G calendar at data/1058-bc-belleflamme/awbb-mm-poule-g.ics\n",
      "Generating 1058 BC BELLEFLAMME - BELGIQUE MM - POULE A calendar at data/1058-bc-belleflamme/belgique-mm-poule-a.ics\n",
      "Generating 1058 BC BELLEFLAMME - BNAHSEPACE calendar at data/1058-bc-belleflamme/bnahsepace.ics\n",
      "Generating 1058 BC BELLEFLAMME - BNAHSEPADE calendar at data/1058-bc-belleflamme/bnahsepade.ics\n",
      "Generating 1058 BC BELLEFLAMME - BNAHSEPAEA calendar at data/1058-bc-belleflamme/bnahsepaea.ics\n",
      "Generating 1058 BC BELLEFLAMME - BNAHSEPAEB calendar at data/1058-bc-belleflamme/bnahsepaeb.ics\n",
      "Generating 1058 BC BELLEFLAMME - CPE BELG DAMES calendar at data/1058-bc-belleflamme/cpe-belg-dames.ics\n",
      "Generating 1058 BC BELLEFLAMME - CPE PROV DAMES calendar at data/1058-bc-belleflamme/cpe-prov-dames.ics\n",
      "Generating 1058 BC BELLEFLAMME - CPE PROV MESSIEURS calendar at data/1058-bc-belleflamme/cpe-prov-messieurs.ics\n",
      "Generating 1058 BC BELLEFLAMME - CPE PROV PUPILLES MM calendar at data/1058-bc-belleflamme/cpe-prov-pupilles-mm.ics\n",
      "Generating 1058 BC BELLEFLAMME - DD - DIVISION 1 calendar at data/1058-bc-belleflamme/dd-division-1.ics\n",
      "Generating 1058 BC BELLEFLAMME - DD - REGIONALE 2 A calendar at data/1058-bc-belleflamme/dd-regionale-2-a.ics\n",
      "Generating 1058 BC BELLEFLAMME - MM - DIVISION 1 calendar at data/1058-bc-belleflamme/mm-division-1.ics\n",
      "Generating 1058 BC BELLEFLAMME - MM - DIVISION 2 A calendar at data/1058-bc-belleflamme/mm-division-2-a.ics\n",
      "Generating 1058 BC BELLEFLAMME - MM - DIVISION 3 A calendar at data/1058-bc-belleflamme/mm-division-3-a.ics\n",
      "Generating 1058 BC BELLEFLAMME - MM - DIVISION 3 B calendar at data/1058-bc-belleflamme/mm-division-3-b.ics\n",
      "Generating 1058 BC BELLEFLAMME - MM - DIVISION 4 C calendar at data/1058-bc-belleflamme/mm-division-4-c.ics\n",
      "Generating 1058 BC BELLEFLAMME - TOP DIVISION MEN 2 A calendar at data/1058-bc-belleflamme/top-division-men-2-a.ics\n",
      "Generating 1058 BC BELLEFLAMME - U 10 - MM A calendar at data/1058-bc-belleflamme/u-10-mm-a.ics\n",
      "Generating 1058 BC BELLEFLAMME - U 10 - MM I calendar at data/1058-bc-belleflamme/u-10-mm-i.ics\n",
      "Generating 1058 BC BELLEFLAMME - U 12 - INTERPROVINCIAL calendar at data/1058-bc-belleflamme/u-12-interprovincial.ics\n",
      "Generating 1058 BC BELLEFLAMME - U 12 - MM B calendar at data/1058-bc-belleflamme/u-12-mm-b.ics\n",
      "Generating 1058 BC BELLEFLAMME - U 12 - MM C calendar at data/1058-bc-belleflamme/u-12-mm-c.ics\n",
      "Generating 1058 BC BELLEFLAMME - U 12 - MM E calendar at data/1058-bc-belleflamme/u-12-mm-e.ics\n",
      "Generating 1058 BC BELLEFLAMME - U 12 - MM G calendar at data/1058-bc-belleflamme/u-12-mm-g.ics\n"
     ]
    },
    {
     "name": "stderr",
     "output_type": "stream",
     "text": [
      "/var/folders/zn/0wszm2k93n1_tvmfqd8t1_sc0000gn/T/ipykernel_3934/4233784187.py:29: SettingWithCopyWarning: \n",
      "A value is trying to be set on a copy of a slice from a DataFrame\n",
      "\n",
      "See the caveats in the documentation: https://pandas.pydata.org/pandas-docs/stable/user_guide/indexing.html#returning-a-view-versus-a-copy\n",
      "  agenda.drop(\"Unknown\", axis=1, inplace=True)\n"
     ]
    },
    {
     "name": "stdout",
     "output_type": "stream",
     "text": [
      "Generating 1058 BC BELLEFLAMME - U 14 - GOLD REGIONALES B calendar at data/1058-bc-belleflamme/u-14-gold-regionales-b.ics\n",
      "Generating 1058 BC BELLEFLAMME - U 14 - SILVER REGIONALES A calendar at data/1058-bc-belleflamme/u-14-silver-regionales-a.ics\n",
      "Generating 1058 BC BELLEFLAMME - U 14 - SILVER REGIONAUX F calendar at data/1058-bc-belleflamme/u-14-silver-regionaux-f.ics\n",
      "Generating 1058 BC BELLEFLAMME - U 16 - GOLD REGIONALES A calendar at data/1058-bc-belleflamme/u-16-gold-regionales-a.ics\n",
      "Generating 1058 BC BELLEFLAMME - U 16 - SILVER REGIONALES C calendar at data/1058-bc-belleflamme/u-16-silver-regionales-c.ics\n",
      "Generating 1058 BC BELLEFLAMME - U 18 - ELITES MM A calendar at data/1058-bc-belleflamme/u-18-elites-mm-a.ics\n",
      "Generating 1058 BC BELLEFLAMME - U 18 - PROV MM calendar at data/1058-bc-belleflamme/u-18-prov-mm.ics\n",
      "Generating 1058 BC BELLEFLAMME - U 19 - SILVER REGIONALES B calendar at data/1058-bc-belleflamme/u-19-silver-regionales-b.ics\n",
      "Generating 1058 BC BELLEFLAMME - U 21 - GOLD REGIONAUX B calendar at data/1058-bc-belleflamme/u-21-gold-regionaux-b.ics\n",
      "Generating 1058 BC BELLEFLAMME - U 21 - MM A calendar at data/1058-bc-belleflamme/u-21-mm-a.ics\n",
      "Generating 1058 BC BELLEFLAMME - U 7 - MM A calendar at data/1058-bc-belleflamme/u-7-mm-a.ics\n",
      "Generating 1058 BC BELLEFLAMME - U 8 - MM C calendar at data/1058-bc-belleflamme/u-8-mm-c.ics\n",
      "Generating 1058 BC BELLEFLAMME - U 8 - MM D calendar at data/1058-bc-belleflamme/u-8-mm-d.ics\n"
     ]
    },
    {
     "name": "stderr",
     "output_type": "stream",
     "text": [
      "/Users/martin/Library/Python/3.9/lib/python/site-packages/bs4/__init__.py:228: UserWarning: You provided Unicode markup but also provided a value for from_encoding. Your from_encoding will be ignored.\n",
      "  warnings.warn(\"You provided Unicode markup but also provided a value for from_encoding. Your from_encoding will be ignored.\")\n",
      "/var/folders/zn/0wszm2k93n1_tvmfqd8t1_sc0000gn/T/ipykernel_3934/4233784187.py:29: SettingWithCopyWarning: \n",
      "A value is trying to be set on a copy of a slice from a DataFrame\n",
      "\n",
      "See the caveats in the documentation: https://pandas.pydata.org/pandas-docs/stable/user_guide/indexing.html#returning-a-view-versus-a-copy\n",
      "  agenda.drop(\"Unknown\", axis=1, inplace=True)\n"
     ]
    },
    {
     "name": "stdout",
     "output_type": "stream",
     "text": [
      "Agenda shape: (83, 9) from http://www.cpliege.be/Clubs/club1898.asp\n",
      "Generating 1898 BC SANKT VITH - CPE PROV MESSIEURS calendar at data/1898-bc-sankt-vith/cpe-prov-messieurs.ics\n",
      "Generating 1898 BC SANKT VITH - MM - DIVISION 3 C calendar at data/1898-bc-sankt-vith/mm-division-3-c.ics\n",
      "Generating 1898 BC SANKT VITH - U 10 - MM E calendar at data/1898-bc-sankt-vith/u-10-mm-e.ics\n",
      "Generating 1898 BC SANKT VITH - U 14 - PROV MM A calendar at data/1898-bc-sankt-vith/u-14-prov-mm-a.ics\n",
      "Generating 1898 BC SANKT VITH - U 19 - DD A calendar at data/1898-bc-sankt-vith/u-19-dd-a.ics\n"
     ]
    },
    {
     "name": "stderr",
     "output_type": "stream",
     "text": [
      "/Users/martin/Library/Python/3.9/lib/python/site-packages/bs4/__init__.py:228: UserWarning: You provided Unicode markup but also provided a value for from_encoding. Your from_encoding will be ignored.\n",
      "  warnings.warn(\"You provided Unicode markup but also provided a value for from_encoding. Your from_encoding will be ignored.\")\n"
     ]
    },
    {
     "name": "stdout",
     "output_type": "stream",
     "text": [
      "Agenda shape: (113, 9) from http://www.cpliege.be/clubs/club2708.asp\n",
      "Generating 2708 EAST BELGIUM BCA - U 14 - GOLD REGIONALES A calendar at data/2708-east-belgium-bca/u-14-gold-regionales-a.ics\n",
      "Generating 2708 EAST BELGIUM BCA - U 14 - GOLD REGIONAUX A calendar at data/2708-east-belgium-bca/u-14-gold-regionaux-a.ics\n",
      "Generating 2708 EAST BELGIUM BCA - U 14 - SILVER REGIONAUX C calendar at data/2708-east-belgium-bca/u-14-silver-regionaux-c.ics\n",
      "Generating 2708 EAST BELGIUM BCA - U 16 - GOLD REGIONALES B calendar at data/2708-east-belgium-bca/u-16-gold-regionales-b.ics\n",
      "Generating 2708 EAST BELGIUM BCA - U 16 - GOLD REGIONAUX A calendar at data/2708-east-belgium-bca/u-16-gold-regionaux-a.ics\n",
      "Generating 2708 EAST BELGIUM BCA - U 16 - SILVER REGIONALES C calendar at data/2708-east-belgium-bca/u-16-silver-regionales-c.ics\n",
      "Generating 2708 EAST BELGIUM BCA - U 16 - SILVER REGIONAUX A calendar at data/2708-east-belgium-bca/u-16-silver-regionaux-a.ics\n",
      "Generating 2708 EAST BELGIUM BCA - U 18 - GOLD REGIONAUX B calendar at data/2708-east-belgium-bca/u-18-gold-regionaux-b.ics\n",
      "Generating 2708 EAST BELGIUM BCA - U 19 - SILVER REGIONALES B calendar at data/2708-east-belgium-bca/u-19-silver-regionales-b.ics\n"
     ]
    },
    {
     "name": "stderr",
     "output_type": "stream",
     "text": [
      "/var/folders/zn/0wszm2k93n1_tvmfqd8t1_sc0000gn/T/ipykernel_3934/4233784187.py:29: SettingWithCopyWarning: \n",
      "A value is trying to be set on a copy of a slice from a DataFrame\n",
      "\n",
      "See the caveats in the documentation: https://pandas.pydata.org/pandas-docs/stable/user_guide/indexing.html#returning-a-view-versus-a-copy\n",
      "  agenda.drop(\"Unknown\", axis=1, inplace=True)\n",
      "/Users/martin/Library/Python/3.9/lib/python/site-packages/bs4/__init__.py:228: UserWarning: You provided Unicode markup but also provided a value for from_encoding. Your from_encoding will be ignored.\n",
      "  warnings.warn(\"You provided Unicode markup but also provided a value for from_encoding. Your from_encoding will be ignored.\")\n"
     ]
    },
    {
     "name": "stdout",
     "output_type": "stream",
     "text": [
      "Agenda shape: (385, 9) from http://www.cpliege.be/clubs/club0236.asp\n",
      "Generating 236 RBC AWANS - CPE PROV DAMES calendar at data/236-rbc-awans/cpe-prov-dames.ics\n",
      "Generating 236 RBC AWANS - CPE PROV MESSIEURS calendar at data/236-rbc-awans/cpe-prov-messieurs.ics\n",
      "Generating 236 RBC AWANS - CPE PROV PUPILLES MM calendar at data/236-rbc-awans/cpe-prov-pupilles-mm.ics\n",
      "Generating 236 RBC AWANS - DD - DIVISION 3 B calendar at data/236-rbc-awans/dd-division-3-b.ics\n",
      "Generating 236 RBC AWANS - MM - DIVISION 2 A calendar at data/236-rbc-awans/mm-division-2-a.ics\n",
      "Generating 236 RBC AWANS - MM - DIVISION 4 B calendar at data/236-rbc-awans/mm-division-4-b.ics\n",
      "Generating 236 RBC AWANS - MM - DIVISION 4 D calendar at data/236-rbc-awans/mm-division-4-d.ics\n",
      "Generating 236 RBC AWANS - U 10 - MM D calendar at data/236-rbc-awans/u-10-mm-d.ics\n",
      "Generating 236 RBC AWANS - U 10 - MM K calendar at data/236-rbc-awans/u-10-mm-k.ics\n",
      "Generating 236 RBC AWANS - U 12 - DD calendar at data/236-rbc-awans/u-12-dd.ics\n",
      "Generating 236 RBC AWANS - U 12 - MM B calendar at data/236-rbc-awans/u-12-mm-b.ics\n",
      "Generating 236 RBC AWANS - U 14 - DD B calendar at data/236-rbc-awans/u-14-dd-b.ics\n",
      "Generating 236 RBC AWANS - U 14 - ELITES MM B calendar at data/236-rbc-awans/u-14-elites-mm-b.ics\n",
      "Generating 236 RBC AWANS - U 14 - PROV MM D calendar at data/236-rbc-awans/u-14-prov-mm-d.ics\n",
      "Generating 236 RBC AWANS - U 16 - DD A calendar at data/236-rbc-awans/u-16-dd-a.ics\n",
      "Generating 236 RBC AWANS - U 16 - DD B calendar at data/236-rbc-awans/u-16-dd-b.ics\n",
      "Generating 236 RBC AWANS - U 16 - ELITES MM B calendar at data/236-rbc-awans/u-16-elites-mm-b.ics\n"
     ]
    },
    {
     "name": "stderr",
     "output_type": "stream",
     "text": [
      "/var/folders/zn/0wszm2k93n1_tvmfqd8t1_sc0000gn/T/ipykernel_3934/4233784187.py:29: SettingWithCopyWarning: \n",
      "A value is trying to be set on a copy of a slice from a DataFrame\n",
      "\n",
      "See the caveats in the documentation: https://pandas.pydata.org/pandas-docs/stable/user_guide/indexing.html#returning-a-view-versus-a-copy\n",
      "  agenda.drop(\"Unknown\", axis=1, inplace=True)\n"
     ]
    },
    {
     "name": "stdout",
     "output_type": "stream",
     "text": [
      "Generating 236 RBC AWANS - U 18 - ELITES MM C calendar at data/236-rbc-awans/u-18-elites-mm-c.ics\n",
      "Generating 236 RBC AWANS - U 18 - PROV MM calendar at data/236-rbc-awans/u-18-prov-mm.ics\n",
      "Generating 236 RBC AWANS - U 19 - DD A calendar at data/236-rbc-awans/u-19-dd-a.ics\n",
      "Generating 236 RBC AWANS - U 7 - MM D calendar at data/236-rbc-awans/u-7-mm-d.ics\n",
      "Generating 236 RBC AWANS - U 8 - MM E calendar at data/236-rbc-awans/u-8-mm-e.ics\n"
     ]
    },
    {
     "name": "stderr",
     "output_type": "stream",
     "text": [
      "/Users/martin/Library/Python/3.9/lib/python/site-packages/bs4/__init__.py:228: UserWarning: You provided Unicode markup but also provided a value for from_encoding. Your from_encoding will be ignored.\n",
      "  warnings.warn(\"You provided Unicode markup but also provided a value for from_encoding. Your from_encoding will be ignored.\")\n"
     ]
    },
    {
     "name": "stdout",
     "output_type": "stream",
     "text": [
      "Agenda shape: (477, 9) from http://www.cpliege.be/clubs/club1200.asp\n",
      "Generating 1200 BC NINANE - AW202002 calendar at data/1200-bc-ninane/aw202002.ics\n",
      "Generating 1200 BC NINANE - AW202005 calendar at data/1200-bc-ninane/aw202005.ics\n",
      "Generating 1200 BC NINANE - AW202011 calendar at data/1200-bc-ninane/aw202011.ics\n",
      "Generating 1200 BC NINANE - AW202013 calendar at data/1200-bc-ninane/aw202013.ics\n",
      "Generating 1200 BC NINANE - AW208005 calendar at data/1200-bc-ninane/aw208005.ics\n",
      "Generating 1200 BC NINANE - AW208007 calendar at data/1200-bc-ninane/aw208007.ics\n",
      "Generating 1200 BC NINANE - AW208010 calendar at data/1200-bc-ninane/aw208010.ics\n",
      "Generating 1200 BC NINANE - AW208014 calendar at data/1200-bc-ninane/aw208014.ics\n",
      "Generating 1200 BC NINANE - AWBB MM - POULE B calendar at data/1200-bc-ninane/awbb-mm-poule-b.ics\n",
      "Generating 1200 BC NINANE - AWBB MM - POULE H calendar at data/1200-bc-ninane/awbb-mm-poule-h.ics\n",
      "Generating 1200 BC NINANE - CPE PROV MESSIEURS calendar at data/1200-bc-ninane/cpe-prov-messieurs.ics\n",
      "Generating 1200 BC NINANE - CPE PROV MINIMES MM calendar at data/1200-bc-ninane/cpe-prov-minimes-mm.ics\n",
      "Generating 1200 BC NINANE - DD - DIVISION 2 A calendar at data/1200-bc-ninane/dd-division-2-a.ics\n",
      "Generating 1200 BC NINANE - DD - DIVISION 2 B calendar at data/1200-bc-ninane/dd-division-2-b.ics\n",
      "Generating 1200 BC NINANE - MM - DIVISION 3 B calendar at data/1200-bc-ninane/mm-division-3-b.ics\n",
      "Generating 1200 BC NINANE - MM - DIVISION 4 A calendar at data/1200-bc-ninane/mm-division-4-a.ics\n",
      "Generating 1200 BC NINANE - MM - DIVISION 4 B calendar at data/1200-bc-ninane/mm-division-4-b.ics\n",
      "Generating 1200 BC NINANE - MM - DIVISION 4 C calendar at data/1200-bc-ninane/mm-division-4-c.ics\n",
      "Generating 1200 BC NINANE - MM - REGIONALE 1 calendar at data/1200-bc-ninane/mm-regionale-1.ics\n",
      "Generating 1200 BC NINANE - MM - REGIONALE 2 B calendar at data/1200-bc-ninane/mm-regionale-2-b.ics\n",
      "Generating 1200 BC NINANE - U 10 - MM A calendar at data/1200-bc-ninane/u-10-mm-a.ics\n",
      "Generating 1200 BC NINANE - U 10 - MM G calendar at data/1200-bc-ninane/u-10-mm-g.ics\n",
      "Generating 1200 BC NINANE - U 12 - MM B calendar at data/1200-bc-ninane/u-12-mm-b.ics\n",
      "Generating 1200 BC NINANE - U 12 - MM E calendar at data/1200-bc-ninane/u-12-mm-e.ics\n",
      "Generating 1200 BC NINANE - U 14 - ELITES MM B calendar at data/1200-bc-ninane/u-14-elites-mm-b.ics\n",
      "Generating 1200 BC NINANE - U 14 - PROV MM B calendar at data/1200-bc-ninane/u-14-prov-mm-b.ics\n",
      "Generating 1200 BC NINANE - U 16 - DD B calendar at data/1200-bc-ninane/u-16-dd-b.ics\n",
      "Generating 1200 BC NINANE - U 16 - PROV MM B calendar at data/1200-bc-ninane/u-16-prov-mm-b.ics\n"
     ]
    },
    {
     "name": "stderr",
     "output_type": "stream",
     "text": [
      "/var/folders/zn/0wszm2k93n1_tvmfqd8t1_sc0000gn/T/ipykernel_3934/4233784187.py:29: SettingWithCopyWarning: \n",
      "A value is trying to be set on a copy of a slice from a DataFrame\n",
      "\n",
      "See the caveats in the documentation: https://pandas.pydata.org/pandas-docs/stable/user_guide/indexing.html#returning-a-view-versus-a-copy\n",
      "  agenda.drop(\"Unknown\", axis=1, inplace=True)\n"
     ]
    },
    {
     "name": "stdout",
     "output_type": "stream",
     "text": [
      "Generating 1200 BC NINANE - U 18 - ELITES MM C calendar at data/1200-bc-ninane/u-18-elites-mm-c.ics\n",
      "Generating 1200 BC NINANE - U 18 - PROV MM calendar at data/1200-bc-ninane/u-18-prov-mm.ics\n",
      "Generating 1200 BC NINANE - U 19 - DD A calendar at data/1200-bc-ninane/u-19-dd-a.ics\n",
      "Generating 1200 BC NINANE - U 7 - MM B calendar at data/1200-bc-ninane/u-7-mm-b.ics\n",
      "Generating 1200 BC NINANE - U 8 - MM A calendar at data/1200-bc-ninane/u-8-mm-a.ics\n"
     ]
    },
    {
     "name": "stderr",
     "output_type": "stream",
     "text": [
      "/Users/martin/Library/Python/3.9/lib/python/site-packages/bs4/__init__.py:228: UserWarning: You provided Unicode markup but also provided a value for from_encoding. Your from_encoding will be ignored.\n",
      "  warnings.warn(\"You provided Unicode markup but also provided a value for from_encoding. Your from_encoding will be ignored.\")\n"
     ]
    },
    {
     "name": "stdout",
     "output_type": "stream",
     "text": [
      "Agenda shape: (302, 9) from http://www.cpliege.be/Clubs/club2061.asp\n",
      "Generating 2061 THEUX BC - CPE PROV CADETS calendar at data/2061-theux-bc/cpe-prov-cadets.ics\n",
      "Generating 2061 THEUX BC - CPE PROV MESSIEURS calendar at data/2061-theux-bc/cpe-prov-messieurs.ics\n",
      "Generating 2061 THEUX BC - MM - DIVISION 1 calendar at data/2061-theux-bc/mm-division-1.ics\n",
      "Generating 2061 THEUX BC - MM - DIVISION 3 C calendar at data/2061-theux-bc/mm-division-3-c.ics\n",
      "Generating 2061 THEUX BC - MM - DIVISION 4 A calendar at data/2061-theux-bc/mm-division-4-a.ics\n",
      "Generating 2061 THEUX BC - MM - DIVISION 4 B calendar at data/2061-theux-bc/mm-division-4-b.ics\n",
      "Generating 2061 THEUX BC - U 10 - MM E calendar at data/2061-theux-bc/u-10-mm-e.ics\n",
      "Generating 2061 THEUX BC - U 10 - MM F calendar at data/2061-theux-bc/u-10-mm-f.ics\n",
      "Generating 2061 THEUX BC - U 12 - MM A calendar at data/2061-theux-bc/u-12-mm-a.ics\n",
      "Generating 2061 THEUX BC - U 12 - MM E calendar at data/2061-theux-bc/u-12-mm-e.ics\n",
      "Generating 2061 THEUX BC - U 14 - ELITES MM A calendar at data/2061-theux-bc/u-14-elites-mm-a.ics\n",
      "Generating 2061 THEUX BC - U 14 - PROV MM A calendar at data/2061-theux-bc/u-14-prov-mm-a.ics\n",
      "Generating 2061 THEUX BC - U 16 - PROV MM B calendar at data/2061-theux-bc/u-16-prov-mm-b.ics\n",
      "Generating 2061 THEUX BC - U 18 - ELITES MM A calendar at data/2061-theux-bc/u-18-elites-mm-a.ics\n"
     ]
    },
    {
     "name": "stderr",
     "output_type": "stream",
     "text": [
      "/var/folders/zn/0wszm2k93n1_tvmfqd8t1_sc0000gn/T/ipykernel_3934/4233784187.py:29: SettingWithCopyWarning: \n",
      "A value is trying to be set on a copy of a slice from a DataFrame\n",
      "\n",
      "See the caveats in the documentation: https://pandas.pydata.org/pandas-docs/stable/user_guide/indexing.html#returning-a-view-versus-a-copy\n",
      "  agenda.drop(\"Unknown\", axis=1, inplace=True)\n"
     ]
    },
    {
     "name": "stdout",
     "output_type": "stream",
     "text": [
      "Generating 2061 THEUX BC - U 21 - MM A calendar at data/2061-theux-bc/u-21-mm-a.ics\n",
      "Generating 2061 THEUX BC - U 7 - MM A calendar at data/2061-theux-bc/u-7-mm-a.ics\n",
      "Generating 2061 THEUX BC - U 8 - MM A calendar at data/2061-theux-bc/u-8-mm-a.ics\n"
     ]
    },
    {
     "name": "stderr",
     "output_type": "stream",
     "text": [
      "/Users/martin/Library/Python/3.9/lib/python/site-packages/bs4/__init__.py:228: UserWarning: You provided Unicode markup but also provided a value for from_encoding. Your from_encoding will be ignored.\n",
      "  warnings.warn(\"You provided Unicode markup but also provided a value for from_encoding. Your from_encoding will be ignored.\")\n"
     ]
    },
    {
     "name": "stdout",
     "output_type": "stream",
     "text": [
      "Agenda shape: (680, 9) from http://www.cpliege.be/clubs/club2722.asp\n",
      "Generating 2722 CRISTAL SGH - AW213001 calendar at data/2722-cristal-sgh/aw213001.ics\n",
      "Generating 2722 CRISTAL SGH - AW213004 calendar at data/2722-cristal-sgh/aw213004.ics\n",
      "Generating 2722 CRISTAL SGH - AW213007 calendar at data/2722-cristal-sgh/aw213007.ics\n",
      "Generating 2722 CRISTAL SGH - AW213013 calendar at data/2722-cristal-sgh/aw213013.ics\n",
      "Generating 2722 CRISTAL SGH - AWBB MM - POULE M calendar at data/2722-cristal-sgh/awbb-mm-poule-m.ics\n",
      "Generating 2722 CRISTAL SGH - CPE PROV CADETS calendar at data/2722-cristal-sgh/cpe-prov-cadets.ics\n",
      "Generating 2722 CRISTAL SGH - CPE PROV MESSIEURS calendar at data/2722-cristal-sgh/cpe-prov-messieurs.ics\n",
      "Generating 2722 CRISTAL SGH - CPE PROV PUPILLES MM calendar at data/2722-cristal-sgh/cpe-prov-pupilles-mm.ics\n",
      "Generating 2722 CRISTAL SGH - DD - DIVISION 2 B calendar at data/2722-cristal-sgh/dd-division-2-b.ics\n",
      "Generating 2722 CRISTAL SGH - DD - DIVISION 3 A calendar at data/2722-cristal-sgh/dd-division-3-a.ics\n",
      "Generating 2722 CRISTAL SGH - MM - DIVISION 1 calendar at data/2722-cristal-sgh/mm-division-1.ics\n",
      "Generating 2722 CRISTAL SGH - MM - DIVISION 3 B calendar at data/2722-cristal-sgh/mm-division-3-b.ics\n",
      "Generating 2722 CRISTAL SGH - MM - DIVISION 3 C calendar at data/2722-cristal-sgh/mm-division-3-c.ics\n",
      "Generating 2722 CRISTAL SGH - MM - DIVISION 4 B calendar at data/2722-cristal-sgh/mm-division-4-b.ics\n",
      "Generating 2722 CRISTAL SGH - MM - DIVISION 4 D calendar at data/2722-cristal-sgh/mm-division-4-d.ics\n",
      "Generating 2722 CRISTAL SGH - U 10 - MM E calendar at data/2722-cristal-sgh/u-10-mm-e.ics\n",
      "Generating 2722 CRISTAL SGH - U 10 - MM F calendar at data/2722-cristal-sgh/u-10-mm-f.ics\n",
      "Generating 2722 CRISTAL SGH - U 10 - MM G calendar at data/2722-cristal-sgh/u-10-mm-g.ics\n",
      "Generating 2722 CRISTAL SGH - U 10 - MM H calendar at data/2722-cristal-sgh/u-10-mm-h.ics\n",
      "Generating 2722 CRISTAL SGH - U 10 - MM I calendar at data/2722-cristal-sgh/u-10-mm-i.ics\n",
      "Generating 2722 CRISTAL SGH - U 10 - MM L calendar at data/2722-cristal-sgh/u-10-mm-l.ics\n",
      "Generating 2722 CRISTAL SGH - U 12 - DD calendar at data/2722-cristal-sgh/u-12-dd.ics\n",
      "Generating 2722 CRISTAL SGH - U 12 - MM C calendar at data/2722-cristal-sgh/u-12-mm-c.ics\n",
      "Generating 2722 CRISTAL SGH - U 12 - MM D calendar at data/2722-cristal-sgh/u-12-mm-d.ics\n"
     ]
    },
    {
     "name": "stderr",
     "output_type": "stream",
     "text": [
      "/var/folders/zn/0wszm2k93n1_tvmfqd8t1_sc0000gn/T/ipykernel_3934/4233784187.py:29: SettingWithCopyWarning: \n",
      "A value is trying to be set on a copy of a slice from a DataFrame\n",
      "\n",
      "See the caveats in the documentation: https://pandas.pydata.org/pandas-docs/stable/user_guide/indexing.html#returning-a-view-versus-a-copy\n",
      "  agenda.drop(\"Unknown\", axis=1, inplace=True)\n"
     ]
    },
    {
     "name": "stdout",
     "output_type": "stream",
     "text": [
      "Generating 2722 CRISTAL SGH - U 12 - MM E calendar at data/2722-cristal-sgh/u-12-mm-e.ics\n",
      "Generating 2722 CRISTAL SGH - U 14 - DD A calendar at data/2722-cristal-sgh/u-14-dd-a.ics\n",
      "Generating 2722 CRISTAL SGH - U 14 - ELITES MM B calendar at data/2722-cristal-sgh/u-14-elites-mm-b.ics\n",
      "Generating 2722 CRISTAL SGH - U 14 - PROV MM B calendar at data/2722-cristal-sgh/u-14-prov-mm-b.ics\n",
      "Generating 2722 CRISTAL SGH - U 14 - PROV MM C calendar at data/2722-cristal-sgh/u-14-prov-mm-c.ics\n",
      "Generating 2722 CRISTAL SGH - U 16 - ELITES MM A calendar at data/2722-cristal-sgh/u-16-elites-mm-a.ics\n",
      "Generating 2722 CRISTAL SGH - U 16 - ELITES MM B calendar at data/2722-cristal-sgh/u-16-elites-mm-b.ics\n",
      "Generating 2722 CRISTAL SGH - U 16 - PROV MM B calendar at data/2722-cristal-sgh/u-16-prov-mm-b.ics\n",
      "Generating 2722 CRISTAL SGH - U 16 - PROV MM C calendar at data/2722-cristal-sgh/u-16-prov-mm-c.ics\n",
      "Generating 2722 CRISTAL SGH - U 18 - ELITES MM A calendar at data/2722-cristal-sgh/u-18-elites-mm-a.ics\n",
      "Generating 2722 CRISTAL SGH - U 18 - ELITES MM B calendar at data/2722-cristal-sgh/u-18-elites-mm-b.ics\n",
      "Generating 2722 CRISTAL SGH - U 18 - PROV MM calendar at data/2722-cristal-sgh/u-18-prov-mm.ics\n",
      "Generating 2722 CRISTAL SGH - U 21 - MM B calendar at data/2722-cristal-sgh/u-21-mm-b.ics\n",
      "Generating 2722 CRISTAL SGH - U 21 - SILVER REGIONAUX B calendar at data/2722-cristal-sgh/u-21-silver-regionaux-b.ics\n",
      "Generating 2722 CRISTAL SGH - U 7 - MM B calendar at data/2722-cristal-sgh/u-7-mm-b.ics\n",
      "Generating 2722 CRISTAL SGH - U 7 - MM C calendar at data/2722-cristal-sgh/u-7-mm-c.ics\n",
      "Generating 2722 CRISTAL SGH - U 8 - MM B calendar at data/2722-cristal-sgh/u-8-mm-b.ics\n",
      "Generating 2722 CRISTAL SGH - U 8 - MM D calendar at data/2722-cristal-sgh/u-8-mm-d.ics\n"
     ]
    },
    {
     "name": "stderr",
     "output_type": "stream",
     "text": [
      "/Users/martin/Library/Python/3.9/lib/python/site-packages/bs4/__init__.py:228: UserWarning: You provided Unicode markup but also provided a value for from_encoding. Your from_encoding will be ignored.\n",
      "  warnings.warn(\"You provided Unicode markup but also provided a value for from_encoding. Your from_encoding will be ignored.\")\n"
     ]
    },
    {
     "name": "stdout",
     "output_type": "stream",
     "text": [
      "Agenda shape: (284, 9) from http://www.cpliege.be/clubs/club0425.asp\n",
      "Generating 425 ROYAL ANS BC - CPE PROV MESSIEURS calendar at data/425-royal-ans-bc/cpe-prov-messieurs.ics\n",
      "Generating 425 ROYAL ANS BC - DD - DIVISION 2 B calendar at data/425-royal-ans-bc/dd-division-2-b.ics\n",
      "Generating 425 ROYAL ANS BC - MM - DIVISION 4 B calendar at data/425-royal-ans-bc/mm-division-4-b.ics\n",
      "Generating 425 ROYAL ANS BC - MM - DIVISION 4 D calendar at data/425-royal-ans-bc/mm-division-4-d.ics\n",
      "Generating 425 ROYAL ANS BC - U 10 - MM C calendar at data/425-royal-ans-bc/u-10-mm-c.ics\n",
      "Generating 425 ROYAL ANS BC - U 10 - MM L calendar at data/425-royal-ans-bc/u-10-mm-l.ics\n",
      "Generating 425 ROYAL ANS BC - U 12 - MM C calendar at data/425-royal-ans-bc/u-12-mm-c.ics\n",
      "Generating 425 ROYAL ANS BC - U 12 - MM J calendar at data/425-royal-ans-bc/u-12-mm-j.ics\n",
      "Generating 425 ROYAL ANS BC - U 14 - PROV MM D calendar at data/425-royal-ans-bc/u-14-prov-mm-d.ics\n",
      "Generating 425 ROYAL ANS BC - U 16 - ELITES MM A calendar at data/425-royal-ans-bc/u-16-elites-mm-a.ics\n",
      "Generating 425 ROYAL ANS BC - U 18 - ELITES MM C calendar at data/425-royal-ans-bc/u-18-elites-mm-c.ics\n",
      "Generating 425 ROYAL ANS BC - U 18 - PROV MM calendar at data/425-royal-ans-bc/u-18-prov-mm.ics\n",
      "Generating 425 ROYAL ANS BC - U 21 - MM B calendar at data/425-royal-ans-bc/u-21-mm-b.ics\n",
      "Generating 425 ROYAL ANS BC - U 7 - MM D calendar at data/425-royal-ans-bc/u-7-mm-d.ics\n",
      "Generating 425 ROYAL ANS BC - U 8 - MM E calendar at data/425-royal-ans-bc/u-8-mm-e.ics\n"
     ]
    },
    {
     "name": "stderr",
     "output_type": "stream",
     "text": [
      "/var/folders/zn/0wszm2k93n1_tvmfqd8t1_sc0000gn/T/ipykernel_3934/4233784187.py:29: SettingWithCopyWarning: \n",
      "A value is trying to be set on a copy of a slice from a DataFrame\n",
      "\n",
      "See the caveats in the documentation: https://pandas.pydata.org/pandas-docs/stable/user_guide/indexing.html#returning-a-view-versus-a-copy\n",
      "  agenda.drop(\"Unknown\", axis=1, inplace=True)\n",
      "/Users/martin/Library/Python/3.9/lib/python/site-packages/bs4/__init__.py:228: UserWarning: You provided Unicode markup but also provided a value for from_encoding. Your from_encoding will be ignored.\n",
      "  warnings.warn(\"You provided Unicode markup but also provided a value for from_encoding. Your from_encoding will be ignored.\")\n"
     ]
    },
    {
     "name": "stdout",
     "output_type": "stream",
     "text": [
      "Agenda shape: (317, 9) from http://www.cpliege.be/clubs/club1215.asp\n",
      "Generating 1215 RBC DISON-ANDRIMONT - CPE PROV MESSIEURS calendar at data/1215-rbc-dison-andrimont/cpe-prov-messieurs.ics\n",
      "Generating 1215 RBC DISON-ANDRIMONT - DD - DIVISION 2 A calendar at data/1215-rbc-dison-andrimont/dd-division-2-a.ics\n",
      "Generating 1215 RBC DISON-ANDRIMONT - DD - DIVISION 3 C calendar at data/1215-rbc-dison-andrimont/dd-division-3-c.ics\n",
      "Generating 1215 RBC DISON-ANDRIMONT - MM - DIVISION 2 B calendar at data/1215-rbc-dison-andrimont/mm-division-2-b.ics\n",
      "Generating 1215 RBC DISON-ANDRIMONT - MM - DIVISION 3 B calendar at data/1215-rbc-dison-andrimont/mm-division-3-b.ics\n",
      "Generating 1215 RBC DISON-ANDRIMONT - MM - DIVISION 4 A calendar at data/1215-rbc-dison-andrimont/mm-division-4-a.ics\n",
      "Generating 1215 RBC DISON-ANDRIMONT - MM - DIVISION 4 C calendar at data/1215-rbc-dison-andrimont/mm-division-4-c.ics\n",
      "Generating 1215 RBC DISON-ANDRIMONT - U 10 - MM F calendar at data/1215-rbc-dison-andrimont/u-10-mm-f.ics\n",
      "Generating 1215 RBC DISON-ANDRIMONT - U 10 - MM H calendar at data/1215-rbc-dison-andrimont/u-10-mm-h.ics\n",
      "Generating 1215 RBC DISON-ANDRIMONT - U 12 - DD calendar at data/1215-rbc-dison-andrimont/u-12-dd.ics\n",
      "Generating 1215 RBC DISON-ANDRIMONT - U 12 - MM F calendar at data/1215-rbc-dison-andrimont/u-12-mm-f.ics\n",
      "Generating 1215 RBC DISON-ANDRIMONT - U 14 - DD A calendar at data/1215-rbc-dison-andrimont/u-14-dd-a.ics\n",
      "Generating 1215 RBC DISON-ANDRIMONT - U 14 - PROV MM B calendar at data/1215-rbc-dison-andrimont/u-14-prov-mm-b.ics\n",
      "Generating 1215 RBC DISON-ANDRIMONT - U 16 - DD A calendar at data/1215-rbc-dison-andrimont/u-16-dd-a.ics\n",
      "Generating 1215 RBC DISON-ANDRIMONT - U 16 - PROV MM A calendar at data/1215-rbc-dison-andrimont/u-16-prov-mm-a.ics\n",
      "Generating 1215 RBC DISON-ANDRIMONT - U 8 - MM B calendar at data/1215-rbc-dison-andrimont/u-8-mm-b.ics\n"
     ]
    },
    {
     "name": "stderr",
     "output_type": "stream",
     "text": [
      "/var/folders/zn/0wszm2k93n1_tvmfqd8t1_sc0000gn/T/ipykernel_3934/4233784187.py:29: SettingWithCopyWarning: \n",
      "A value is trying to be set on a copy of a slice from a DataFrame\n",
      "\n",
      "See the caveats in the documentation: https://pandas.pydata.org/pandas-docs/stable/user_guide/indexing.html#returning-a-view-versus-a-copy\n",
      "  agenda.drop(\"Unknown\", axis=1, inplace=True)\n",
      "/Users/martin/Library/Python/3.9/lib/python/site-packages/bs4/__init__.py:228: UserWarning: You provided Unicode markup but also provided a value for from_encoding. Your from_encoding will be ignored.\n",
      "  warnings.warn(\"You provided Unicode markup but also provided a value for from_encoding. Your from_encoding will be ignored.\")\n"
     ]
    },
    {
     "name": "stdout",
     "output_type": "stream",
     "text": [
      "Agenda shape: (373, 9) from http://www.cpliege.be/clubs/club2211.asp\n",
      "Generating 2211 HARIMALIA BC - AW201001 calendar at data/2211-harimalia-bc/aw201001.ics\n",
      "Generating 2211 HARIMALIA BC - AW201004 calendar at data/2211-harimalia-bc/aw201004.ics\n",
      "Generating 2211 HARIMALIA BC - AW201007 calendar at data/2211-harimalia-bc/aw201007.ics\n",
      "Generating 2211 HARIMALIA BC - AW201013 calendar at data/2211-harimalia-bc/aw201013.ics\n",
      "Generating 2211 HARIMALIA BC - AWBB MM - POULE A calendar at data/2211-harimalia-bc/awbb-mm-poule-a.ics\n",
      "Generating 2211 HARIMALIA BC - CPE PROV MESSIEURS calendar at data/2211-harimalia-bc/cpe-prov-messieurs.ics\n",
      "Generating 2211 HARIMALIA BC - MM - DIVISION 1 calendar at data/2211-harimalia-bc/mm-division-1.ics\n",
      "Generating 2211 HARIMALIA BC - MM - DIVISION 2 A calendar at data/2211-harimalia-bc/mm-division-2-a.ics\n",
      "Generating 2211 HARIMALIA BC - MM - DIVISION 2 B calendar at data/2211-harimalia-bc/mm-division-2-b.ics\n",
      "Generating 2211 HARIMALIA BC - MM - DIVISION 3 B calendar at data/2211-harimalia-bc/mm-division-3-b.ics\n",
      "Generating 2211 HARIMALIA BC - MM - DIVISION 4 C calendar at data/2211-harimalia-bc/mm-division-4-c.ics\n",
      "Generating 2211 HARIMALIA BC - MM - DIVISION 4 D calendar at data/2211-harimalia-bc/mm-division-4-d.ics\n",
      "Generating 2211 HARIMALIA BC - U 10 - MM G calendar at data/2211-harimalia-bc/u-10-mm-g.ics\n",
      "Generating 2211 HARIMALIA BC - U 10 - MM L calendar at data/2211-harimalia-bc/u-10-mm-l.ics\n",
      "Generating 2211 HARIMALIA BC - U 12 - MM E calendar at data/2211-harimalia-bc/u-12-mm-e.ics\n",
      "Generating 2211 HARIMALIA BC - U 12 - MM F calendar at data/2211-harimalia-bc/u-12-mm-f.ics\n",
      "Generating 2211 HARIMALIA BC - U 14 - ELITES MM B calendar at data/2211-harimalia-bc/u-14-elites-mm-b.ics\n",
      "Generating 2211 HARIMALIA BC - U 14 - PROV MM D calendar at data/2211-harimalia-bc/u-14-prov-mm-d.ics\n",
      "Generating 2211 HARIMALIA BC - U 16 - ELITES MM B calendar at data/2211-harimalia-bc/u-16-elites-mm-b.ics\n",
      "Generating 2211 HARIMALIA BC - U 16 - PROV MM B calendar at data/2211-harimalia-bc/u-16-prov-mm-b.ics\n",
      "Generating 2211 HARIMALIA BC - U 21 - MM A calendar at data/2211-harimalia-bc/u-21-mm-a.ics\n",
      "Generating 2211 HARIMALIA BC - U 21 - SILVER REGIONAUX A calendar at data/2211-harimalia-bc/u-21-silver-regionaux-a.ics\n",
      "Generating 2211 HARIMALIA BC - U 7 - MM C calendar at data/2211-harimalia-bc/u-7-mm-c.ics\n",
      "Generating 2211 HARIMALIA BC - U 8 - MM B calendar at data/2211-harimalia-bc/u-8-mm-b.ics\n"
     ]
    },
    {
     "name": "stderr",
     "output_type": "stream",
     "text": [
      "/var/folders/zn/0wszm2k93n1_tvmfqd8t1_sc0000gn/T/ipykernel_3934/4233784187.py:29: SettingWithCopyWarning: \n",
      "A value is trying to be set on a copy of a slice from a DataFrame\n",
      "\n",
      "See the caveats in the documentation: https://pandas.pydata.org/pandas-docs/stable/user_guide/indexing.html#returning-a-view-versus-a-copy\n",
      "  agenda.drop(\"Unknown\", axis=1, inplace=True)\n",
      "/Users/martin/Library/Python/3.9/lib/python/site-packages/bs4/__init__.py:228: UserWarning: You provided Unicode markup but also provided a value for from_encoding. Your from_encoding will be ignored.\n",
      "  warnings.warn(\"You provided Unicode markup but also provided a value for from_encoding. Your from_encoding will be ignored.\")\n"
     ]
    },
    {
     "name": "stdout",
     "output_type": "stream",
     "text": [
      "Agenda shape: (102, 9) from http://www.cpliege.be/clubs/club2724.asp\n",
      "Generating 2724 FLERON BBC - CPE PROV MESSIEURS calendar at data/2724-fleron-bbc/cpe-prov-messieurs.ics\n",
      "Generating 2724 FLERON BBC - MM - DIVISION 2 A calendar at data/2724-fleron-bbc/mm-division-2-a.ics\n",
      "Generating 2724 FLERON BBC - MM - DIVISION 3 A calendar at data/2724-fleron-bbc/mm-division-3-a.ics\n",
      "Generating 2724 FLERON BBC - U 10 - MM A calendar at data/2724-fleron-bbc/u-10-mm-a.ics\n",
      "Generating 2724 FLERON BBC - U 12 - MM H calendar at data/2724-fleron-bbc/u-12-mm-h.ics\n",
      "Generating 2724 FLERON BBC - U 8 - MM B calendar at data/2724-fleron-bbc/u-8-mm-b.ics\n"
     ]
    },
    {
     "name": "stderr",
     "output_type": "stream",
     "text": [
      "/var/folders/zn/0wszm2k93n1_tvmfqd8t1_sc0000gn/T/ipykernel_3934/4233784187.py:29: SettingWithCopyWarning: \n",
      "A value is trying to be set on a copy of a slice from a DataFrame\n",
      "\n",
      "See the caveats in the documentation: https://pandas.pydata.org/pandas-docs/stable/user_guide/indexing.html#returning-a-view-versus-a-copy\n",
      "  agenda.drop(\"Unknown\", axis=1, inplace=True)\n",
      "/Users/martin/Library/Python/3.9/lib/python/site-packages/bs4/__init__.py:228: UserWarning: You provided Unicode markup but also provided a value for from_encoding. Your from_encoding will be ignored.\n",
      "  warnings.warn(\"You provided Unicode markup but also provided a value for from_encoding. Your from_encoding will be ignored.\")\n"
     ]
    },
    {
     "name": "stdout",
     "output_type": "stream",
     "text": [
      "Agenda shape: (240, 9) from http://www.cpliege.be/clubs/club0428.asp\n",
      "Generating 428 MAIL. COMBLAIN - AW215001 calendar at data/428-mail-comblain/aw215001.ics\n",
      "Generating 428 MAIL. COMBLAIN - AW215004 calendar at data/428-mail-comblain/aw215004.ics\n",
      "Generating 428 MAIL. COMBLAIN - AW215005 calendar at data/428-mail-comblain/aw215005.ics\n",
      "Generating 428 MAIL. COMBLAIN - AWBB MM - POULE O calendar at data/428-mail-comblain/awbb-mm-poule-o.ics\n",
      "Generating 428 MAIL. COMBLAIN - BELGIQUE MM - POULE F calendar at data/428-mail-comblain/belgique-mm-poule-f.ics\n",
      "Generating 428 MAIL. COMBLAIN - BNAHSEPFAC calendar at data/428-mail-comblain/bnahsepfac.ics\n",
      "Generating 428 MAIL. COMBLAIN - BNAHSEPFBC calendar at data/428-mail-comblain/bnahsepfbc.ics\n",
      "Generating 428 MAIL. COMBLAIN - BNAHSEPFCD calendar at data/428-mail-comblain/bnahsepfcd.ics\n",
      "Generating 428 MAIL. COMBLAIN - CPE PROV DAMES calendar at data/428-mail-comblain/cpe-prov-dames.ics\n",
      "Generating 428 MAIL. COMBLAIN - CPE PROV PUPILLES MM calendar at data/428-mail-comblain/cpe-prov-pupilles-mm.ics\n",
      "Generating 428 MAIL. COMBLAIN - DD - DIVISION 3 C calendar at data/428-mail-comblain/dd-division-3-c.ics\n",
      "Generating 428 MAIL. COMBLAIN - MM - DIVISION 1 calendar at data/428-mail-comblain/mm-division-1.ics\n",
      "Generating 428 MAIL. COMBLAIN - MM - DIVISION 4 E calendar at data/428-mail-comblain/mm-division-4-e.ics\n",
      "Generating 428 MAIL. COMBLAIN - TOP DIVISION MEN 1 calendar at data/428-mail-comblain/top-division-men-1.ics\n",
      "Generating 428 MAIL. COMBLAIN - U 10 - MM I calendar at data/428-mail-comblain/u-10-mm-i.ics\n",
      "Generating 428 MAIL. COMBLAIN - U 12 - MM G calendar at data/428-mail-comblain/u-12-mm-g.ics\n",
      "Generating 428 MAIL. COMBLAIN - U 14 - DD B calendar at data/428-mail-comblain/u-14-dd-b.ics\n",
      "Generating 428 MAIL. COMBLAIN - U 14 - PROV MM C calendar at data/428-mail-comblain/u-14-prov-mm-c.ics\n",
      "Generating 428 MAIL. COMBLAIN - U 16 - DD A calendar at data/428-mail-comblain/u-16-dd-a.ics\n",
      "Generating 428 MAIL. COMBLAIN - U 18 - ELITES MM B calendar at data/428-mail-comblain/u-18-elites-mm-b.ics\n",
      "Generating 428 MAIL. COMBLAIN - U 8 - MM D calendar at data/428-mail-comblain/u-8-mm-d.ics\n"
     ]
    },
    {
     "name": "stderr",
     "output_type": "stream",
     "text": [
      "/var/folders/zn/0wszm2k93n1_tvmfqd8t1_sc0000gn/T/ipykernel_3934/4233784187.py:29: SettingWithCopyWarning: \n",
      "A value is trying to be set on a copy of a slice from a DataFrame\n",
      "\n",
      "See the caveats in the documentation: https://pandas.pydata.org/pandas-docs/stable/user_guide/indexing.html#returning-a-view-versus-a-copy\n",
      "  agenda.drop(\"Unknown\", axis=1, inplace=True)\n",
      "/Users/martin/Library/Python/3.9/lib/python/site-packages/bs4/__init__.py:228: UserWarning: You provided Unicode markup but also provided a value for from_encoding. Your from_encoding will be ignored.\n",
      "  warnings.warn(\"You provided Unicode markup but also provided a value for from_encoding. Your from_encoding will be ignored.\")\n"
     ]
    },
    {
     "name": "stdout",
     "output_type": "stream",
     "text": [
      "Agenda shape: (572, 9) from http://www.cpliege.be/clubs/club1245.asp\n",
      "Generating 1245 RBC VISE - CPE PROV CADETS calendar at data/1245-rbc-vise/cpe-prov-cadets.ics\n",
      "Generating 1245 RBC VISE - CPE PROV CADETTES calendar at data/1245-rbc-vise/cpe-prov-cadettes.ics\n",
      "Generating 1245 RBC VISE - CPE PROV DAMES calendar at data/1245-rbc-vise/cpe-prov-dames.ics\n",
      "Generating 1245 RBC VISE - CPE PROV MESSIEURS calendar at data/1245-rbc-vise/cpe-prov-messieurs.ics\n",
      "Generating 1245 RBC VISE - CPE PROV MINIMES DD calendar at data/1245-rbc-vise/cpe-prov-minimes-dd.ics\n",
      "Generating 1245 RBC VISE - CPE PROV MINIMES MM calendar at data/1245-rbc-vise/cpe-prov-minimes-mm.ics\n",
      "Generating 1245 RBC VISE - CPE PROV PUPILLES DD calendar at data/1245-rbc-vise/cpe-prov-pupilles-dd.ics\n",
      "Generating 1245 RBC VISE - CPE PROV PUPILLES MM calendar at data/1245-rbc-vise/cpe-prov-pupilles-mm.ics\n",
      "Generating 1245 RBC VISE - DD - DIVISION 2 B calendar at data/1245-rbc-vise/dd-division-2-b.ics\n",
      "Generating 1245 RBC VISE - DD - DIVISION 3 C calendar at data/1245-rbc-vise/dd-division-3-c.ics\n",
      "Generating 1245 RBC VISE - MM - DIVISION 2 A calendar at data/1245-rbc-vise/mm-division-2-a.ics\n",
      "Generating 1245 RBC VISE - MM - DIVISION 2 B calendar at data/1245-rbc-vise/mm-division-2-b.ics\n",
      "Generating 1245 RBC VISE - MM - DIVISION 3 C calendar at data/1245-rbc-vise/mm-division-3-c.ics\n",
      "Generating 1245 RBC VISE - MM - DIVISION 4 A calendar at data/1245-rbc-vise/mm-division-4-a.ics\n",
      "Generating 1245 RBC VISE - U 10 - MM B calendar at data/1245-rbc-vise/u-10-mm-b.ics\n",
      "Generating 1245 RBC VISE - U 10 - MM H calendar at data/1245-rbc-vise/u-10-mm-h.ics\n",
      "Generating 1245 RBC VISE - U 10 - MM I calendar at data/1245-rbc-vise/u-10-mm-i.ics\n",
      "Generating 1245 RBC VISE - U 12 - INTERPROVINCIAL calendar at data/1245-rbc-vise/u-12-interprovincial.ics\n",
      "Generating 1245 RBC VISE - U 12 - MM A calendar at data/1245-rbc-vise/u-12-mm-a.ics\n",
      "Generating 1245 RBC VISE - U 12 - MM G calendar at data/1245-rbc-vise/u-12-mm-g.ics\n",
      "Generating 1245 RBC VISE - U 14 - DD B calendar at data/1245-rbc-vise/u-14-dd-b.ics\n",
      "Generating 1245 RBC VISE - U 14 - ELITES MM A calendar at data/1245-rbc-vise/u-14-elites-mm-a.ics\n",
      "Generating 1245 RBC VISE - U 14 - PROV MM B calendar at data/1245-rbc-vise/u-14-prov-mm-b.ics\n"
     ]
    },
    {
     "name": "stderr",
     "output_type": "stream",
     "text": [
      "/var/folders/zn/0wszm2k93n1_tvmfqd8t1_sc0000gn/T/ipykernel_3934/4233784187.py:29: SettingWithCopyWarning: \n",
      "A value is trying to be set on a copy of a slice from a DataFrame\n",
      "\n",
      "See the caveats in the documentation: https://pandas.pydata.org/pandas-docs/stable/user_guide/indexing.html#returning-a-view-versus-a-copy\n",
      "  agenda.drop(\"Unknown\", axis=1, inplace=True)\n"
     ]
    },
    {
     "name": "stdout",
     "output_type": "stream",
     "text": [
      "Generating 1245 RBC VISE - U 14 - SILVER REGIONAUX B calendar at data/1245-rbc-vise/u-14-silver-regionaux-b.ics\n",
      "Generating 1245 RBC VISE - U 16 - DD A calendar at data/1245-rbc-vise/u-16-dd-a.ics\n",
      "Generating 1245 RBC VISE - U 16 - DD B calendar at data/1245-rbc-vise/u-16-dd-b.ics\n",
      "Generating 1245 RBC VISE - U 16 - ELITES MM A calendar at data/1245-rbc-vise/u-16-elites-mm-a.ics\n",
      "Generating 1245 RBC VISE - U 16 - PROV MM A calendar at data/1245-rbc-vise/u-16-prov-mm-a.ics\n",
      "Generating 1245 RBC VISE - U 18 - ELITES MM A calendar at data/1245-rbc-vise/u-18-elites-mm-a.ics\n",
      "Generating 1245 RBC VISE - U 18 - PROV MM calendar at data/1245-rbc-vise/u-18-prov-mm.ics\n",
      "Generating 1245 RBC VISE - U 18 - SILVER REGIONAUX C calendar at data/1245-rbc-vise/u-18-silver-regionaux-c.ics\n",
      "Generating 1245 RBC VISE - U 19 - DD B calendar at data/1245-rbc-vise/u-19-dd-b.ics\n",
      "Generating 1245 RBC VISE - U 19 - SILVER REGIONALES A calendar at data/1245-rbc-vise/u-19-silver-regionales-a.ics\n",
      "Generating 1245 RBC VISE - U 21 - SILVER REGIONAUX C calendar at data/1245-rbc-vise/u-21-silver-regionaux-c.ics\n",
      "Generating 1245 RBC VISE - U 7 - MM C calendar at data/1245-rbc-vise/u-7-mm-c.ics\n",
      "Generating 1245 RBC VISE - U 8 - MM A calendar at data/1245-rbc-vise/u-8-mm-a.ics\n",
      "Generating 1245 RBC VISE - U 8 - MM B calendar at data/1245-rbc-vise/u-8-mm-b.ics\n"
     ]
    },
    {
     "name": "stderr",
     "output_type": "stream",
     "text": [
      "/Users/martin/Library/Python/3.9/lib/python/site-packages/bs4/__init__.py:228: UserWarning: You provided Unicode markup but also provided a value for from_encoding. Your from_encoding will be ignored.\n",
      "  warnings.warn(\"You provided Unicode markup but also provided a value for from_encoding. Your from_encoding will be ignored.\")\n"
     ]
    },
    {
     "name": "stdout",
     "output_type": "stream",
     "text": [
      "Agenda shape: (206, 9) from http://www.cpliege.be/Clubs/club2309.asp\n",
      "Generating 2309 HANNUT BC - AW216001 calendar at data/2309-hannut-bc/aw216001.ics\n",
      "Generating 2309 HANNUT BC - AW216004 calendar at data/2309-hannut-bc/aw216004.ics\n",
      "Generating 2309 HANNUT BC - AW216005 calendar at data/2309-hannut-bc/aw216005.ics\n",
      "Generating 2309 HANNUT BC - AW236001 calendar at data/2309-hannut-bc/aw236001.ics\n",
      "Generating 2309 HANNUT BC - AW236003 calendar at data/2309-hannut-bc/aw236003.ics\n",
      "Generating 2309 HANNUT BC - AWBB DD - POULE P calendar at data/2309-hannut-bc/awbb-dd-poule-p.ics\n",
      "Generating 2309 HANNUT BC - AWBB MM - POULE P calendar at data/2309-hannut-bc/awbb-mm-poule-p.ics\n",
      "Generating 2309 HANNUT BC - CPE PROV MESSIEURS calendar at data/2309-hannut-bc/cpe-prov-messieurs.ics\n",
      "Generating 2309 HANNUT BC - DD - DIVISION 1 calendar at data/2309-hannut-bc/dd-division-1.ics\n",
      "Generating 2309 HANNUT BC - MM - DIVISION 1 calendar at data/2309-hannut-bc/mm-division-1.ics\n",
      "Generating 2309 HANNUT BC - MM - DIVISION 3 A calendar at data/2309-hannut-bc/mm-division-3-a.ics\n",
      "Generating 2309 HANNUT BC - MM - DIVISION 4 B calendar at data/2309-hannut-bc/mm-division-4-b.ics\n",
      "Generating 2309 HANNUT BC - U 10 - MM L calendar at data/2309-hannut-bc/u-10-mm-l.ics\n",
      "Generating 2309 HANNUT BC - U 12 - MM I calendar at data/2309-hannut-bc/u-12-mm-i.ics\n",
      "Generating 2309 HANNUT BC - U 14 - PROV MM D calendar at data/2309-hannut-bc/u-14-prov-mm-d.ics\n",
      "Generating 2309 HANNUT BC - U 16 - PROV MM B calendar at data/2309-hannut-bc/u-16-prov-mm-b.ics\n",
      "Generating 2309 HANNUT BC - U 7 - MM D calendar at data/2309-hannut-bc/u-7-mm-d.ics\n"
     ]
    },
    {
     "name": "stderr",
     "output_type": "stream",
     "text": [
      "/var/folders/zn/0wszm2k93n1_tvmfqd8t1_sc0000gn/T/ipykernel_3934/4233784187.py:29: SettingWithCopyWarning: \n",
      "A value is trying to be set on a copy of a slice from a DataFrame\n",
      "\n",
      "See the caveats in the documentation: https://pandas.pydata.org/pandas-docs/stable/user_guide/indexing.html#returning-a-view-versus-a-copy\n",
      "  agenda.drop(\"Unknown\", axis=1, inplace=True)\n",
      "/Users/martin/Library/Python/3.9/lib/python/site-packages/bs4/__init__.py:228: UserWarning: You provided Unicode markup but also provided a value for from_encoding. Your from_encoding will be ignored.\n",
      "  warnings.warn(\"You provided Unicode markup but also provided a value for from_encoding. Your from_encoding will be ignored.\")\n"
     ]
    },
    {
     "name": "stdout",
     "output_type": "stream",
     "text": [
      "Agenda shape: (131, 9) from http://www.cpliege.be/clubs/club2725.asp\n",
      "Generating 2725 CONDROZ MODAVE - U 10 - MM D calendar at data/2725-condroz-modave/u-10-mm-d.ics\n",
      "Generating 2725 CONDROZ MODAVE - U 10 - MM L calendar at data/2725-condroz-modave/u-10-mm-l.ics\n",
      "Generating 2725 CONDROZ MODAVE - U 12 - MM J calendar at data/2725-condroz-modave/u-12-mm-j.ics\n",
      "Generating 2725 CONDROZ MODAVE - U 14 - GOLD REGIONAUX B calendar at data/2725-condroz-modave/u-14-gold-regionaux-b.ics\n",
      "Generating 2725 CONDROZ MODAVE - U 16 - GOLD REGIONAUX B calendar at data/2725-condroz-modave/u-16-gold-regionaux-b.ics\n",
      "Generating 2725 CONDROZ MODAVE - U 16 - PROV MM C calendar at data/2725-condroz-modave/u-16-prov-mm-c.ics\n",
      "Generating 2725 CONDROZ MODAVE - U 7 - MM D calendar at data/2725-condroz-modave/u-7-mm-d.ics\n",
      "Generating 2725 CONDROZ MODAVE - U 8 - MM F calendar at data/2725-condroz-modave/u-8-mm-f.ics\n"
     ]
    },
    {
     "name": "stderr",
     "output_type": "stream",
     "text": [
      "/var/folders/zn/0wszm2k93n1_tvmfqd8t1_sc0000gn/T/ipykernel_3934/4233784187.py:29: SettingWithCopyWarning: \n",
      "A value is trying to be set on a copy of a slice from a DataFrame\n",
      "\n",
      "See the caveats in the documentation: https://pandas.pydata.org/pandas-docs/stable/user_guide/indexing.html#returning-a-view-versus-a-copy\n",
      "  agenda.drop(\"Unknown\", axis=1, inplace=True)\n",
      "/Users/martin/Library/Python/3.9/lib/python/site-packages/bs4/__init__.py:228: UserWarning: You provided Unicode markup but also provided a value for from_encoding. Your from_encoding will be ignored.\n",
      "  warnings.warn(\"You provided Unicode markup but also provided a value for from_encoding. Your from_encoding will be ignored.\")\n"
     ]
    },
    {
     "name": "stdout",
     "output_type": "stream",
     "text": [
      "Agenda shape: (230, 9) from http://www.cpliege.be/clubs/club0434.asp\n",
      "Generating 434 R.UN.BELLAIRE - AW229001 calendar at data/434-r-un-bellaire/aw229001.ics\n",
      "Generating 434 R.UN.BELLAIRE - AW229003 calendar at data/434-r-un-bellaire/aw229003.ics\n",
      "Generating 434 R.UN.BELLAIRE - AWBB DD - POULE I calendar at data/434-r-un-bellaire/awbb-dd-poule-i.ics\n",
      "Generating 434 R.UN.BELLAIRE - CPE PROV MESSIEURS calendar at data/434-r-un-bellaire/cpe-prov-messieurs.ics\n",
      "Generating 434 R.UN.BELLAIRE - DD - DIVISION 1 calendar at data/434-r-un-bellaire/dd-division-1.ics\n",
      "Generating 434 R.UN.BELLAIRE - DD - DIVISION 2 B calendar at data/434-r-un-bellaire/dd-division-2-b.ics\n",
      "Generating 434 R.UN.BELLAIRE - MM - DIVISION 2 B calendar at data/434-r-un-bellaire/mm-division-2-b.ics\n",
      "Generating 434 R.UN.BELLAIRE - MM - DIVISION 4 C calendar at data/434-r-un-bellaire/mm-division-4-c.ics\n",
      "Generating 434 R.UN.BELLAIRE - MM - DIVISION 4 E calendar at data/434-r-un-bellaire/mm-division-4-e.ics\n",
      "Generating 434 R.UN.BELLAIRE - U 10 - MM H calendar at data/434-r-un-bellaire/u-10-mm-h.ics\n",
      "Generating 434 R.UN.BELLAIRE - U 12 - MM H calendar at data/434-r-un-bellaire/u-12-mm-h.ics\n",
      "Generating 434 R.UN.BELLAIRE - U 14 - PROV MM B calendar at data/434-r-un-bellaire/u-14-prov-mm-b.ics\n",
      "Generating 434 R.UN.BELLAIRE - U 16 - PROV MM C calendar at data/434-r-un-bellaire/u-16-prov-mm-c.ics\n",
      "Generating 434 R.UN.BELLAIRE - U 8 - MM A calendar at data/434-r-un-bellaire/u-8-mm-a.ics\n"
     ]
    },
    {
     "name": "stderr",
     "output_type": "stream",
     "text": [
      "/var/folders/zn/0wszm2k93n1_tvmfqd8t1_sc0000gn/T/ipykernel_3934/4233784187.py:29: SettingWithCopyWarning: \n",
      "A value is trying to be set on a copy of a slice from a DataFrame\n",
      "\n",
      "See the caveats in the documentation: https://pandas.pydata.org/pandas-docs/stable/user_guide/indexing.html#returning-a-view-versus-a-copy\n",
      "  agenda.drop(\"Unknown\", axis=1, inplace=True)\n",
      "/Users/martin/Library/Python/3.9/lib/python/site-packages/bs4/__init__.py:228: UserWarning: You provided Unicode markup but also provided a value for from_encoding. Your from_encoding will be ignored.\n",
      "  warnings.warn(\"You provided Unicode markup but also provided a value for from_encoding. Your from_encoding will be ignored.\")\n"
     ]
    },
    {
     "name": "stdout",
     "output_type": "stream",
     "text": [
      "Agenda shape: (380, 9) from http://www.cpliege.be/clubs/club1298.asp\n",
      "Generating 1298 BC COINTE - AW210002 calendar at data/1298-bc-cointe/aw210002.ics\n",
      "Generating 1298 BC COINTE - AW210005 calendar at data/1298-bc-cointe/aw210005.ics\n",
      "Generating 1298 BC COINTE - AW210011 calendar at data/1298-bc-cointe/aw210011.ics\n",
      "Generating 1298 BC COINTE - AW210013 calendar at data/1298-bc-cointe/aw210013.ics\n",
      "Generating 1298 BC COINTE - AW233003 calendar at data/1298-bc-cointe/aw233003.ics\n",
      "Generating 1298 BC COINTE - AW233005 calendar at data/1298-bc-cointe/aw233005.ics\n",
      "Generating 1298 BC COINTE - AWBB DD - POULE M calendar at data/1298-bc-cointe/awbb-dd-poule-m.ics\n",
      "Generating 1298 BC COINTE - AWBB MM - POULE J calendar at data/1298-bc-cointe/awbb-mm-poule-j.ics\n",
      "Generating 1298 BC COINTE - BELGIQUE MM - POULE E calendar at data/1298-bc-cointe/belgique-mm-poule-e.ics\n",
      "Generating 1298 BC COINTE - BNAHSEPEBD calendar at data/1298-bc-cointe/bnahsepebd.ics\n",
      "Generating 1298 BC COINTE - BNAHSEPECD calendar at data/1298-bc-cointe/bnahsepecd.ics\n",
      "Generating 1298 BC COINTE - BNAHSEPEDA calendar at data/1298-bc-cointe/bnahsepeda.ics\n",
      "Generating 1298 BC COINTE - BNAHSEPEDE calendar at data/1298-bc-cointe/bnahsepede.ics\n",
      "Generating 1298 BC COINTE - CPE PROV CADETS calendar at data/1298-bc-cointe/cpe-prov-cadets.ics\n",
      "Generating 1298 BC COINTE - CPE PROV MESSIEURS calendar at data/1298-bc-cointe/cpe-prov-messieurs.ics\n",
      "Generating 1298 BC COINTE - CPE PROV MINIMES MM calendar at data/1298-bc-cointe/cpe-prov-minimes-mm.ics\n",
      "Generating 1298 BC COINTE - CPE PROV PUPILLES MM calendar at data/1298-bc-cointe/cpe-prov-pupilles-mm.ics\n",
      "Generating 1298 BC COINTE - DD - REGIONALE 2 B calendar at data/1298-bc-cointe/dd-regionale-2-b.ics\n",
      "Generating 1298 BC COINTE - MM - DIVISION 1 calendar at data/1298-bc-cointe/mm-division-1.ics\n",
      "Generating 1298 BC COINTE - MM - DIVISION 3 C calendar at data/1298-bc-cointe/mm-division-3-c.ics\n",
      "Generating 1298 BC COINTE - MM - DIVISION 4 D calendar at data/1298-bc-cointe/mm-division-4-d.ics\n",
      "Generating 1298 BC COINTE - TOP DIVISION MEN 2 A calendar at data/1298-bc-cointe/top-division-men-2-a.ics\n",
      "Generating 1298 BC COINTE - U 10 - MM D calendar at data/1298-bc-cointe/u-10-mm-d.ics\n",
      "Generating 1298 BC COINTE - U 10 - MM I calendar at data/1298-bc-cointe/u-10-mm-i.ics\n",
      "Generating 1298 BC COINTE - U 10 - MM J calendar at data/1298-bc-cointe/u-10-mm-j.ics\n",
      "Generating 1298 BC COINTE - U 12 - DD calendar at data/1298-bc-cointe/u-12-dd.ics\n",
      "Generating 1298 BC COINTE - U 12 - MM A calendar at data/1298-bc-cointe/u-12-mm-a.ics\n",
      "Generating 1298 BC COINTE - U 12 - MM B calendar at data/1298-bc-cointe/u-12-mm-b.ics\n",
      "Generating 1298 BC COINTE - U 14 - ELITES MM B calendar at data/1298-bc-cointe/u-14-elites-mm-b.ics\n",
      "Generating 1298 BC COINTE - U 16 - DD A calendar at data/1298-bc-cointe/u-16-dd-a.ics\n",
      "Generating 1298 BC COINTE - U 16 - PROV MM C calendar at data/1298-bc-cointe/u-16-prov-mm-c.ics\n",
      "Generating 1298 BC COINTE - U 18 - ELITES MM A calendar at data/1298-bc-cointe/u-18-elites-mm-a.ics\n",
      "Generating 1298 BC COINTE - U 18 - SILVER REGIONAUX B calendar at data/1298-bc-cointe/u-18-silver-regionaux-b.ics\n"
     ]
    },
    {
     "name": "stderr",
     "output_type": "stream",
     "text": [
      "/var/folders/zn/0wszm2k93n1_tvmfqd8t1_sc0000gn/T/ipykernel_3934/4233784187.py:29: SettingWithCopyWarning: \n",
      "A value is trying to be set on a copy of a slice from a DataFrame\n",
      "\n",
      "See the caveats in the documentation: https://pandas.pydata.org/pandas-docs/stable/user_guide/indexing.html#returning-a-view-versus-a-copy\n",
      "  agenda.drop(\"Unknown\", axis=1, inplace=True)\n"
     ]
    },
    {
     "name": "stdout",
     "output_type": "stream",
     "text": [
      "Generating 1298 BC COINTE - U 7 - MM B calendar at data/1298-bc-cointe/u-7-mm-b.ics\n",
      "Generating 1298 BC COINTE - U 8 - MM C calendar at data/1298-bc-cointe/u-8-mm-c.ics\n"
     ]
    },
    {
     "name": "stderr",
     "output_type": "stream",
     "text": [
      "/Users/martin/Library/Python/3.9/lib/python/site-packages/bs4/__init__.py:228: UserWarning: You provided Unicode markup but also provided a value for from_encoding. Your from_encoding will be ignored.\n",
      "  warnings.warn(\"You provided Unicode markup but also provided a value for from_encoding. Your from_encoding will be ignored.\")\n",
      "/var/folders/zn/0wszm2k93n1_tvmfqd8t1_sc0000gn/T/ipykernel_3934/4233784187.py:29: SettingWithCopyWarning: \n",
      "A value is trying to be set on a copy of a slice from a DataFrame\n",
      "\n",
      "See the caveats in the documentation: https://pandas.pydata.org/pandas-docs/stable/user_guide/indexing.html#returning-a-view-versus-a-copy\n",
      "  agenda.drop(\"Unknown\", axis=1, inplace=True)\n"
     ]
    },
    {
     "name": "stdout",
     "output_type": "stream",
     "text": [
      "Agenda shape: (27, 9) from http://www.cpliege.be/Clubs/club2329.asp\n",
      "Generating 2329 BC TORES LIEGE - CPE PROV MESSIEURS calendar at data/2329-bc-tores-liege/cpe-prov-messieurs.ics\n",
      "Generating 2329 BC TORES LIEGE - MM - DIVISION 4 D calendar at data/2329-bc-tores-liege/mm-division-4-d.ics\n"
     ]
    },
    {
     "name": "stderr",
     "output_type": "stream",
     "text": [
      "/Users/martin/Library/Python/3.9/lib/python/site-packages/bs4/__init__.py:228: UserWarning: You provided Unicode markup but also provided a value for from_encoding. Your from_encoding will be ignored.\n",
      "  warnings.warn(\"You provided Unicode markup but also provided a value for from_encoding. Your from_encoding will be ignored.\")\n",
      "/var/folders/zn/0wszm2k93n1_tvmfqd8t1_sc0000gn/T/ipykernel_3934/4233784187.py:29: SettingWithCopyWarning: \n",
      "A value is trying to be set on a copy of a slice from a DataFrame\n",
      "\n",
      "See the caveats in the documentation: https://pandas.pydata.org/pandas-docs/stable/user_guide/indexing.html#returning-a-view-versus-a-copy\n",
      "  agenda.drop(\"Unknown\", axis=1, inplace=True)\n"
     ]
    },
    {
     "name": "stdout",
     "output_type": "stream",
     "text": [
      "Agenda shape: (54, 9) from http://www.cpliege.be/clubs/club2731.asp\n",
      "Generating 2731 BC REVEIL - CPE PROV MESSIEURS calendar at data/2731-bc-reveil/cpe-prov-messieurs.ics\n",
      "Generating 2731 BC REVEIL - MM - DIVISION 3 C calendar at data/2731-bc-reveil/mm-division-3-c.ics\n",
      "Generating 2731 BC REVEIL - MM - DIVISION 4 E calendar at data/2731-bc-reveil/mm-division-4-e.ics\n"
     ]
    }
   ],
   "source": [
    "base_raw_path = (\n",
    "    \"https://raw.githubusercontent.com/tintamarre/sport-events-to-calendar/main/\"\n",
    ")\n",
    "\n",
    "md = \"# 🏀 Les clubs du CPLiège\\n\\n\"\n",
    "\n",
    "md += \"Ce dépôt contient les agendas des clubs de basket du CPLiège.\\n\\n\"\n",
    "md += \"Les agendas sont disponibles au format CSV et ICS.\\n\\n\"\n",
    "md += \"Les agendas sont mis à jour automatiquement toutes semaines.\\n\\n\"\n",
    "md += \"[L'agenda global](https://raw.githubusercontent.com/tintamarre/sport-events-to-calendar/main/data/CPLi%C3%A8ge.ics) est également disponible.\\n\\n\"\n",
    "md += \"Dernière mise à jour: \" + datetime.now().strftime(\"%d/%m/%Y %H:%M:%S\") + \"\\n\\n\"\n",
    "\n",
    "agenda = pd.DataFrame()\n",
    "\n",
    "for club_name, club_url in clubs_dict.items():\n",
    "    md += \"## [\" + club_name + \"](\" + club_url + \")\\n\\n\"\n",
    "\n",
    "    club_agenda = get_club_agenda(club_url)\n",
    "\n",
    "    agenda = pd.concat([agenda, club_agenda], ignore_index=True)\n",
    "\n",
    "    storage_path = \"data/\" + slugify.slugify(club_name)\n",
    "\n",
    "    if not os.path.exists(storage_path):\n",
    "        os.mkdir(storage_path)\n",
    "\n",
    "    club_agenda.to_csv(\n",
    "        storage_path + \"/\" + slugify.slugify(club_name) + \".csv\", index=False\n",
    "    )\n",
    "\n",
    "    md += (\n",
    "        \"* [Agenda](\"\n",
    "        + base_raw_path\n",
    "        + storage_path\n",
    "        + \"/\"\n",
    "        + slugify.slugify(club_name)\n",
    "        + \".csv)\\n\"\n",
    "    )\n",
    "\n",
    "    categories = club_agenda[\"Catégorie\"].unique()\n",
    "\n",
    "    for category in categories:\n",
    "        club_category_agenda = club_agenda[club_agenda[\"Catégorie\"] == category]\n",
    "\n",
    "        filename = (\n",
    "            storage_path\n",
    "            + \"/\"\n",
    "            + slugify.slugify(club_category_agenda[\"Catégorie\"].iloc[0])\n",
    "            + \".ics\"\n",
    "        )\n",
    "\n",
    "        cal_name = club_name + \" - \" + club_category_agenda[\"Catégorie\"].iloc[0]\n",
    "\n",
    "        print(f\"Generating {cal_name} calendar at {filename}\")\n",
    "        generate_ics(club_category_agenda, filename, cal_name, club_url)\n",
    "\n",
    "        md += (\n",
    "            \"* [\"\n",
    "            + category\n",
    "            + \"](\"\n",
    "            + base_raw_path\n",
    "            + storage_path\n",
    "            + \"/\"\n",
    "            + slugify.slugify(category)\n",
    "            + \".ics)\\n\"\n",
    "        )\n",
    "\n",
    "    md += \"\\n\"\n",
    "\n",
    "# remove duplicates from agenda\n",
    "agenda.drop_duplicates(inplace=True)\n",
    "generate_ics(\n",
    "    agenda, \"data/CPLiège.ics\", \"CPLiège\", \"http://www.cpliege.be/caleclub.asp\"\n",
    ")\n",
    "\n",
    "with open(\"listing.md\", \"w\") as f:\n",
    "    f.write(md)\n",
    "    f.close()"
   ]
  }
 ],
 "metadata": {
  "kernelspec": {
   "display_name": "Python 3",
   "language": "python",
   "name": "python3"
  },
  "language_info": {
   "codemirror_mode": {
    "name": "ipython",
    "version": 3
   },
   "file_extension": ".py",
   "mimetype": "text/x-python",
   "name": "python",
   "nbconvert_exporter": "python",
   "pygments_lexer": "ipython3",
   "version": "3.9.6"
  }
 },
 "nbformat": 4,
 "nbformat_minor": 2
}
